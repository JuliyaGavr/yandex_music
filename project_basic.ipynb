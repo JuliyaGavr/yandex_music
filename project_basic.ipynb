{
 "cells": [
  {
   "cell_type": "markdown",
   "metadata": {
    "id": "E0vqbgi9ay0H"
   },
   "source": [
    "# Яндекс.Музыка"
   ]
  },
  {
   "cell_type": "markdown",
   "metadata": {
    "id": "VUC88oWjTJw2"
   },
   "source": [
    "Сравнение Москвы и Петербурга окружено мифами. Например:\n",
    " * Москва — мегаполис, подчинённый жёсткому ритму рабочей недели;\n",
    " * Петербург — культурная столица, со своими вкусами.\n",
    "\n",
    "На данных Яндекс.Музыки вы сравните поведение пользователей двух столиц.\n",
    "\n",
    "**Цель исследования** — проверьте три гипотезы:\n",
    "1. Активность пользователей зависит от дня недели. Причём в Москве и Петербурге это проявляется по-разному.\n",
    "2. В понедельник утром в Москве преобладают одни жанры, а в Петербурге — другие. Так же и вечером пятницы преобладают разные жанры — в зависимости от города. \n",
    "3. Москва и Петербург предпочитают разные жанры музыки. В Москве чаще слушают поп-музыку, в Петербурге — русский рэп.\n",
    "\n",
    "**Ход исследования**\n",
    "\n",
    "Данные о поведении пользователей вы получите из файла `yandex_music_project.csv`. О качестве данных ничего не известно. Поэтому перед проверкой гипотез понадобится обзор данных. \n",
    "\n",
    "Вы проверите данные на ошибки и оцените их влияние на исследование. Затем, на этапе предобработки вы поищете возможность исправить самые критичные ошибки данных.\n",
    " \n",
    "Таким образом, исследование пройдёт в три этапа:\n",
    " 1. Обзор данных.\n",
    " 2. Предобработка данных.\n",
    " 3. Проверка гипотез.\n",
    "\n"
   ]
  },
  {
   "cell_type": "markdown",
   "metadata": {
    "id": "Ml1hmfXC_Zcs"
   },
   "source": [
    "## Обзор данных\n",
    "\n",
    "Составьте первое представление о данных Яндекс.Музыки.\n",
    "\n",
    "\n"
   ]
  },
  {
   "cell_type": "markdown",
   "metadata": {
    "id": "57eAOGIz_Zcs"
   },
   "source": [
    "Основной инструмент аналитика — `pandas`. Импортируйте эту библиотеку."
   ]
  },
  {
   "cell_type": "code",
   "execution_count": 40,
   "metadata": {
    "id": "AXN7PHPN_Zcs"
   },
   "outputs": [],
   "source": [
    "import pandas as pd # импорт библиотеки pandas"
   ]
  },
  {
   "cell_type": "markdown",
   "metadata": {
    "id": "SG23P8tt_Zcs"
   },
   "source": [
    "Прочитайте файл `yandex_music_project.csv` из папки `/datasets` и сохраните его в переменной `df`:"
   ]
  },
  {
   "cell_type": "code",
   "execution_count": 41,
   "metadata": {
    "id": "fFVu7vqh_Zct"
   },
   "outputs": [],
   "source": [
    "df = pd.read_csv('/datasets/yandex_music_project.csv') # чтение файла с данными и сохранение в df"
   ]
  },
  {
   "cell_type": "markdown",
   "metadata": {
    "id": "rDoOMd3uTqnZ"
   },
   "source": [
    "Выведите на экран первые десять строк таблицы:"
   ]
  },
  {
   "cell_type": "code",
   "execution_count": 42,
   "metadata": {
    "id": "oWTVX3gW_Zct"
   },
   "outputs": [
    {
     "data": {
      "text/html": [
       "<div>\n",
       "<style scoped>\n",
       "    .dataframe tbody tr th:only-of-type {\n",
       "        vertical-align: middle;\n",
       "    }\n",
       "\n",
       "    .dataframe tbody tr th {\n",
       "        vertical-align: top;\n",
       "    }\n",
       "\n",
       "    .dataframe thead th {\n",
       "        text-align: right;\n",
       "    }\n",
       "</style>\n",
       "<table border=\"1\" class=\"dataframe\">\n",
       "  <thead>\n",
       "    <tr style=\"text-align: right;\">\n",
       "      <th></th>\n",
       "      <th>userID</th>\n",
       "      <th>Track</th>\n",
       "      <th>artist</th>\n",
       "      <th>genre</th>\n",
       "      <th>City</th>\n",
       "      <th>time</th>\n",
       "      <th>Day</th>\n",
       "    </tr>\n",
       "  </thead>\n",
       "  <tbody>\n",
       "    <tr>\n",
       "      <th>0</th>\n",
       "      <td>FFB692EC</td>\n",
       "      <td>Kamigata To Boots</td>\n",
       "      <td>The Mass Missile</td>\n",
       "      <td>rock</td>\n",
       "      <td>Saint-Petersburg</td>\n",
       "      <td>20:28:33</td>\n",
       "      <td>Wednesday</td>\n",
       "    </tr>\n",
       "    <tr>\n",
       "      <th>1</th>\n",
       "      <td>55204538</td>\n",
       "      <td>Delayed Because of Accident</td>\n",
       "      <td>Andreas Rönnberg</td>\n",
       "      <td>rock</td>\n",
       "      <td>Moscow</td>\n",
       "      <td>14:07:09</td>\n",
       "      <td>Friday</td>\n",
       "    </tr>\n",
       "    <tr>\n",
       "      <th>2</th>\n",
       "      <td>20EC38</td>\n",
       "      <td>Funiculì funiculà</td>\n",
       "      <td>Mario Lanza</td>\n",
       "      <td>pop</td>\n",
       "      <td>Saint-Petersburg</td>\n",
       "      <td>20:58:07</td>\n",
       "      <td>Wednesday</td>\n",
       "    </tr>\n",
       "    <tr>\n",
       "      <th>3</th>\n",
       "      <td>A3DD03C9</td>\n",
       "      <td>Dragons in the Sunset</td>\n",
       "      <td>Fire + Ice</td>\n",
       "      <td>folk</td>\n",
       "      <td>Saint-Petersburg</td>\n",
       "      <td>08:37:09</td>\n",
       "      <td>Monday</td>\n",
       "    </tr>\n",
       "    <tr>\n",
       "      <th>4</th>\n",
       "      <td>E2DC1FAE</td>\n",
       "      <td>Soul People</td>\n",
       "      <td>Space Echo</td>\n",
       "      <td>dance</td>\n",
       "      <td>Moscow</td>\n",
       "      <td>08:34:34</td>\n",
       "      <td>Monday</td>\n",
       "    </tr>\n",
       "    <tr>\n",
       "      <th>5</th>\n",
       "      <td>842029A1</td>\n",
       "      <td>Преданная</td>\n",
       "      <td>IMPERVTOR</td>\n",
       "      <td>rusrap</td>\n",
       "      <td>Saint-Petersburg</td>\n",
       "      <td>13:09:41</td>\n",
       "      <td>Friday</td>\n",
       "    </tr>\n",
       "    <tr>\n",
       "      <th>6</th>\n",
       "      <td>4CB90AA5</td>\n",
       "      <td>True</td>\n",
       "      <td>Roman Messer</td>\n",
       "      <td>dance</td>\n",
       "      <td>Moscow</td>\n",
       "      <td>13:00:07</td>\n",
       "      <td>Wednesday</td>\n",
       "    </tr>\n",
       "    <tr>\n",
       "      <th>7</th>\n",
       "      <td>F03E1C1F</td>\n",
       "      <td>Feeling This Way</td>\n",
       "      <td>Polina Griffith</td>\n",
       "      <td>dance</td>\n",
       "      <td>Moscow</td>\n",
       "      <td>20:47:49</td>\n",
       "      <td>Wednesday</td>\n",
       "    </tr>\n",
       "    <tr>\n",
       "      <th>8</th>\n",
       "      <td>8FA1D3BE</td>\n",
       "      <td>И вновь продолжается бой</td>\n",
       "      <td>NaN</td>\n",
       "      <td>ruspop</td>\n",
       "      <td>Moscow</td>\n",
       "      <td>09:17:40</td>\n",
       "      <td>Friday</td>\n",
       "    </tr>\n",
       "    <tr>\n",
       "      <th>9</th>\n",
       "      <td>E772D5C0</td>\n",
       "      <td>Pessimist</td>\n",
       "      <td>NaN</td>\n",
       "      <td>dance</td>\n",
       "      <td>Saint-Petersburg</td>\n",
       "      <td>21:20:49</td>\n",
       "      <td>Wednesday</td>\n",
       "    </tr>\n",
       "  </tbody>\n",
       "</table>\n",
       "</div>"
      ],
      "text/plain": [
       "     userID                        Track            artist   genre  \\\n",
       "0  FFB692EC            Kamigata To Boots  The Mass Missile    rock   \n",
       "1  55204538  Delayed Because of Accident  Andreas Rönnberg    rock   \n",
       "2    20EC38            Funiculì funiculà       Mario Lanza     pop   \n",
       "3  A3DD03C9        Dragons in the Sunset        Fire + Ice    folk   \n",
       "4  E2DC1FAE                  Soul People        Space Echo   dance   \n",
       "5  842029A1                    Преданная         IMPERVTOR  rusrap   \n",
       "6  4CB90AA5                         True      Roman Messer   dance   \n",
       "7  F03E1C1F             Feeling This Way   Polina Griffith   dance   \n",
       "8  8FA1D3BE     И вновь продолжается бой               NaN  ruspop   \n",
       "9  E772D5C0                    Pessimist               NaN   dance   \n",
       "\n",
       "             City        time        Day  \n",
       "0  Saint-Petersburg  20:28:33  Wednesday  \n",
       "1            Moscow  14:07:09     Friday  \n",
       "2  Saint-Petersburg  20:58:07  Wednesday  \n",
       "3  Saint-Petersburg  08:37:09     Monday  \n",
       "4            Moscow  08:34:34     Monday  \n",
       "5  Saint-Petersburg  13:09:41     Friday  \n",
       "6            Moscow  13:00:07  Wednesday  \n",
       "7            Moscow  20:47:49  Wednesday  \n",
       "8            Moscow  09:17:40     Friday  \n",
       "9  Saint-Petersburg  21:20:49  Wednesday  "
      ]
     },
     "metadata": {},
     "output_type": "display_data"
    }
   ],
   "source": [
    "display(df.head(10)) # получение первых 10 строк таблицы df"
   ]
  },
  {
   "cell_type": "markdown",
   "metadata": {
    "id": "EO73Kwic_Zct"
   },
   "source": [
    "Одной командой получить общую информацию о таблице:"
   ]
  },
  {
   "cell_type": "code",
   "execution_count": 43,
   "metadata": {
    "id": "DSf2kIb-_Zct"
   },
   "outputs": [
    {
     "name": "stdout",
     "output_type": "stream",
     "text": [
      "<class 'pandas.core.frame.DataFrame'>\n",
      "RangeIndex: 65079 entries, 0 to 65078\n",
      "Data columns (total 7 columns):\n",
      " #   Column    Non-Null Count  Dtype \n",
      "---  ------    --------------  ----- \n",
      " 0     userID  65079 non-null  object\n",
      " 1   Track     63848 non-null  object\n",
      " 2   artist    57876 non-null  object\n",
      " 3   genre     63881 non-null  object\n",
      " 4     City    65079 non-null  object\n",
      " 5   time      65079 non-null  object\n",
      " 6   Day       65079 non-null  object\n",
      "dtypes: object(7)\n",
      "memory usage: 3.5+ MB\n"
     ]
    }
   ],
   "source": [
    "df.info() # получение общей информации о данных в таблице df"
   ]
  },
  {
   "cell_type": "markdown",
   "metadata": {
    "id": "TaQ2Iwbr_Zct"
   },
   "source": [
    "Итак, в таблице семь столбцов. Тип данных во всех столбцах — `object`.\n",
    "\n",
    "Согласно документации к данным:\n",
    "* `userID` — идентификатор пользователя;\n",
    "* `Track` — название трека;  \n",
    "* `artist` — имя исполнителя;\n",
    "* `genre` — название жанра;\n",
    "* `City` — город пользователя;\n",
    "* `time` — время начала прослушивания;\n",
    "* `Day` — день недели.\n",
    "\n",
    "В названиях колонок видны три нарушения стиля:\n",
    "1. Строчные буквы сочетаются с прописными.\n",
    "2. Встречаются пробелы.\n",
    "3. Названия колонок не соотвествтвуют \"змеиному_регистру\".\n",
    "\n",
    "\n",
    "\n",
    "Количество значений в столбцах различается. Значит, в данных есть пропущенные значения.\n"
   ]
  },
  {
   "cell_type": "markdown",
   "metadata": {
    "id": "MCB6-dXG_Zct"
   },
   "source": [
    "**Выводы**\n",
    "\n",
    "В каждой строке таблицы — данные о прослушанном треке. Часть колонок описывает саму композицию: название, исполнителя и жанр. Остальные данные рассказывают о пользователе: из какого он города, когда он слушал музыку. \n",
    "\n",
    "Предварительно можно утверждать, что, данных достаточно для проверки гипотез. Но встречаются пропуски в данных, а в названиях колонок — расхождения с хорошим стилем.\n",
    "\n",
    "Чтобы двигаться дальше, нужно устранить проблемы в данных."
   ]
  },
  {
   "cell_type": "markdown",
   "metadata": {
    "id": "SjYF6Ub9_Zct"
   },
   "source": [
    "## Предобработка данных\n",
    "Исправьте стиль в заголовках столбцов, исключите пропуски. Затем проверьте данные на дубликаты."
   ]
  },
  {
   "cell_type": "markdown",
   "metadata": {
    "id": "dIaKXr29_Zct"
   },
   "source": [
    "### Стиль заголовков\n",
    "Выведите на экран названия столбцов:"
   ]
  },
  {
   "cell_type": "code",
   "execution_count": 44,
   "metadata": {
    "id": "oKOTdF_Q_Zct"
   },
   "outputs": [
    {
     "data": {
      "text/plain": [
       "Index(['  userID', 'Track', 'artist', 'genre', '  City  ', 'time', 'Day'], dtype='object')"
      ]
     },
     "execution_count": 44,
     "metadata": {},
     "output_type": "execute_result"
    }
   ],
   "source": [
    "# перечень названий столбцов таблицы df\n",
    "df.columns "
   ]
  },
  {
   "cell_type": "markdown",
   "metadata": {
    "id": "FPZA3ki8xe7T"
   },
   "source": []
  },
  {
   "cell_type": "markdown",
   "metadata": {
    "id": "zj5534cv_Zct"
   },
   "source": [
    "Приведите названия в соответствие с хорошим стилем:\n",
    "* несколько слов в названии запишите в «змеином_регистре»,\n",
    "* все символы сделайте строчными,\n",
    "* устраните пробелы.\n",
    "\n",
    "Для этого переименуйте колонки так:\n",
    "* `'  userID'` → `'user_id'`;\n",
    "* `'Track'` → `'track'`;\n",
    "* `'  City  '` → `'city'`;\n",
    "* `'Day'` → `'day'`."
   ]
  },
  {
   "cell_type": "code",
   "execution_count": 45,
   "metadata": {
    "id": "ISlFqs5y_Zct"
   },
   "outputs": [],
   "source": [
    "# переименование столбцов\n",
    "df = df.rename(columns={'  userID': 'user_id', 'Track': 'track', '  City  ': 'city', 'Day': 'day'}) "
   ]
  },
  {
   "cell_type": "markdown",
   "metadata": {
    "id": "1dqbh00J_Zct"
   },
   "source": [
    "Проверьте результат. Для этого ещё раз выведите на экран названия столбцов:"
   ]
  },
  {
   "cell_type": "code",
   "execution_count": 46,
   "metadata": {
    "id": "d4NOAmTW_Zct"
   },
   "outputs": [
    {
     "data": {
      "text/plain": [
       "Index(['user_id', 'track', 'artist', 'genre', 'city', 'time', 'day'], dtype='object')"
      ]
     },
     "execution_count": 46,
     "metadata": {},
     "output_type": "execute_result"
    }
   ],
   "source": [
    "# проверка результатов - перечень названий столбцов\n",
    "df.columns "
   ]
  },
  {
   "cell_type": "markdown",
   "metadata": {
    "id": "5ISfbcfY_Zct"
   },
   "source": [
    "### Пропуски значений\n",
    "Сначала посчитайте, сколько в таблице пропущенных значений. Для этого достаточно двух методов `pandas`:"
   ]
  },
  {
   "cell_type": "code",
   "execution_count": 47,
   "metadata": {
    "id": "RskX29qr_Zct"
   },
   "outputs": [
    {
     "data": {
      "text/plain": [
       "user_id       0\n",
       "track      1231\n",
       "artist     7203\n",
       "genre      1198\n",
       "city          0\n",
       "time          0\n",
       "day           0\n",
       "dtype: int64"
      ]
     },
     "execution_count": 47,
     "metadata": {},
     "output_type": "execute_result"
    }
   ],
   "source": [
    "# подсчёт пропусков\n",
    "df.isna().sum() "
   ]
  },
  {
   "cell_type": "markdown",
   "metadata": {
    "id": "qubhgnlO_Zct"
   },
   "source": [
    "Не все пропущенные значения влияют на исследование. Так в `track` и `artist` пропуски не важны для вашей работы. Достаточно заменить их явными обозначениями.\n",
    "\n",
    "Но пропуски в `genre` могут помешать сравнению музыкальных вкусов в Москве и Санкт-Петербурге. На практике было бы правильно установить причину пропусков и восстановить данные. Такой возможности нет в учебном проекте. Придётся:\n",
    "* заполнить и эти пропуски явными обозначениями,\n",
    "* оценить, насколько они повредят расчётам. "
   ]
  },
  {
   "cell_type": "markdown",
   "metadata": {
    "id": "fSv2laPA_Zct"
   },
   "source": [
    "Замените пропущенные значения в столбцах `track`, `artist` и `genre` на строку `'unknown'`. Для этого создайте список `columns_to_replace`, переберите его элементы циклом `for` и для каждого столбца выполните замену пропущенных значений:"
   ]
  },
  {
   "cell_type": "code",
   "execution_count": 48,
   "metadata": {
    "id": "KplB5qWs_Zct"
   },
   "outputs": [],
   "source": [
    "# перебор названий столбцов в цикле и замена пропущенных значений на 'unknown'\n",
    "columns_to_replace = ['track', 'artist', 'genre']\n",
    "\n",
    "for vl in columns_to_replace:\n",
    "    df[vl] = df[vl].fillna('unknown')\n",
    "                  "
   ]
  },
  {
   "cell_type": "markdown",
   "metadata": {
    "id": "Ilsm-MZo_Zct"
   },
   "source": [
    "Убедитесь, что в таблице не осталось пропусков. Для этого ещё раз посчитайте пропущенные значения."
   ]
  },
  {
   "cell_type": "code",
   "execution_count": 49,
   "metadata": {
    "id": "Tq4nYRX4_Zct"
   },
   "outputs": [
    {
     "data": {
      "text/plain": [
       "user_id    0\n",
       "track      0\n",
       "artist     0\n",
       "genre      0\n",
       "city       0\n",
       "time       0\n",
       "day        0\n",
       "dtype: int64"
      ]
     },
     "execution_count": 49,
     "metadata": {},
     "output_type": "execute_result"
    }
   ],
   "source": [
    "# подсчёт пропусков\n",
    "df.isna().sum() "
   ]
  },
  {
   "cell_type": "markdown",
   "metadata": {
    "id": "BWKRtBJ3_Zct"
   },
   "source": [
    "### Дубликаты\n",
    "Посчитайте явные дубликаты в таблице одной командой:"
   ]
  },
  {
   "cell_type": "code",
   "execution_count": 50,
   "metadata": {
    "id": "36eES_S0_Zct"
   },
   "outputs": [
    {
     "data": {
      "text/plain": [
       "3826"
      ]
     },
     "execution_count": 50,
     "metadata": {},
     "output_type": "execute_result"
    }
   ],
   "source": [
    "# подсчёт явных дубликатов\n",
    "df.duplicated().sum() "
   ]
  },
  {
   "cell_type": "markdown",
   "metadata": {
    "id": "Ot25h6XR_Zct"
   },
   "source": [
    "Вызовите специальный метод `pandas`, чтобы удалить явные дубликаты:"
   ]
  },
  {
   "cell_type": "code",
   "execution_count": 51,
   "metadata": {
    "id": "exFHq6tt_Zct"
   },
   "outputs": [],
   "source": [
    "# удаление явных дубликатов (с удалением старых индексов и формированием новых)\n",
    "df = df.drop_duplicates().reset_index(drop=True)"
   ]
  },
  {
   "cell_type": "markdown",
   "metadata": {
    "id": "Im2YwBEG_Zct"
   },
   "source": [
    "Ещё раз посчитайте явные дубликаты в таблице — убедитесь, что полностью от них избавились:"
   ]
  },
  {
   "cell_type": "code",
   "execution_count": 52,
   "metadata": {
    "id": "-8PuNWQ0_Zct"
   },
   "outputs": [
    {
     "data": {
      "text/plain": [
       "0"
      ]
     },
     "execution_count": 52,
     "metadata": {},
     "output_type": "execute_result"
    }
   ],
   "source": [
    "# проверка на отсутствие дубликатов\n",
    "df.duplicated().sum() "
   ]
  },
  {
   "cell_type": "markdown",
   "metadata": {
    "id": "QlFBsxAr_Zct"
   },
   "source": [
    "Теперь избавьтесь от неявных дубликатов в колонке `genre`. Например, название одного и того же жанра может быть записано немного по-разному. Такие ошибки тоже повлияют на результат исследования."
   ]
  },
  {
   "cell_type": "markdown",
   "metadata": {
    "id": "eSjWwsOh_Zct"
   },
   "source": [
    "Выведите на экран список уникальных названий жанров, отсортированный в алфавитном порядке. Для этого:\n",
    "* извлеките нужный столбец датафрейма, \n",
    "* примените к нему метод сортировки,\n",
    "* для отсортированного столбца вызовите метод, который вернёт уникальные значения из столбца."
   ]
  },
  {
   "cell_type": "code",
   "execution_count": 53,
   "metadata": {
    "id": "JIUcqzZN_Zct"
   },
   "outputs": [
    {
     "data": {
      "text/plain": [
       "array(['acid', 'acoustic', 'action', 'adult', 'africa', 'afrikaans',\n",
       "       'alternative', 'alternativepunk', 'ambient', 'americana',\n",
       "       'animated', 'anime', 'arabesk', 'arabic', 'arena',\n",
       "       'argentinetango', 'art', 'audiobook', 'author', 'avantgarde',\n",
       "       'axé', 'baile', 'balkan', 'beats', 'bigroom', 'black', 'bluegrass',\n",
       "       'blues', 'bollywood', 'bossa', 'brazilian', 'breakbeat', 'breaks',\n",
       "       'broadway', 'cantautori', 'cantopop', 'canzone', 'caribbean',\n",
       "       'caucasian', 'celtic', 'chamber', 'chanson', 'children', 'chill',\n",
       "       'chinese', 'choral', 'christian', 'christmas', 'classical',\n",
       "       'classicmetal', 'club', 'colombian', 'comedy', 'conjazz',\n",
       "       'contemporary', 'country', 'cuban', 'dance', 'dancehall',\n",
       "       'dancepop', 'dark', 'death', 'deep', 'deutschrock', 'deutschspr',\n",
       "       'dirty', 'disco', 'dnb', 'documentary', 'downbeat', 'downtempo',\n",
       "       'drum', 'dub', 'dubstep', 'eastern', 'easy', 'electronic',\n",
       "       'electropop', 'emo', 'entehno', 'epicmetal', 'estrada', 'ethnic',\n",
       "       'eurofolk', 'european', 'experimental', 'extrememetal', 'fado',\n",
       "       'fairytail', 'film', 'fitness', 'flamenco', 'folk', 'folklore',\n",
       "       'folkmetal', 'folkrock', 'folktronica', 'forró', 'frankreich',\n",
       "       'französisch', 'french', 'funk', 'future', 'gangsta', 'garage',\n",
       "       'german', 'ghazal', 'gitarre', 'glitch', 'gospel', 'gothic',\n",
       "       'grime', 'grunge', 'gypsy', 'handsup', \"hard'n'heavy\", 'hardcore',\n",
       "       'hardstyle', 'hardtechno', 'hip', 'hip-hop', 'hiphop',\n",
       "       'historisch', 'holiday', 'hop', 'horror', 'house', 'hymn', 'idm',\n",
       "       'independent', 'indian', 'indie', 'indipop', 'industrial',\n",
       "       'inspirational', 'instrumental', 'international', 'irish', 'jam',\n",
       "       'japanese', 'jazz', 'jewish', 'jpop', 'jungle', 'k-pop',\n",
       "       'karadeniz', 'karaoke', 'kayokyoku', 'korean', 'laiko', 'latin',\n",
       "       'latino', 'leftfield', 'local', 'lounge', 'loungeelectronic',\n",
       "       'lovers', 'malaysian', 'mandopop', 'marschmusik', 'meditative',\n",
       "       'mediterranean', 'melodic', 'metal', 'metalcore', 'mexican',\n",
       "       'middle', 'minimal', 'miscellaneous', 'modern', 'mood', 'mpb',\n",
       "       'muslim', 'native', 'neoklassik', 'neue', 'new', 'newage',\n",
       "       'newwave', 'nu', 'nujazz', 'numetal', 'oceania', 'old', 'opera',\n",
       "       'orchestral', 'other', 'piano', 'podcasts', 'pop', 'popdance',\n",
       "       'popelectronic', 'popeurodance', 'poprussian', 'post',\n",
       "       'posthardcore', 'postrock', 'power', 'progmetal', 'progressive',\n",
       "       'psychedelic', 'punjabi', 'punk', 'quebecois', 'ragga', 'ram',\n",
       "       'rancheras', 'rap', 'rave', 'reggae', 'reggaeton', 'regional',\n",
       "       'relax', 'religious', 'retro', 'rhythm', 'rnb', 'rnr', 'rock',\n",
       "       'rockabilly', 'rockalternative', 'rockindie', 'rockother',\n",
       "       'romance', 'roots', 'ruspop', 'rusrap', 'rusrock', 'russian',\n",
       "       'salsa', 'samba', 'scenic', 'schlager', 'self', 'sertanejo',\n",
       "       'shanson', 'shoegazing', 'showtunes', 'singer', 'ska', 'skarock',\n",
       "       'slow', 'smooth', 'soft', 'soul', 'soulful', 'sound', 'soundtrack',\n",
       "       'southern', 'specialty', 'speech', 'spiritual', 'sport',\n",
       "       'stonerrock', 'surf', 'swing', 'synthpop', 'synthrock',\n",
       "       'sängerportrait', 'tango', 'tanzorchester', 'taraftar', 'tatar',\n",
       "       'tech', 'techno', 'teen', 'thrash', 'top', 'traditional',\n",
       "       'tradjazz', 'trance', 'tribal', 'trip', 'triphop', 'tropical',\n",
       "       'türk', 'türkçe', 'ukrrock', 'unknown', 'urban', 'uzbek',\n",
       "       'variété', 'vi', 'videogame', 'vocal', 'western', 'world',\n",
       "       'worldbeat', 'ïîï', 'электроника'], dtype=object)"
      ]
     },
     "execution_count": 53,
     "metadata": {},
     "output_type": "execute_result"
    }
   ],
   "source": [
    "# Просмотр уникальных названий жанров\n",
    "df['genre'].sort_values().unique()"
   ]
  },
  {
   "cell_type": "markdown",
   "metadata": {
    "id": "qej-Qmuo_Zct"
   },
   "source": [
    "Просмотрите список и найдите неявные дубликаты названия `hiphop`. Это могут быть названия с ошибками или альтернативные названия того же жанра.\n",
    "\n",
    "Вы увидите следующие неявные дубликаты:\n",
    "* *hip*,\n",
    "* *hop*,\n",
    "* *hip-hop*.\n",
    "\n",
    "Чтобы очистить от них таблицу, напишите функцию `replace_wrong_genres()` с двумя параметрами: \n",
    "* `wrong_genres` — список дубликатов,\n",
    "* `correct_genre` — строка с правильным значением.\n",
    "\n",
    "Функция должна исправить колонку `genre` в таблице `df`: заменить каждое значение из списка `wrong_genres` на значение из `correct_genre`."
   ]
  },
  {
   "cell_type": "code",
   "execution_count": 54,
   "metadata": {
    "id": "ErNDkmns_Zct"
   },
   "outputs": [],
   "source": [
    "# Функция для замены неявных дубликатов\n",
    "def replace_wrong_genres(wrong_genres, correct_genre):\n",
    "    for vl in wrong_genres:\n",
    "        df['genre'] = df['genre'].replace(vl, correct_genre)"
   ]
  },
  {
   "cell_type": "markdown",
   "metadata": {
    "id": "aDoBJxbA_Zct"
   },
   "source": [
    "Вызовите `replace_wrong_genres()` и передайте ей такие аргументы, чтобы она устранила неявные дубликаты: вместо `hip`, `hop` и `hip-hop` в таблице должно быть значение `hiphop`:"
   ]
  },
  {
   "cell_type": "code",
   "execution_count": 55,
   "metadata": {
    "id": "YN5i2hpmSo09"
   },
   "outputs": [],
   "source": [
    "# Устранение неявных дубликатов\n",
    "replace_wrong_genres(['hip', 'hop', 'hip-hop'], 'hiphop')"
   ]
  },
  {
   "cell_type": "markdown",
   "metadata": {},
   "source": [
    "**Мои комментарии к данным и предложения по доработке списка жанров** \n",
    "\n",
    "В списке жанров вижу следующие недостатки:\n",
    "- При анализе жанров может возникнуть проблема с вариациями одного типа жанра, такими как: 'conjazz' и 'jazz'. Этот недостаток следует опустить, так как это вопрос формирования описания трека, требует тонкого знания стилей музыки.\n",
    "- Названия жанров по территориальному признаку: 'ukrrock' и 'rusrock'. Не уверенна, что это необходимо сейчас анализировать.\n",
    "- Названия жанров написаны на разных языках, например: 'axé' - французский, 'türk' - турецкий, 'электроника' - русский.\n",
    "- Есть название жанра, язык которого не определяется - 'ïîï'. Скорее всего, при выгрузке данных сбилась кодировка, если проанализировать его, то можно получить значение 'поп', его следует заменить на существующий в списке 'pop'.\n",
    "\n",
    "Заменю 'latin' на 'latino', 'türk' на 'türkçe', 'tech' на 'techno', 'электроника' на 'electronic', 'ïîï' на 'pop'"
   ]
  },
  {
   "cell_type": "code",
   "execution_count": 56,
   "metadata": {},
   "outputs": [],
   "source": [
    "replace_wrong_genres(['latin'], 'latino')\n",
    "replace_wrong_genres(['türk'], 'türkçe')\n",
    "replace_wrong_genres(['tech'], 'techno')\n",
    "replace_wrong_genres(['электроника'], 'electronic')\n",
    "replace_wrong_genres(['ïîï'], 'pop')"
   ]
  },
  {
   "cell_type": "markdown",
   "metadata": {
    "id": "zQKF16_RG15m"
   },
   "source": [
    "Проверьте, что заменили неправильные названия:\n",
    "\n",
    "*   hip\n",
    "*   hop\n",
    "*   hip-hop\n",
    "\n",
    "Выведите отсортированный список уникальных значений столбца `genre`:"
   ]
  },
  {
   "cell_type": "code",
   "execution_count": 57,
   "metadata": {
    "id": "wvixALnFG15m"
   },
   "outputs": [
    {
     "data": {
      "text/plain": [
       "array(['acid', 'acoustic', 'action', 'adult', 'africa', 'afrikaans',\n",
       "       'alternative', 'alternativepunk', 'ambient', 'americana',\n",
       "       'animated', 'anime', 'arabesk', 'arabic', 'arena',\n",
       "       'argentinetango', 'art', 'audiobook', 'author', 'avantgarde',\n",
       "       'axé', 'baile', 'balkan', 'beats', 'bigroom', 'black', 'bluegrass',\n",
       "       'blues', 'bollywood', 'bossa', 'brazilian', 'breakbeat', 'breaks',\n",
       "       'broadway', 'cantautori', 'cantopop', 'canzone', 'caribbean',\n",
       "       'caucasian', 'celtic', 'chamber', 'chanson', 'children', 'chill',\n",
       "       'chinese', 'choral', 'christian', 'christmas', 'classical',\n",
       "       'classicmetal', 'club', 'colombian', 'comedy', 'conjazz',\n",
       "       'contemporary', 'country', 'cuban', 'dance', 'dancehall',\n",
       "       'dancepop', 'dark', 'death', 'deep', 'deutschrock', 'deutschspr',\n",
       "       'dirty', 'disco', 'dnb', 'documentary', 'downbeat', 'downtempo',\n",
       "       'drum', 'dub', 'dubstep', 'eastern', 'easy', 'electronic',\n",
       "       'electropop', 'emo', 'entehno', 'epicmetal', 'estrada', 'ethnic',\n",
       "       'eurofolk', 'european', 'experimental', 'extrememetal', 'fado',\n",
       "       'fairytail', 'film', 'fitness', 'flamenco', 'folk', 'folklore',\n",
       "       'folkmetal', 'folkrock', 'folktronica', 'forró', 'frankreich',\n",
       "       'französisch', 'french', 'funk', 'future', 'gangsta', 'garage',\n",
       "       'german', 'ghazal', 'gitarre', 'glitch', 'gospel', 'gothic',\n",
       "       'grime', 'grunge', 'gypsy', 'handsup', \"hard'n'heavy\", 'hardcore',\n",
       "       'hardstyle', 'hardtechno', 'hiphop', 'historisch', 'holiday',\n",
       "       'horror', 'house', 'hymn', 'idm', 'independent', 'indian', 'indie',\n",
       "       'indipop', 'industrial', 'inspirational', 'instrumental',\n",
       "       'international', 'irish', 'jam', 'japanese', 'jazz', 'jewish',\n",
       "       'jpop', 'jungle', 'k-pop', 'karadeniz', 'karaoke', 'kayokyoku',\n",
       "       'korean', 'laiko', 'latino', 'leftfield', 'local', 'lounge',\n",
       "       'loungeelectronic', 'lovers', 'malaysian', 'mandopop',\n",
       "       'marschmusik', 'meditative', 'mediterranean', 'melodic', 'metal',\n",
       "       'metalcore', 'mexican', 'middle', 'minimal', 'miscellaneous',\n",
       "       'modern', 'mood', 'mpb', 'muslim', 'native', 'neoklassik', 'neue',\n",
       "       'new', 'newage', 'newwave', 'nu', 'nujazz', 'numetal', 'oceania',\n",
       "       'old', 'opera', 'orchestral', 'other', 'piano', 'podcasts', 'pop',\n",
       "       'popdance', 'popelectronic', 'popeurodance', 'poprussian', 'post',\n",
       "       'posthardcore', 'postrock', 'power', 'progmetal', 'progressive',\n",
       "       'psychedelic', 'punjabi', 'punk', 'quebecois', 'ragga', 'ram',\n",
       "       'rancheras', 'rap', 'rave', 'reggae', 'reggaeton', 'regional',\n",
       "       'relax', 'religious', 'retro', 'rhythm', 'rnb', 'rnr', 'rock',\n",
       "       'rockabilly', 'rockalternative', 'rockindie', 'rockother',\n",
       "       'romance', 'roots', 'ruspop', 'rusrap', 'rusrock', 'russian',\n",
       "       'salsa', 'samba', 'scenic', 'schlager', 'self', 'sertanejo',\n",
       "       'shanson', 'shoegazing', 'showtunes', 'singer', 'ska', 'skarock',\n",
       "       'slow', 'smooth', 'soft', 'soul', 'soulful', 'sound', 'soundtrack',\n",
       "       'southern', 'specialty', 'speech', 'spiritual', 'sport',\n",
       "       'stonerrock', 'surf', 'swing', 'synthpop', 'synthrock',\n",
       "       'sängerportrait', 'tango', 'tanzorchester', 'taraftar', 'tatar',\n",
       "       'techno', 'teen', 'thrash', 'top', 'traditional', 'tradjazz',\n",
       "       'trance', 'tribal', 'trip', 'triphop', 'tropical', 'türkçe',\n",
       "       'ukrrock', 'unknown', 'urban', 'uzbek', 'variété', 'vi',\n",
       "       'videogame', 'vocal', 'western', 'world', 'worldbeat'],\n",
       "      dtype=object)"
      ]
     },
     "execution_count": 57,
     "metadata": {},
     "output_type": "execute_result"
    }
   ],
   "source": [
    "# Проверка на неявные дубликаты\n",
    "df['genre'].sort_values().unique()"
   ]
  },
  {
   "cell_type": "markdown",
   "metadata": {
    "id": "jz6a9-7HQUDd"
   },
   "source": [
    "**Выводы**\n",
    "\n",
    "Предобработка обнаружила три проблемы в данных:\n",
    "\n",
    "- нарушения в стиле заголовков,\n",
    "- пропущенные значения,\n",
    "- дубликаты — явные и неявные.\n",
    "\n",
    "Вы исправили заголовки, чтобы упростить работу с таблицей. Без дубликатов исследование станет более точным.\n",
    "\n",
    "Пропущенные значения вы заменили на `'unknown'`. Ещё предстоит увидеть, не повредят ли исследованию пропуски в колонке `genre`.\n",
    "\n",
    "Теперь можно перейти к проверке гипотез. "
   ]
  },
  {
   "cell_type": "markdown",
   "metadata": {
    "id": "WttZHXH0SqKk"
   },
   "source": [
    "## Проверка гипотез"
   ]
  },
  {
   "cell_type": "markdown",
   "metadata": {
    "id": "Im936VVi_Zcu"
   },
   "source": [
    "### Сравнение поведения пользователей двух столиц"
   ]
  },
  {
   "cell_type": "markdown",
   "metadata": {
    "id": "nwt_MuaL_Zcu"
   },
   "source": [
    "Первая гипотеза утверждает, что пользователи по-разному слушают музыку в Москве и Санкт-Петербурге. Проверьте это предположение по данным о трёх днях недели — понедельнике, среде и пятнице. Для этого:\n",
    "\n",
    "* Разделите пользователей Москвы и Санкт-Петербурга\n",
    "* Сравните, сколько треков послушала каждая группа пользователей в понедельник, среду и пятницу.\n"
   ]
  },
  {
   "cell_type": "markdown",
   "metadata": {
    "id": "8Dw_YMmT_Zcu"
   },
   "source": [
    "Для тренировки сначала выполните каждый из расчётов по отдельности. \n",
    "\n",
    "Оцените активность пользователей в каждом городе. Сгруппируйте данные по городу и посчитайте прослушивания в каждой группе.\n",
    "\n"
   ]
  },
  {
   "cell_type": "code",
   "execution_count": 58,
   "metadata": {
    "id": "0_Qs96oh_Zcu"
   },
   "outputs": [
    {
     "data": {
      "text/plain": [
       "city\n",
       "Moscow              42741\n",
       "Saint-Petersburg    18512\n",
       "Name: user_id, dtype: int64"
      ]
     },
     "execution_count": 58,
     "metadata": {},
     "output_type": "execute_result"
    }
   ],
   "source": [
    "# Подсчёт прослушиваний в каждом городе\n",
    "df.groupby('city')['user_id'].count()"
   ]
  },
  {
   "cell_type": "markdown",
   "metadata": {
    "id": "dzli3w8o_Zcu"
   },
   "source": [
    "В Москве прослушиваний больше, чем в Петербурге. Из этого не следует, что московские пользователи чаще слушают музыку. Просто самих пользователей в Москве больше.\n",
    "\n",
    "Теперь сгруппируйте данные по дню недели и подсчитайте прослушивания в понедельник, среду и пятницу. Учтите, что в данных есть информация о прослушиваниях только за эти дни.\n"
   ]
  },
  {
   "cell_type": "code",
   "execution_count": 59,
   "metadata": {
    "id": "uZMKjiJz_Zcu"
   },
   "outputs": [
    {
     "data": {
      "text/plain": [
       "day\n",
       "Friday       21840\n",
       "Monday       21354\n",
       "Wednesday    18059\n",
       "Name: user_id, dtype: int64"
      ]
     },
     "execution_count": 59,
     "metadata": {},
     "output_type": "execute_result"
    }
   ],
   "source": [
    "# Подсчёт прослушиваний в каждый из трёх дней\n",
    "df.groupby('day')['user_id'].count()"
   ]
  },
  {
   "cell_type": "markdown",
   "metadata": {
    "id": "cC2tNrlL_Zcu"
   },
   "source": [
    "В среднем пользователи из двух городов менее активны по средам. Но картина может измениться, если рассмотреть каждый город в отдельности."
   ]
  },
  {
   "cell_type": "markdown",
   "metadata": {
    "id": "POzs8bGa_Zcu"
   },
   "source": [
    "Вы видели, как работает группировка по городу и по дням недели. Теперь напишите функцию, которая объединит два эти расчёта.\n",
    "\n",
    "Создайте функцию `number_tracks()`, которая посчитает прослушивания для заданного дня и города. Ей понадобятся два параметра:\n",
    "* день недели,\n",
    "* название города.\n",
    "\n",
    "В функции сохраните в переменную строки исходной таблицы, у которых значение:\n",
    "  * в колонке `day` равно параметру `day`,\n",
    "  * в колонке `city` равно параметру `city`.\n",
    "\n",
    "Для этого примените последовательную фильтрацию с логической индексацией.\n",
    "\n",
    "Затем посчитайте значения в столбце `user_id` получившейся таблицы. Результат сохраните в новую переменную. Верните эту переменную из функции."
   ]
  },
  {
   "cell_type": "code",
   "execution_count": 60,
   "metadata": {
    "id": "Nz3GdQB1_Zcu"
   },
   "outputs": [],
   "source": [
    "def number_tracks(day, city):\n",
    "    track_list = df[df['day'] == day]\n",
    "    track_list = track_list[track_list['city'] == city]\n",
    "    track_list_count = track_list['user_id'].count()\n",
    "    return track_list_count\n",
    "\n",
    "# Функция для подсчёта прослушиваний для конкретного города и дня.\n",
    "# С помощью последовательной фильтрации с логической индексацией она \n",
    "# сначала получит из исходной таблицы строки с нужным днём,\n",
    "# затем из результата отфильтрует строки с нужным городом,\n",
    "# методом count() посчитает количество значений в колонке user_id. \n",
    "# Это количество функция вернёт в качестве результата"
   ]
  },
  {
   "cell_type": "markdown",
   "metadata": {
    "id": "ytf7xFrFJQ2r"
   },
   "source": [
    "Вызовите `number_tracks()` шесть раз, меняя значение параметров — так, чтобы получить данные для каждого города в каждый из трёх дней."
   ]
  },
  {
   "cell_type": "code",
   "execution_count": 61,
   "metadata": {
    "id": "rJcRATNQ_Zcu"
   },
   "outputs": [
    {
     "data": {
      "text/plain": [
       "15740"
      ]
     },
     "execution_count": 61,
     "metadata": {},
     "output_type": "execute_result"
    }
   ],
   "source": [
    "number_tracks('Monday','Moscow') # количество прослушиваний в Москве по понедельникам"
   ]
  },
  {
   "cell_type": "code",
   "execution_count": 62,
   "metadata": {
    "id": "hq_ncZ5T_Zcu"
   },
   "outputs": [
    {
     "data": {
      "text/plain": [
       "5614"
      ]
     },
     "execution_count": 62,
     "metadata": {},
     "output_type": "execute_result"
    }
   ],
   "source": [
    "number_tracks('Monday','Saint-Petersburg')# количество прослушиваний в Санкт-Петербурге по понедельникам"
   ]
  },
  {
   "cell_type": "code",
   "execution_count": 63,
   "metadata": {
    "id": "_NTy2VPU_Zcu"
   },
   "outputs": [
    {
     "data": {
      "text/plain": [
       "11056"
      ]
     },
     "execution_count": 63,
     "metadata": {},
     "output_type": "execute_result"
    }
   ],
   "source": [
    "number_tracks('Wednesday','Moscow')# количество прослушиваний в Москве по средам"
   ]
  },
  {
   "cell_type": "code",
   "execution_count": 64,
   "metadata": {
    "id": "j2y3TAwo_Zcu"
   },
   "outputs": [
    {
     "data": {
      "text/plain": [
       "7003"
      ]
     },
     "execution_count": 64,
     "metadata": {},
     "output_type": "execute_result"
    }
   ],
   "source": [
    "number_tracks('Wednesday','Saint-Petersburg')# количество прослушиваний в Санкт-Петербурге по средам"
   ]
  },
  {
   "cell_type": "code",
   "execution_count": 65,
   "metadata": {
    "id": "vYDw5u_K_Zcu"
   },
   "outputs": [
    {
     "data": {
      "text/plain": [
       "15945"
      ]
     },
     "execution_count": 65,
     "metadata": {},
     "output_type": "execute_result"
    }
   ],
   "source": [
    "number_tracks('Friday','Moscow')# количество прослушиваний в Москве по пятницам"
   ]
  },
  {
   "cell_type": "code",
   "execution_count": 66,
   "metadata": {
    "id": "8_yzFtW3_Zcu"
   },
   "outputs": [
    {
     "data": {
      "text/plain": [
       "5895"
      ]
     },
     "execution_count": 66,
     "metadata": {},
     "output_type": "execute_result"
    }
   ],
   "source": [
    "number_tracks('Friday','Saint-Petersburg')# количество прослушиваний в Санкт-Петербурге по пятницам"
   ]
  },
  {
   "cell_type": "markdown",
   "metadata": {
    "id": "7QXffbO-_Zcu"
   },
   "source": [
    "Создайте c помощью конструктора `pd.DataFrame` таблицу, где\n",
    "* названия колонок — `['city', 'monday', 'wednesday', 'friday']`;\n",
    "* данные — результаты, которые вы получили с помощью `number_tracks`."
   ]
  },
  {
   "cell_type": "code",
   "execution_count": 67,
   "metadata": {
    "id": "APAcLpOr_Zcu"
   },
   "outputs": [
    {
     "data": {
      "text/html": [
       "<div>\n",
       "<style scoped>\n",
       "    .dataframe tbody tr th:only-of-type {\n",
       "        vertical-align: middle;\n",
       "    }\n",
       "\n",
       "    .dataframe tbody tr th {\n",
       "        vertical-align: top;\n",
       "    }\n",
       "\n",
       "    .dataframe thead th {\n",
       "        text-align: right;\n",
       "    }\n",
       "</style>\n",
       "<table border=\"1\" class=\"dataframe\">\n",
       "  <thead>\n",
       "    <tr style=\"text-align: right;\">\n",
       "      <th></th>\n",
       "      <th>city</th>\n",
       "      <th>monday</th>\n",
       "      <th>wednesday</th>\n",
       "      <th>friday</th>\n",
       "    </tr>\n",
       "  </thead>\n",
       "  <tbody>\n",
       "    <tr>\n",
       "      <th>0</th>\n",
       "      <td>Moscow</td>\n",
       "      <td>15740</td>\n",
       "      <td>11056</td>\n",
       "      <td>15945</td>\n",
       "    </tr>\n",
       "    <tr>\n",
       "      <th>1</th>\n",
       "      <td>Saint-Petersburg</td>\n",
       "      <td>5614</td>\n",
       "      <td>7003</td>\n",
       "      <td>5895</td>\n",
       "    </tr>\n",
       "  </tbody>\n",
       "</table>\n",
       "</div>"
      ],
      "text/plain": [
       "               city  monday  wednesday  friday\n",
       "0            Moscow   15740      11056   15945\n",
       "1  Saint-Petersburg    5614       7003    5895"
      ]
     },
     "execution_count": 67,
     "metadata": {},
     "output_type": "execute_result"
    }
   ],
   "source": [
    "# Таблица с результатами\n",
    "data = [['Moscow', 15740, 11056, 15945],\n",
    "['Saint-Petersburg', 5614, 7003, 5895]]\n",
    "columns = ['city', 'monday', 'wednesday', 'friday']\n",
    "\n",
    "pd.DataFrame(data=data, columns=columns)"
   ]
  },
  {
   "cell_type": "markdown",
   "metadata": {
    "id": "-EgPIHYu_Zcu"
   },
   "source": [
    "**Выводы**\n",
    "\n",
    "Данные показывают разницу поведения пользователей:\n",
    "\n",
    "- В Москве пик прослушиваний приходится на понедельник и пятницу, а в среду заметен спад.\n",
    "- В Петербурге, наоборот, больше слушают музыку по средам. Активность в понедельник и пятницу здесь почти в равной мере уступает среде.\n",
    "\n",
    "Значит, данные говорят в пользу первой гипотезы."
   ]
  },
  {
   "cell_type": "markdown",
   "metadata": {
    "id": "atZAxtq4_Zcu"
   },
   "source": [
    "### Музыка в начале и в конце недели"
   ]
  },
  {
   "cell_type": "markdown",
   "metadata": {
    "id": "eXrQqXFH_Zcu"
   },
   "source": [
    "Согласно второй гипотезе, утром в понедельник в Москве преобладают одни жанры, а в Петербурге — другие. Так же и вечером пятницы преобладают разные жанры — в зависимости от города."
   ]
  },
  {
   "cell_type": "markdown",
   "metadata": {
    "id": "S8UcW6Hw_Zcu"
   },
   "source": [
    "Сохраните таблицы с данными в две переменные:\n",
    "* по Москве — в `moscow_general`;\n",
    "* по Санкт-Петербургу — в `spb_general`."
   ]
  },
  {
   "cell_type": "code",
   "execution_count": 68,
   "metadata": {
    "id": "qeaFfM_P_Zcu"
   },
   "outputs": [],
   "source": [
    "# получение таблицы moscow_general из тех строк таблицы df, \n",
    "# для которых значение в столбце 'city' равно 'Moscow'\n",
    "moscow_general = df[df['city'] == 'Moscow'].reset_index(drop=True)"
   ]
  },
  {
   "cell_type": "code",
   "execution_count": 69,
   "metadata": {
    "id": "ORaVRKto_Zcu"
   },
   "outputs": [],
   "source": [
    "# получение таблицы spb_general из тех строк таблицы df,\n",
    "# для которых значение в столбце 'city' равно 'Saint-Petersburg'\n",
    "spb_general = df[df['city'] == 'Saint-Petersburg'].reset_index(drop=True)"
   ]
  },
  {
   "cell_type": "markdown",
   "metadata": {
    "id": "MEJV-CX2_Zcu"
   },
   "source": [
    "Создайте функцию `genre_weekday()` с четырьмя параметрами:\n",
    "* таблица (датафрейм) с данными,\n",
    "* день недели,\n",
    "* начальная временная метка в формате 'hh:mm', \n",
    "* последняя временная метка в формате 'hh:mm'.\n",
    "\n",
    "Функция должна вернуть информацию о топ-10 жанров тех треков, которые прослушивали в указанный день, в промежутке между двумя отметками времени."
   ]
  },
  {
   "cell_type": "code",
   "execution_count": 70,
   "metadata": {
    "id": "laJT9BYl_Zcu"
   },
   "outputs": [],
   "source": [
    "def genre_weekday(table, day, time1, time2): # Объявление функции genre_weekday() с параметрами table, day, time1, time2,\n",
    "    genre_df = table[table['day'] == day] # которая возвращает информацию о самых популярных жанрах в указанный день в\n",
    "    genre_df = genre_df[genre_df['time'] > time1] \n",
    "    genre_df = genre_df[genre_df['time'] < time2] \n",
    "    genre_df_count = genre_df.groupby('genre')['user_id'].count()\n",
    "    genre_df_sorted = genre_df_count.sort_values(ascending=False)\n",
    "    return genre_df_sorted.head(10)\n",
    "\n",
    "    # заданное время:\n",
    "# 1) в переменную genre_df сохраняются те строки переданного датафрейма table, для\n",
    "#    Используйте последовательную фильтрацию с помощью логической индексации.\n",
    "# 2) сгруппировать датафрейм genre_df по столбцу genre, взять один из его\n",
    "#    столбцов и посчитать методом count() количество записей для каждого из\n",
    "#    присутствующих жанров, получившийся Series записать в переменную\n",
    "#    genre_df_count\n",
    "# 3) отсортировать genre_df_count по убыванию встречаемости и сохранить\n",
    "#    в переменную genre_df_sorted\n",
    "# 4) вернуть Series из 10 первых значений genre_df_sorted, это будут топ-10\n",
    "#    популярных жанров (в указанный день, в заданное время)"
   ]
  },
  {
   "cell_type": "markdown",
   "metadata": {
    "id": "la2s2_PF_Zcu"
   },
   "source": [
    "Cравните результаты функции `genre_weekday()` для Москвы и Санкт-Петербурга в понедельник утром (с 7:00 до 11:00) и в пятницу вечером (с 17:00 до 23:00):"
   ]
  },
  {
   "cell_type": "code",
   "execution_count": 71,
   "metadata": {
    "id": "yz7itPUQ_Zcu"
   },
   "outputs": [
    {
     "data": {
      "text/plain": [
       "genre\n",
       "pop            781\n",
       "dance          549\n",
       "electronic     480\n",
       "rock           474\n",
       "hiphop         286\n",
       "ruspop         186\n",
       "world          181\n",
       "rusrap         175\n",
       "alternative    164\n",
       "unknown        161\n",
       "Name: user_id, dtype: int64"
      ]
     },
     "execution_count": 71,
     "metadata": {},
     "output_type": "execute_result"
    }
   ],
   "source": [
    "genre_weekday(moscow_general, 'Monday', '07:00', '11:00') # вызов функции для утра понедельника в Москве (вместо df — таблица moscow_general)\n",
    "# объекты, хранящие время, являются строками и сравниваются как строки\n",
    "# пример вызова: genre_weekday(moscow_general, 'Monday', '07:00', '11:00')"
   ]
  },
  {
   "cell_type": "code",
   "execution_count": 72,
   "metadata": {
    "id": "kwUcHPdy_Zcu"
   },
   "outputs": [
    {
     "data": {
      "text/plain": [
       "genre\n",
       "pop            218\n",
       "dance          182\n",
       "rock           162\n",
       "electronic     147\n",
       "hiphop          80\n",
       "ruspop          64\n",
       "alternative     58\n",
       "rusrap          55\n",
       "jazz            44\n",
       "classical       40\n",
       "Name: user_id, dtype: int64"
      ]
     },
     "execution_count": 72,
     "metadata": {},
     "output_type": "execute_result"
    }
   ],
   "source": [
    "genre_weekday(spb_general, 'Monday', '07:00', '11:00') # вызов функции для утра понедельника в Петербурге (вместо df — таблица spb_general)"
   ]
  },
  {
   "cell_type": "code",
   "execution_count": 73,
   "metadata": {
    "id": "EzXVRE1o_Zcu"
   },
   "outputs": [
    {
     "data": {
      "text/plain": [
       "genre\n",
       "pop            713\n",
       "rock           517\n",
       "dance          495\n",
       "electronic     482\n",
       "hiphop         273\n",
       "world          208\n",
       "ruspop         170\n",
       "alternative    163\n",
       "classical      163\n",
       "rusrap         142\n",
       "Name: user_id, dtype: int64"
      ]
     },
     "execution_count": 73,
     "metadata": {},
     "output_type": "execute_result"
    }
   ],
   "source": [
    "genre_weekday(moscow_general, 'Friday', '17:00', '23:00') # вызов функции для вечера пятницы в Москве"
   ]
  },
  {
   "cell_type": "code",
   "execution_count": 74,
   "metadata": {
    "id": "JZaEKu5v_Zcu"
   },
   "outputs": [
    {
     "data": {
      "text/plain": [
       "genre\n",
       "pop            256\n",
       "electronic     216\n",
       "rock           216\n",
       "dance          210\n",
       "hiphop          97\n",
       "alternative     63\n",
       "jazz            61\n",
       "classical       60\n",
       "rusrap          59\n",
       "world           54\n",
       "Name: user_id, dtype: int64"
      ]
     },
     "execution_count": 74,
     "metadata": {},
     "output_type": "execute_result"
    }
   ],
   "source": [
    "genre_weekday(spb_general, 'Friday', '17:00', '23:00') # вызов функции для вечера пятницы в Петербурге"
   ]
  },
  {
   "cell_type": "markdown",
   "metadata": {
    "id": "wrCe4MNX_Zcu"
   },
   "source": [
    "**Выводы**\n",
    "\n",
    "Если сравнить топ-10 жанров в понедельник утром, можно сделать такие выводы:\n",
    "\n",
    "1. В Москве и Петербурге слушают похожую музыку. Единственное отличие — в московский рейтинг вошёл жанр “world”, а в петербургский — джаз и классика.\n",
    "\n",
    "2. В Москве пропущенных значений оказалось так много, что значение `'unknown'` заняло десятое место среди самых популярных жанров. Значит, пропущенные значения занимают существенную долю в данных и угрожают достоверности исследования.\n",
    "\n",
    "Вечер пятницы не меняет эту картину. Некоторые жанры поднимаются немного выше, другие спускаются, но в целом топ-10 остаётся тем же самым.\n",
    "\n",
    "Таким образом, вторая гипотеза подтвердилась лишь частично:\n",
    "* Пользователи слушают похожую музыку в начале недели и в конце.\n",
    "* Разница между Москвой и Петербургом не слишком выражена. В Москве чаще слушают русскую популярную музыку, в Петербурге — джаз.\n",
    "\n",
    "Однако пропуски в данных ставят под сомнение этот результат. В Москве их так много, что рейтинг топ-10 мог бы выглядеть иначе, если бы не утерянные  данные о жанрах."
   ]
  },
  {
   "cell_type": "markdown",
   "metadata": {
    "id": "JolODAqr_Zcu"
   },
   "source": [
    "### Жанровые предпочтения в Москве и Петербурге\n",
    "\n",
    "Гипотеза: Петербург — столица рэпа, музыку этого жанра там слушают чаще, чем в Москве.  А Москва — город контрастов, в котором, тем не менее, преобладает поп-музыка."
   ]
  },
  {
   "cell_type": "markdown",
   "metadata": {
    "id": "DlegSvaT_Zcu"
   },
   "source": [
    "Сгруппируйте таблицу `moscow_general` по жанру и посчитайте прослушивания треков каждого жанра методом `count()`. Затем отсортируйте результат в порядке убывания и сохраните его в таблице `moscow_genres`."
   ]
  },
  {
   "cell_type": "code",
   "execution_count": 75,
   "metadata": {
    "id": "r19lIPke_Zcu"
   },
   "outputs": [],
   "source": [
    " # одной строкой: группировка таблицы moscow_general по столбцу 'genre', \n",
    " # подсчёт числа значений 'genre' в этой группировке методом count(), \n",
    "# сортировка получившегося Series в порядке убывания и сохранение в moscow_genres\n",
    "moscow_genres = moscow_general.groupby('genre')['user_id'].count().sort_values(ascending=False)"
   ]
  },
  {
   "cell_type": "markdown",
   "metadata": {
    "id": "6kMuomxTiIr8"
   },
   "source": [
    "Выведите на экран первые десять строк `moscow_genres`:"
   ]
  },
  {
   "cell_type": "code",
   "execution_count": 76,
   "metadata": {
    "id": "WhCSooF8_Zcv"
   },
   "outputs": [
    {
     "data": {
      "text/plain": [
       "genre\n",
       "pop            5893\n",
       "dance          4435\n",
       "rock           3965\n",
       "electronic     3786\n",
       "hiphop         2096\n",
       "classical      1616\n",
       "world          1432\n",
       "alternative    1379\n",
       "ruspop         1372\n",
       "rusrap         1161\n",
       "Name: user_id, dtype: int64"
      ]
     },
     "metadata": {},
     "output_type": "display_data"
    }
   ],
   "source": [
    "display(moscow_genres.head(10))# просмотр первых 10 строк moscow_genres"
   ]
  },
  {
   "cell_type": "markdown",
   "metadata": {
    "id": "cnPG2vnN_Zcv"
   },
   "source": [
    "Теперь повторите то же и для Петербурга.\n",
    "\n",
    "Сгруппируйте таблицу `spb_general` по жанру. Посчитайте прослушивания треков каждого жанра. Результат отсортируйте в порядке убывания и сохраните в таблице `spb_genres`:\n"
   ]
  },
  {
   "cell_type": "code",
   "execution_count": 77,
   "metadata": {
    "id": "gluLIpE7_Zcv"
   },
   "outputs": [],
   "source": [
    "# одной строкой: группировка таблицы spb_general по столбцу 'genre', \n",
    "# подсчёт числа значений 'genre' в этой группировке методом count(), \n",
    "# сортировка получившегося Series в порядке убывания и сохранение в spb_genres\n",
    "spb_genres = spb_general.groupby('genre')['user_id'].count().sort_values(ascending=False)"
   ]
  },
  {
   "cell_type": "markdown",
   "metadata": {
    "id": "5Doha_ODgyQ8"
   },
   "source": [
    "Выведите на экран первые десять строк `spb_genres`:"
   ]
  },
  {
   "cell_type": "code",
   "execution_count": 78,
   "metadata": {
    "id": "uaGJHjVU_Zcv"
   },
   "outputs": [
    {
     "data": {
      "text/plain": [
       "genre\n",
       "pop            2431\n",
       "dance          1932\n",
       "rock           1879\n",
       "electronic     1737\n",
       "hiphop          960\n",
       "alternative     649\n",
       "classical       646\n",
       "rusrap          564\n",
       "ruspop          538\n",
       "world           515\n",
       "Name: user_id, dtype: int64"
      ]
     },
     "metadata": {},
     "output_type": "display_data"
    }
   ],
   "source": [
    "display(spb_genres.head(10))# просмотр первых 10 строк spb_genres"
   ]
  },
  {
   "cell_type": "markdown",
   "metadata": {
    "id": "RY51YJYu_Zcv"
   },
   "source": [
    "**Выводы**"
   ]
  },
  {
   "cell_type": "markdown",
   "metadata": {
    "id": "nVhnJEm__Zcv"
   },
   "source": [
    "Гипотеза частично подтвердилась:\n",
    "* Поп-музыка — самый популярный жанр в Москве, как и предполагала гипотеза. Более того, в топ-10 жанров встречается близкий жанр — русская популярная музыка.\n",
    "* Вопреки ожиданиям, рэп одинаково популярен в Москве и Петербурге. \n"
   ]
  },
  {
   "cell_type": "markdown",
   "metadata": {
    "id": "ykKQ0N65_Zcv"
   },
   "source": [
    "## Итоги исследования"
   ]
  },
  {
   "cell_type": "markdown",
   "metadata": {
    "id": "tjUwbHb3_Zcv"
   },
   "source": [
    "Вы проверили три гипотезы и установили:\n",
    "\n",
    "1. День недели по-разному влияет на активность пользователей в Москве и Петербурге. \n",
    "\n",
    "Первая гипотеза полностью подтвердилась.\n",
    "\n",
    "2. Музыкальные предпочтения не сильно меняются в течение недели — будь то Москва или Петербург. Небольшие различия заметны в начале недели, по понедельникам:\n",
    "* в Москве слушают музыку жанра “world”,\n",
    "* в Петербурге — джаз и классику.\n",
    "\n",
    "Таким образом, вторая гипотеза подтвердилась лишь отчасти. Этот результат мог оказаться иным, если бы не пропуски в данных.\n",
    "\n",
    "3. Во вкусах пользователей Москвы и Петербурга больше общего чем различий. Вопреки ожиданиям, предпочтения жанров в Петербурге напоминают московские.\n",
    "\n",
    "Третья гипотеза не подтвердилась. Если различия в предпочтениях и существуют, на основной массе пользователей они незаметны.\n",
    "\n",
    "**На практике исследования содержат проверки статистических гипотез.**\n",
    "Из данных одного сервиса не всегда можно сделать вывод о всех жителях города.\n",
    "Проверки статистических гипотез покажут, насколько они достоверны, исходя из имеющихся данных. \n",
    "С методами проверок гипотез вы ещё познакомитесь в следующих темах."
   ]
  },
  {
   "cell_type": "code",
   "execution_count": null,
   "metadata": {},
   "outputs": [],
   "source": []
  }
 ],
 "metadata": {
  "ExecuteTimeLog": [
   {
    "duration": 434,
    "start_time": "2022-05-04T14:30:19.108Z"
   },
   {
    "duration": 71,
    "start_time": "2022-05-04T14:30:24.170Z"
   },
   {
    "duration": 159,
    "start_time": "2022-05-04T14:30:53.141Z"
   },
   {
    "duration": 18,
    "start_time": "2022-05-04T14:31:54.320Z"
   },
   {
    "duration": 33,
    "start_time": "2022-05-04T14:32:35.516Z"
   },
   {
    "duration": 4,
    "start_time": "2022-05-04T14:57:43.397Z"
   },
   {
    "duration": 28,
    "start_time": "2022-05-04T15:00:21.602Z"
   },
   {
    "duration": 5,
    "start_time": "2022-05-04T15:03:37.414Z"
   },
   {
    "duration": 4,
    "start_time": "2022-05-04T15:04:04.524Z"
   },
   {
    "duration": 14,
    "start_time": "2022-05-04T15:04:29.526Z"
   },
   {
    "duration": 4,
    "start_time": "2022-05-04T15:04:41.531Z"
   },
   {
    "duration": 37,
    "start_time": "2022-05-04T15:07:15.501Z"
   },
   {
    "duration": 72,
    "start_time": "2022-05-04T15:08:00.964Z"
   },
   {
    "duration": 26,
    "start_time": "2022-05-04T15:08:13.473Z"
   },
   {
    "duration": 58,
    "start_time": "2022-05-04T15:14:31.181Z"
   },
   {
    "duration": 20,
    "start_time": "2022-05-04T15:15:04.193Z"
   },
   {
    "duration": 12,
    "start_time": "2022-05-04T15:15:37.976Z"
   },
   {
    "duration": 12,
    "start_time": "2022-05-04T15:15:50.753Z"
   },
   {
    "duration": 10,
    "start_time": "2022-05-04T15:16:19.774Z"
   },
   {
    "duration": 9,
    "start_time": "2022-05-04T15:16:54.928Z"
   },
   {
    "duration": 10,
    "start_time": "2022-05-04T15:18:03.693Z"
   },
   {
    "duration": 10,
    "start_time": "2022-05-04T15:18:11.261Z"
   },
   {
    "duration": 17,
    "start_time": "2022-05-04T15:20:36.109Z"
   },
   {
    "duration": 12,
    "start_time": "2022-05-04T15:21:19.020Z"
   },
   {
    "duration": 9,
    "start_time": "2022-05-04T15:21:32.954Z"
   },
   {
    "duration": 9,
    "start_time": "2022-05-04T15:21:45.949Z"
   },
   {
    "duration": 7,
    "start_time": "2022-05-04T15:23:11.982Z"
   },
   {
    "duration": 10,
    "start_time": "2022-05-04T15:23:33.548Z"
   },
   {
    "duration": 10,
    "start_time": "2022-05-04T15:24:13.208Z"
   },
   {
    "duration": 3,
    "start_time": "2022-05-04T15:24:37.231Z"
   },
   {
    "duration": 172,
    "start_time": "2022-05-04T15:24:37.236Z"
   },
   {
    "duration": 13,
    "start_time": "2022-05-04T15:24:37.410Z"
   },
   {
    "duration": 34,
    "start_time": "2022-05-04T15:24:37.425Z"
   },
   {
    "duration": 4,
    "start_time": "2022-05-04T15:24:37.462Z"
   },
   {
    "duration": 40,
    "start_time": "2022-05-04T15:24:37.468Z"
   },
   {
    "duration": 6,
    "start_time": "2022-05-04T15:24:37.510Z"
   },
   {
    "duration": 43,
    "start_time": "2022-05-04T15:24:37.518Z"
   },
   {
    "duration": 14,
    "start_time": "2022-05-04T15:24:37.563Z"
   },
   {
    "duration": 3,
    "start_time": "2022-05-04T15:24:37.579Z"
   },
   {
    "duration": 3,
    "start_time": "2022-05-04T15:24:37.611Z"
   },
   {
    "duration": 6,
    "start_time": "2022-05-04T15:24:37.615Z"
   },
   {
    "duration": 4,
    "start_time": "2022-05-04T15:24:37.623Z"
   },
   {
    "duration": 6,
    "start_time": "2022-05-04T15:24:37.628Z"
   },
   {
    "duration": 4,
    "start_time": "2022-05-04T15:24:37.636Z"
   },
   {
    "duration": 9,
    "start_time": "2022-05-04T15:24:37.641Z"
   },
   {
    "duration": 5,
    "start_time": "2022-05-04T15:24:37.651Z"
   },
   {
    "duration": 5,
    "start_time": "2022-05-04T15:24:37.658Z"
   },
   {
    "duration": 5,
    "start_time": "2022-05-04T15:24:37.665Z"
   },
   {
    "duration": 37,
    "start_time": "2022-05-04T15:24:37.672Z"
   },
   {
    "duration": 16,
    "start_time": "2022-05-04T15:24:37.710Z"
   },
   {
    "duration": 8,
    "start_time": "2022-05-04T15:24:37.727Z"
   },
   {
    "duration": 6,
    "start_time": "2022-05-04T15:24:37.737Z"
   },
   {
    "duration": 13,
    "start_time": "2022-05-04T15:24:37.744Z"
   },
   {
    "duration": 12,
    "start_time": "2022-05-04T15:24:37.760Z"
   },
   {
    "duration": 15,
    "start_time": "2022-05-04T15:24:37.774Z"
   },
   {
    "duration": 13,
    "start_time": "2022-05-04T15:24:37.792Z"
   },
   {
    "duration": 7,
    "start_time": "2022-05-04T15:24:37.808Z"
   },
   {
    "duration": 6,
    "start_time": "2022-05-04T15:24:37.820Z"
   },
   {
    "duration": 4,
    "start_time": "2022-05-04T15:24:37.831Z"
   },
   {
    "duration": 7,
    "start_time": "2022-05-04T15:24:37.837Z"
   },
   {
    "duration": 4,
    "start_time": "2022-05-04T15:24:37.846Z"
   },
   {
    "duration": 8,
    "start_time": "2022-05-04T15:24:37.852Z"
   },
   {
    "duration": 5,
    "start_time": "2022-05-04T15:24:37.862Z"
   },
   {
    "duration": 6,
    "start_time": "2022-05-04T15:24:37.869Z"
   },
   {
    "duration": 3,
    "start_time": "2022-05-04T15:24:37.877Z"
   },
   {
    "duration": 26,
    "start_time": "2022-05-04T15:24:37.882Z"
   },
   {
    "duration": 10,
    "start_time": "2022-05-04T15:24:37.910Z"
   },
   {
    "duration": 21,
    "start_time": "2022-05-04T15:25:17.823Z"
   },
   {
    "duration": 12,
    "start_time": "2022-05-04T15:25:27.260Z"
   },
   {
    "duration": 3,
    "start_time": "2022-05-04T15:25:31.668Z"
   },
   {
    "duration": 171,
    "start_time": "2022-05-04T15:25:31.675Z"
   },
   {
    "duration": 11,
    "start_time": "2022-05-04T15:25:31.848Z"
   },
   {
    "duration": 33,
    "start_time": "2022-05-04T15:25:31.861Z"
   },
   {
    "duration": 5,
    "start_time": "2022-05-04T15:25:31.908Z"
   },
   {
    "duration": 9,
    "start_time": "2022-05-04T15:25:31.915Z"
   },
   {
    "duration": 5,
    "start_time": "2022-05-04T15:25:31.925Z"
   },
   {
    "duration": 28,
    "start_time": "2022-05-04T15:25:31.932Z"
   },
   {
    "duration": 52,
    "start_time": "2022-05-04T15:25:31.961Z"
   },
   {
    "duration": 3,
    "start_time": "2022-05-04T15:25:32.014Z"
   },
   {
    "duration": 10,
    "start_time": "2022-05-04T15:25:32.019Z"
   },
   {
    "duration": 5,
    "start_time": "2022-05-04T15:25:32.031Z"
   },
   {
    "duration": 4,
    "start_time": "2022-05-04T15:25:32.038Z"
   },
   {
    "duration": 5,
    "start_time": "2022-05-04T15:25:32.043Z"
   },
   {
    "duration": 4,
    "start_time": "2022-05-04T15:25:32.049Z"
   },
   {
    "duration": 4,
    "start_time": "2022-05-04T15:25:32.055Z"
   },
   {
    "duration": 5,
    "start_time": "2022-05-04T15:25:32.060Z"
   },
   {
    "duration": 4,
    "start_time": "2022-05-04T15:25:32.066Z"
   },
   {
    "duration": 4,
    "start_time": "2022-05-04T15:25:32.071Z"
   },
   {
    "duration": 33,
    "start_time": "2022-05-04T15:25:32.077Z"
   },
   {
    "duration": 8,
    "start_time": "2022-05-04T15:25:32.111Z"
   },
   {
    "duration": 5,
    "start_time": "2022-05-04T15:25:32.121Z"
   },
   {
    "duration": 5,
    "start_time": "2022-05-04T15:25:32.127Z"
   },
   {
    "duration": 4,
    "start_time": "2022-05-04T15:25:32.134Z"
   },
   {
    "duration": 6,
    "start_time": "2022-05-04T15:25:32.140Z"
   },
   {
    "duration": 9,
    "start_time": "2022-05-04T15:25:32.148Z"
   },
   {
    "duration": 4,
    "start_time": "2022-05-04T15:25:32.158Z"
   },
   {
    "duration": 4,
    "start_time": "2022-05-04T15:25:32.164Z"
   },
   {
    "duration": 3,
    "start_time": "2022-05-04T15:25:32.171Z"
   },
   {
    "duration": 297,
    "start_time": "2022-05-04T15:25:32.175Z"
   },
   {
    "duration": 19,
    "start_time": "2022-05-04T15:25:32.475Z"
   },
   {
    "duration": 6,
    "start_time": "2022-05-04T15:25:32.496Z"
   },
   {
    "duration": 8,
    "start_time": "2022-05-04T15:25:32.504Z"
   },
   {
    "duration": 7,
    "start_time": "2022-05-04T15:25:32.514Z"
   },
   {
    "duration": 7,
    "start_time": "2022-05-04T15:25:32.523Z"
   },
   {
    "duration": 5,
    "start_time": "2022-05-04T15:25:32.532Z"
   },
   {
    "duration": 4,
    "start_time": "2022-05-04T15:25:32.539Z"
   },
   {
    "duration": 8,
    "start_time": "2022-05-04T15:25:32.545Z"
   },
   {
    "duration": 27,
    "start_time": "2022-05-04T15:26:14.533Z"
   },
   {
    "duration": 114,
    "start_time": "2022-05-04T15:27:37.782Z"
   },
   {
    "duration": 8,
    "start_time": "2022-05-04T15:29:13.423Z"
   },
   {
    "duration": 9,
    "start_time": "2022-05-04T15:30:29.608Z"
   },
   {
    "duration": 3,
    "start_time": "2022-05-04T15:30:39.306Z"
   },
   {
    "duration": 191,
    "start_time": "2022-05-04T15:30:39.311Z"
   },
   {
    "duration": 11,
    "start_time": "2022-05-04T15:30:39.509Z"
   },
   {
    "duration": 38,
    "start_time": "2022-05-04T15:30:39.522Z"
   },
   {
    "duration": 5,
    "start_time": "2022-05-04T15:30:39.562Z"
   },
   {
    "duration": 9,
    "start_time": "2022-05-04T15:30:39.569Z"
   },
   {
    "duration": 29,
    "start_time": "2022-05-04T15:30:39.580Z"
   },
   {
    "duration": 38,
    "start_time": "2022-05-04T15:30:39.610Z"
   },
   {
    "duration": 21,
    "start_time": "2022-05-04T15:30:39.650Z"
   },
   {
    "duration": 44,
    "start_time": "2022-05-04T15:30:39.673Z"
   },
   {
    "duration": 66,
    "start_time": "2022-05-04T15:30:39.719Z"
   },
   {
    "duration": 7,
    "start_time": "2022-05-04T15:30:47.563Z"
   },
   {
    "duration": 74,
    "start_time": "2022-05-04T15:31:28.683Z"
   },
   {
    "duration": 59,
    "start_time": "2022-05-04T15:31:44.035Z"
   },
   {
    "duration": 53,
    "start_time": "2022-05-04T15:38:31.622Z"
   },
   {
    "duration": 76,
    "start_time": "2022-05-04T15:39:15.360Z"
   },
   {
    "duration": 74,
    "start_time": "2022-05-04T15:39:55.134Z"
   },
   {
    "duration": 7,
    "start_time": "2022-05-04T15:41:46.487Z"
   },
   {
    "duration": 777,
    "start_time": "2022-05-04T15:41:58.018Z"
   },
   {
    "duration": 42,
    "start_time": "2022-05-04T15:42:49.616Z"
   },
   {
    "duration": 42,
    "start_time": "2022-05-04T15:43:08.039Z"
   },
   {
    "duration": 61,
    "start_time": "2022-05-04T15:52:46.907Z"
   },
   {
    "duration": 3,
    "start_time": "2022-05-04T15:53:06.084Z"
   },
   {
    "duration": 11,
    "start_time": "2022-05-04T15:54:59.321Z"
   },
   {
    "duration": 41,
    "start_time": "2022-05-04T15:55:48.260Z"
   },
   {
    "duration": 9,
    "start_time": "2022-05-04T15:56:11.327Z"
   },
   {
    "duration": 43,
    "start_time": "2022-05-04T15:56:14.175Z"
   },
   {
    "duration": 2,
    "start_time": "2022-05-04T16:41:34.205Z"
   },
   {
    "duration": 198,
    "start_time": "2022-05-04T16:41:34.209Z"
   },
   {
    "duration": 12,
    "start_time": "2022-05-04T16:41:34.409Z"
   },
   {
    "duration": 39,
    "start_time": "2022-05-04T16:41:34.424Z"
   },
   {
    "duration": 4,
    "start_time": "2022-05-04T16:41:34.466Z"
   },
   {
    "duration": 35,
    "start_time": "2022-05-04T16:41:34.472Z"
   },
   {
    "duration": 5,
    "start_time": "2022-05-04T16:41:34.509Z"
   },
   {
    "duration": 29,
    "start_time": "2022-05-04T16:41:34.516Z"
   },
   {
    "duration": 19,
    "start_time": "2022-05-04T16:41:34.549Z"
   },
   {
    "duration": 53,
    "start_time": "2022-05-04T16:41:34.570Z"
   },
   {
    "duration": 68,
    "start_time": "2022-05-04T16:41:34.625Z"
   },
   {
    "duration": 74,
    "start_time": "2022-05-04T16:41:34.708Z"
   },
   {
    "duration": 69,
    "start_time": "2022-05-04T16:41:34.783Z"
   },
   {
    "duration": 55,
    "start_time": "2022-05-04T16:41:34.853Z"
   },
   {
    "duration": 3,
    "start_time": "2022-05-04T16:41:34.910Z"
   },
   {
    "duration": 14,
    "start_time": "2022-05-04T16:41:34.914Z"
   },
   {
    "duration": 42,
    "start_time": "2022-05-04T16:41:34.930Z"
   },
   {
    "duration": 3,
    "start_time": "2022-05-04T16:41:34.974Z"
   },
   {
    "duration": 28,
    "start_time": "2022-05-04T16:41:34.979Z"
   },
   {
    "duration": 6,
    "start_time": "2022-05-04T16:41:35.009Z"
   },
   {
    "duration": 5,
    "start_time": "2022-05-04T16:41:35.017Z"
   },
   {
    "duration": 6,
    "start_time": "2022-05-04T16:41:35.023Z"
   },
   {
    "duration": 5,
    "start_time": "2022-05-04T16:41:35.031Z"
   },
   {
    "duration": 2,
    "start_time": "2022-05-04T16:41:35.040Z"
   },
   {
    "duration": 4,
    "start_time": "2022-05-04T16:41:35.044Z"
   },
   {
    "duration": 12,
    "start_time": "2022-05-04T16:41:35.050Z"
   },
   {
    "duration": 7,
    "start_time": "2022-05-04T16:41:35.064Z"
   },
   {
    "duration": 5,
    "start_time": "2022-05-04T16:41:35.073Z"
   },
   {
    "duration": 28,
    "start_time": "2022-05-04T16:41:35.080Z"
   },
   {
    "duration": 7,
    "start_time": "2022-05-04T16:41:35.109Z"
   },
   {
    "duration": 8,
    "start_time": "2022-05-04T16:41:35.118Z"
   },
   {
    "duration": 7,
    "start_time": "2022-05-04T16:41:35.128Z"
   },
   {
    "duration": 7,
    "start_time": "2022-05-04T16:41:35.136Z"
   },
   {
    "duration": 4,
    "start_time": "2022-05-04T16:41:35.145Z"
   },
   {
    "duration": 5,
    "start_time": "2022-05-04T16:41:35.151Z"
   },
   {
    "duration": 8,
    "start_time": "2022-05-04T16:41:35.157Z"
   },
   {
    "duration": 9,
    "start_time": "2022-05-04T16:41:35.167Z"
   },
   {
    "duration": 5,
    "start_time": "2022-05-04T16:41:35.178Z"
   },
   {
    "duration": 10,
    "start_time": "2022-05-04T16:52:45.528Z"
   },
   {
    "duration": 43,
    "start_time": "2022-05-04T16:53:20.961Z"
   },
   {
    "duration": 13,
    "start_time": "2022-05-04T16:59:37.156Z"
   },
   {
    "duration": 63,
    "start_time": "2022-05-04T18:03:13.293Z"
   },
   {
    "duration": 51,
    "start_time": "2022-05-04T18:04:03.730Z"
   },
   {
    "duration": 60,
    "start_time": "2022-05-04T18:04:22.965Z"
   },
   {
    "duration": 78,
    "start_time": "2022-05-04T18:05:39.773Z"
   },
   {
    "duration": 71,
    "start_time": "2022-05-04T18:06:41.767Z"
   },
   {
    "duration": 27,
    "start_time": "2022-05-04T19:19:12.523Z"
   },
   {
    "duration": 91,
    "start_time": "2022-05-04T19:20:10.331Z"
   },
   {
    "duration": 41,
    "start_time": "2022-05-04T19:28:27.435Z"
   },
   {
    "duration": 102,
    "start_time": "2022-05-04T19:28:57.977Z"
   },
   {
    "duration": 19,
    "start_time": "2022-05-04T19:31:52.907Z"
   },
   {
    "duration": 70,
    "start_time": "2022-05-04T19:37:57.520Z"
   },
   {
    "duration": 19,
    "start_time": "2022-05-04T19:38:31.732Z"
   },
   {
    "duration": 22,
    "start_time": "2022-05-04T19:39:30.907Z"
   },
   {
    "duration": 3,
    "start_time": "2022-05-04T19:57:10.922Z"
   },
   {
    "duration": 327,
    "start_time": "2022-05-04T19:57:10.928Z"
   },
   {
    "duration": 12,
    "start_time": "2022-05-04T19:57:11.257Z"
   },
   {
    "duration": 31,
    "start_time": "2022-05-04T19:57:11.271Z"
   },
   {
    "duration": 8,
    "start_time": "2022-05-04T19:57:11.318Z"
   },
   {
    "duration": 16,
    "start_time": "2022-05-04T19:57:11.328Z"
   },
   {
    "duration": 5,
    "start_time": "2022-05-04T19:57:11.346Z"
   },
   {
    "duration": 28,
    "start_time": "2022-05-04T19:57:11.353Z"
   },
   {
    "duration": 32,
    "start_time": "2022-05-04T19:57:11.383Z"
   },
   {
    "duration": 48,
    "start_time": "2022-05-04T19:57:11.417Z"
   },
   {
    "duration": 91,
    "start_time": "2022-05-04T19:57:11.469Z"
   },
   {
    "duration": 98,
    "start_time": "2022-05-04T19:57:11.562Z"
   },
   {
    "duration": 83,
    "start_time": "2022-05-04T19:57:11.662Z"
   },
   {
    "duration": 47,
    "start_time": "2022-05-04T19:57:11.751Z"
   },
   {
    "duration": 16,
    "start_time": "2022-05-04T19:57:11.799Z"
   },
   {
    "duration": 19,
    "start_time": "2022-05-04T19:57:11.817Z"
   },
   {
    "duration": 23,
    "start_time": "2022-05-04T19:57:11.837Z"
   },
   {
    "duration": 66,
    "start_time": "2022-05-04T19:57:11.862Z"
   },
   {
    "duration": 93,
    "start_time": "2022-05-04T19:57:11.931Z"
   },
   {
    "duration": 20,
    "start_time": "2022-05-04T19:57:12.026Z"
   },
   {
    "duration": 17,
    "start_time": "2022-05-04T19:57:12.048Z"
   },
   {
    "duration": 3,
    "start_time": "2022-05-04T19:57:12.067Z"
   },
   {
    "duration": 12,
    "start_time": "2022-05-04T19:57:12.072Z"
   },
   {
    "duration": 0,
    "start_time": "2022-05-04T19:57:12.109Z"
   },
   {
    "duration": 0,
    "start_time": "2022-05-04T19:57:12.110Z"
   },
   {
    "duration": 0,
    "start_time": "2022-05-04T19:57:12.110Z"
   },
   {
    "duration": 0,
    "start_time": "2022-05-04T19:57:12.113Z"
   },
   {
    "duration": 3,
    "start_time": "2022-05-04T19:59:00.278Z"
   },
   {
    "duration": 14,
    "start_time": "2022-05-04T19:59:04.323Z"
   },
   {
    "duration": 3,
    "start_time": "2022-05-04T20:00:10.748Z"
   },
   {
    "duration": 198,
    "start_time": "2022-05-04T20:00:10.753Z"
   },
   {
    "duration": 11,
    "start_time": "2022-05-04T20:00:10.953Z"
   },
   {
    "duration": 54,
    "start_time": "2022-05-04T20:00:10.965Z"
   },
   {
    "duration": 5,
    "start_time": "2022-05-04T20:00:11.022Z"
   },
   {
    "duration": 11,
    "start_time": "2022-05-04T20:00:11.028Z"
   },
   {
    "duration": 4,
    "start_time": "2022-05-04T20:00:11.041Z"
   },
   {
    "duration": 32,
    "start_time": "2022-05-04T20:00:11.046Z"
   },
   {
    "duration": 54,
    "start_time": "2022-05-04T20:00:11.080Z"
   },
   {
    "duration": 32,
    "start_time": "2022-05-04T20:00:11.136Z"
   },
   {
    "duration": 102,
    "start_time": "2022-05-04T20:00:11.172Z"
   },
   {
    "duration": 100,
    "start_time": "2022-05-04T20:00:11.276Z"
   },
   {
    "duration": 84,
    "start_time": "2022-05-04T20:00:11.377Z"
   },
   {
    "duration": 52,
    "start_time": "2022-05-04T20:00:11.463Z"
   },
   {
    "duration": 4,
    "start_time": "2022-05-04T20:00:11.517Z"
   },
   {
    "duration": 11,
    "start_time": "2022-05-04T20:00:11.523Z"
   },
   {
    "duration": 15,
    "start_time": "2022-05-04T20:00:11.536Z"
   },
   {
    "duration": 68,
    "start_time": "2022-05-04T20:00:11.552Z"
   },
   {
    "duration": 70,
    "start_time": "2022-05-04T20:00:11.622Z"
   },
   {
    "duration": 30,
    "start_time": "2022-05-04T20:00:11.694Z"
   },
   {
    "duration": 15,
    "start_time": "2022-05-04T20:00:11.725Z"
   },
   {
    "duration": 4,
    "start_time": "2022-05-04T20:00:11.741Z"
   },
   {
    "duration": 13,
    "start_time": "2022-05-04T20:00:11.746Z"
   },
   {
    "duration": 0,
    "start_time": "2022-05-04T20:00:11.761Z"
   },
   {
    "duration": 0,
    "start_time": "2022-05-04T20:00:11.762Z"
   },
   {
    "duration": 0,
    "start_time": "2022-05-04T20:00:11.763Z"
   },
   {
    "duration": 0,
    "start_time": "2022-05-04T20:00:11.764Z"
   },
   {
    "duration": 0,
    "start_time": "2022-05-04T20:00:11.765Z"
   },
   {
    "duration": 0,
    "start_time": "2022-05-04T20:00:11.766Z"
   },
   {
    "duration": 0,
    "start_time": "2022-05-04T20:00:11.767Z"
   },
   {
    "duration": 0,
    "start_time": "2022-05-04T20:00:11.768Z"
   },
   {
    "duration": 0,
    "start_time": "2022-05-04T20:00:11.769Z"
   },
   {
    "duration": 0,
    "start_time": "2022-05-04T20:00:11.770Z"
   },
   {
    "duration": 0,
    "start_time": "2022-05-04T20:00:11.771Z"
   },
   {
    "duration": 0,
    "start_time": "2022-05-04T20:00:11.810Z"
   },
   {
    "duration": 0,
    "start_time": "2022-05-04T20:00:11.811Z"
   },
   {
    "duration": 0,
    "start_time": "2022-05-04T20:00:11.812Z"
   },
   {
    "duration": 0,
    "start_time": "2022-05-04T20:00:11.813Z"
   },
   {
    "duration": 0,
    "start_time": "2022-05-04T20:00:11.814Z"
   },
   {
    "duration": 0,
    "start_time": "2022-05-04T20:00:11.819Z"
   },
   {
    "duration": 9,
    "start_time": "2022-05-04T20:01:23.119Z"
   },
   {
    "duration": 3,
    "start_time": "2022-05-04T20:02:04.622Z"
   },
   {
    "duration": 3,
    "start_time": "2022-05-04T20:02:17.122Z"
   },
   {
    "duration": 183,
    "start_time": "2022-05-04T20:02:17.128Z"
   },
   {
    "duration": 15,
    "start_time": "2022-05-04T20:02:17.313Z"
   },
   {
    "duration": 35,
    "start_time": "2022-05-04T20:02:17.329Z"
   },
   {
    "duration": 4,
    "start_time": "2022-05-04T20:02:17.367Z"
   },
   {
    "duration": 43,
    "start_time": "2022-05-04T20:02:17.373Z"
   },
   {
    "duration": 6,
    "start_time": "2022-05-04T20:02:17.418Z"
   },
   {
    "duration": 41,
    "start_time": "2022-05-04T20:02:17.426Z"
   },
   {
    "duration": 32,
    "start_time": "2022-05-04T20:02:17.469Z"
   },
   {
    "duration": 36,
    "start_time": "2022-05-04T20:02:17.503Z"
   },
   {
    "duration": 100,
    "start_time": "2022-05-04T20:02:17.542Z"
   },
   {
    "duration": 89,
    "start_time": "2022-05-04T20:02:17.643Z"
   },
   {
    "duration": 63,
    "start_time": "2022-05-04T20:02:17.734Z"
   },
   {
    "duration": 53,
    "start_time": "2022-05-04T20:02:17.799Z"
   },
   {
    "duration": 3,
    "start_time": "2022-05-04T20:02:17.854Z"
   },
   {
    "duration": 11,
    "start_time": "2022-05-04T20:02:17.859Z"
   },
   {
    "duration": 51,
    "start_time": "2022-05-04T20:02:17.872Z"
   },
   {
    "duration": 43,
    "start_time": "2022-05-04T20:02:17.925Z"
   },
   {
    "duration": 90,
    "start_time": "2022-05-04T20:02:17.970Z"
   },
   {
    "duration": 13,
    "start_time": "2022-05-04T20:02:18.062Z"
   },
   {
    "duration": 14,
    "start_time": "2022-05-04T20:02:18.077Z"
   },
   {
    "duration": 5,
    "start_time": "2022-05-04T20:02:18.111Z"
   },
   {
    "duration": 22,
    "start_time": "2022-05-04T20:02:18.118Z"
   },
   {
    "duration": 16,
    "start_time": "2022-05-04T20:02:18.141Z"
   },
   {
    "duration": 16,
    "start_time": "2022-05-04T20:02:18.159Z"
   },
   {
    "duration": 49,
    "start_time": "2022-05-04T20:02:18.177Z"
   },
   {
    "duration": 20,
    "start_time": "2022-05-04T20:02:18.227Z"
   },
   {
    "duration": 16,
    "start_time": "2022-05-04T20:02:23.780Z"
   },
   {
    "duration": 15,
    "start_time": "2022-05-04T20:06:50.542Z"
   },
   {
    "duration": 13,
    "start_time": "2022-05-04T20:07:24.734Z"
   },
   {
    "duration": 9,
    "start_time": "2022-05-04T20:10:30.147Z"
   },
   {
    "duration": 15,
    "start_time": "2022-05-04T20:11:03.608Z"
   },
   {
    "duration": 18,
    "start_time": "2022-05-04T20:14:39.506Z"
   },
   {
    "duration": 13,
    "start_time": "2022-05-04T20:14:41.252Z"
   },
   {
    "duration": 6,
    "start_time": "2022-05-04T20:26:26.008Z"
   },
   {
    "duration": 29,
    "start_time": "2022-05-04T20:28:58.092Z"
   },
   {
    "duration": 19,
    "start_time": "2022-05-04T20:30:52.741Z"
   },
   {
    "duration": 32,
    "start_time": "2022-05-04T20:31:28.793Z"
   },
   {
    "duration": 19,
    "start_time": "2022-05-04T20:31:31.558Z"
   },
   {
    "duration": 2,
    "start_time": "2022-05-04T20:35:20.668Z"
   },
   {
    "duration": 3,
    "start_time": "2022-05-04T20:35:28.041Z"
   },
   {
    "duration": 369,
    "start_time": "2022-05-04T20:35:28.046Z"
   },
   {
    "duration": 17,
    "start_time": "2022-05-04T20:35:28.418Z"
   },
   {
    "duration": 37,
    "start_time": "2022-05-04T20:35:28.437Z"
   },
   {
    "duration": 5,
    "start_time": "2022-05-04T20:35:28.476Z"
   },
   {
    "duration": 32,
    "start_time": "2022-05-04T20:35:28.482Z"
   },
   {
    "duration": 4,
    "start_time": "2022-05-04T20:35:28.515Z"
   },
   {
    "duration": 30,
    "start_time": "2022-05-04T20:35:28.521Z"
   },
   {
    "duration": 18,
    "start_time": "2022-05-04T20:35:28.553Z"
   },
   {
    "duration": 49,
    "start_time": "2022-05-04T20:35:28.573Z"
   },
   {
    "duration": 68,
    "start_time": "2022-05-04T20:35:28.625Z"
   },
   {
    "duration": 81,
    "start_time": "2022-05-04T20:35:28.708Z"
   },
   {
    "duration": 77,
    "start_time": "2022-05-04T20:35:28.791Z"
   },
   {
    "duration": 55,
    "start_time": "2022-05-04T20:35:28.870Z"
   },
   {
    "duration": 4,
    "start_time": "2022-05-04T20:35:28.927Z"
   },
   {
    "duration": 14,
    "start_time": "2022-05-04T20:35:28.933Z"
   },
   {
    "duration": 3,
    "start_time": "2022-05-04T20:35:28.949Z"
   },
   {
    "duration": 68,
    "start_time": "2022-05-04T20:35:28.954Z"
   },
   {
    "duration": 69,
    "start_time": "2022-05-04T20:35:29.024Z"
   },
   {
    "duration": 15,
    "start_time": "2022-05-04T20:35:29.107Z"
   },
   {
    "duration": 14,
    "start_time": "2022-05-04T20:35:29.124Z"
   },
   {
    "duration": 3,
    "start_time": "2022-05-04T20:35:29.140Z"
   },
   {
    "duration": 23,
    "start_time": "2022-05-04T20:35:29.145Z"
   },
   {
    "duration": 46,
    "start_time": "2022-05-04T20:35:29.169Z"
   },
   {
    "duration": 16,
    "start_time": "2022-05-04T20:35:29.217Z"
   },
   {
    "duration": 15,
    "start_time": "2022-05-04T20:35:29.235Z"
   },
   {
    "duration": 18,
    "start_time": "2022-05-04T20:35:29.251Z"
   },
   {
    "duration": 49,
    "start_time": "2022-05-04T20:35:29.270Z"
   },
   {
    "duration": 8,
    "start_time": "2022-05-04T20:35:29.323Z"
   },
   {
    "duration": 17,
    "start_time": "2022-05-04T20:35:29.332Z"
   },
   {
    "duration": 13,
    "start_time": "2022-05-04T20:35:29.350Z"
   },
   {
    "duration": 4,
    "start_time": "2022-05-04T20:35:29.365Z"
   },
   {
    "duration": 61,
    "start_time": "2022-05-04T20:35:29.371Z"
   },
   {
    "duration": 17,
    "start_time": "2022-05-04T20:35:29.433Z"
   },
   {
    "duration": 33,
    "start_time": "2022-05-04T20:35:29.452Z"
   },
   {
    "duration": 19,
    "start_time": "2022-05-04T20:35:29.507Z"
   },
   {
    "duration": 2,
    "start_time": "2022-05-04T20:35:29.527Z"
   },
   {
    "duration": 4,
    "start_time": "2022-05-04T20:35:29.531Z"
   },
   {
    "duration": 5,
    "start_time": "2022-05-04T20:35:29.536Z"
   },
   {
    "duration": 4,
    "start_time": "2022-05-04T20:35:29.543Z"
   },
   {
    "duration": 5,
    "start_time": "2022-05-04T20:37:16.761Z"
   },
   {
    "duration": 32,
    "start_time": "2022-05-04T20:37:21.432Z"
   },
   {
    "duration": 43,
    "start_time": "2022-05-04T20:37:50.466Z"
   },
   {
    "duration": 4,
    "start_time": "2022-05-04T20:38:13.245Z"
   },
   {
    "duration": 31,
    "start_time": "2022-05-04T20:38:18.054Z"
   },
   {
    "duration": 26,
    "start_time": "2022-05-04T20:38:25.899Z"
   },
   {
    "duration": 3,
    "start_time": "2022-05-04T20:39:19.810Z"
   },
   {
    "duration": 183,
    "start_time": "2022-05-04T20:39:19.816Z"
   },
   {
    "duration": 11,
    "start_time": "2022-05-04T20:39:20.008Z"
   },
   {
    "duration": 33,
    "start_time": "2022-05-04T20:39:20.021Z"
   },
   {
    "duration": 4,
    "start_time": "2022-05-04T20:39:20.056Z"
   },
   {
    "duration": 11,
    "start_time": "2022-05-04T20:39:20.062Z"
   },
   {
    "duration": 5,
    "start_time": "2022-05-04T20:39:20.075Z"
   },
   {
    "duration": 32,
    "start_time": "2022-05-04T20:39:20.108Z"
   },
   {
    "duration": 20,
    "start_time": "2022-05-04T20:39:20.141Z"
   },
   {
    "duration": 48,
    "start_time": "2022-05-04T20:39:20.163Z"
   },
   {
    "duration": 69,
    "start_time": "2022-05-04T20:39:20.214Z"
   },
   {
    "duration": 102,
    "start_time": "2022-05-04T20:39:20.285Z"
   },
   {
    "duration": 74,
    "start_time": "2022-05-04T20:39:20.389Z"
   },
   {
    "duration": 52,
    "start_time": "2022-05-04T20:39:20.465Z"
   },
   {
    "duration": 3,
    "start_time": "2022-05-04T20:39:20.518Z"
   },
   {
    "duration": 11,
    "start_time": "2022-05-04T20:39:20.523Z"
   },
   {
    "duration": 4,
    "start_time": "2022-05-04T20:39:20.536Z"
   },
   {
    "duration": 66,
    "start_time": "2022-05-04T20:39:20.542Z"
   },
   {
    "duration": 80,
    "start_time": "2022-05-04T20:39:20.610Z"
   },
   {
    "duration": 34,
    "start_time": "2022-05-04T20:39:20.692Z"
   },
   {
    "duration": 36,
    "start_time": "2022-05-04T20:39:20.727Z"
   },
   {
    "duration": 3,
    "start_time": "2022-05-04T20:39:20.765Z"
   },
   {
    "duration": 27,
    "start_time": "2022-05-04T20:39:20.770Z"
   },
   {
    "duration": 18,
    "start_time": "2022-05-04T20:39:20.799Z"
   },
   {
    "duration": 18,
    "start_time": "2022-05-04T20:39:20.819Z"
   },
   {
    "duration": 16,
    "start_time": "2022-05-04T20:39:20.839Z"
   },
   {
    "duration": 53,
    "start_time": "2022-05-04T20:39:20.857Z"
   },
   {
    "duration": 18,
    "start_time": "2022-05-04T20:39:20.912Z"
   },
   {
    "duration": 10,
    "start_time": "2022-05-04T20:39:20.933Z"
   },
   {
    "duration": 13,
    "start_time": "2022-05-04T20:39:20.945Z"
   },
   {
    "duration": 49,
    "start_time": "2022-05-04T20:39:20.960Z"
   },
   {
    "duration": 5,
    "start_time": "2022-05-04T20:39:21.011Z"
   },
   {
    "duration": 37,
    "start_time": "2022-05-04T20:39:21.018Z"
   },
   {
    "duration": 21,
    "start_time": "2022-05-04T20:39:21.057Z"
   },
   {
    "duration": 54,
    "start_time": "2022-05-04T20:39:21.080Z"
   },
   {
    "duration": 20,
    "start_time": "2022-05-04T20:39:21.136Z"
   },
   {
    "duration": 2,
    "start_time": "2022-05-04T20:39:21.158Z"
   },
   {
    "duration": 6,
    "start_time": "2022-05-04T20:39:21.162Z"
   },
   {
    "duration": 7,
    "start_time": "2022-05-04T20:39:21.170Z"
   },
   {
    "duration": 34,
    "start_time": "2022-05-04T20:39:21.180Z"
   },
   {
    "duration": 8,
    "start_time": "2022-05-04T20:43:54.944Z"
   },
   {
    "duration": 9,
    "start_time": "2022-05-04T20:44:12.665Z"
   },
   {
    "duration": 7,
    "start_time": "2022-05-04T20:44:24.425Z"
   },
   {
    "duration": 3,
    "start_time": "2022-05-04T20:44:58.179Z"
   },
   {
    "duration": 10,
    "start_time": "2022-05-04T20:45:02.668Z"
   },
   {
    "duration": 10,
    "start_time": "2022-05-04T20:45:13.438Z"
   },
   {
    "duration": 7,
    "start_time": "2022-05-04T20:45:47.620Z"
   },
   {
    "duration": 5,
    "start_time": "2022-05-04T20:45:55.133Z"
   },
   {
    "duration": 5,
    "start_time": "2022-05-04T20:47:22.996Z"
   },
   {
    "duration": 7,
    "start_time": "2022-05-04T20:48:31.660Z"
   },
   {
    "duration": 4,
    "start_time": "2022-05-04T20:48:35.558Z"
   },
   {
    "duration": 3,
    "start_time": "2022-05-04T20:50:20.586Z"
   },
   {
    "duration": 195,
    "start_time": "2022-05-04T20:50:20.592Z"
   },
   {
    "duration": 21,
    "start_time": "2022-05-04T20:50:20.789Z"
   },
   {
    "duration": 37,
    "start_time": "2022-05-04T20:50:20.812Z"
   },
   {
    "duration": 5,
    "start_time": "2022-05-04T20:50:20.851Z"
   },
   {
    "duration": 11,
    "start_time": "2022-05-04T20:50:20.858Z"
   },
   {
    "duration": 4,
    "start_time": "2022-05-04T20:50:20.871Z"
   },
   {
    "duration": 31,
    "start_time": "2022-05-04T20:50:20.908Z"
   },
   {
    "duration": 21,
    "start_time": "2022-05-04T20:50:20.942Z"
   },
   {
    "duration": 55,
    "start_time": "2022-05-04T20:50:20.965Z"
   },
   {
    "duration": 122,
    "start_time": "2022-05-04T20:50:21.024Z"
   },
   {
    "duration": 96,
    "start_time": "2022-05-04T20:50:21.148Z"
   },
   {
    "duration": 74,
    "start_time": "2022-05-04T20:50:21.245Z"
   },
   {
    "duration": 42,
    "start_time": "2022-05-04T20:50:21.321Z"
   },
   {
    "duration": 4,
    "start_time": "2022-05-04T20:50:21.365Z"
   },
   {
    "duration": 11,
    "start_time": "2022-05-04T20:50:21.371Z"
   },
   {
    "duration": 2,
    "start_time": "2022-05-04T20:50:21.407Z"
   },
   {
    "duration": 44,
    "start_time": "2022-05-04T20:50:21.411Z"
   },
   {
    "duration": 85,
    "start_time": "2022-05-04T20:50:21.457Z"
   },
   {
    "duration": 16,
    "start_time": "2022-05-04T20:50:21.544Z"
   },
   {
    "duration": 14,
    "start_time": "2022-05-04T20:50:21.561Z"
   },
   {
    "duration": 11,
    "start_time": "2022-05-04T20:50:21.577Z"
   },
   {
    "duration": 30,
    "start_time": "2022-05-04T20:50:21.590Z"
   },
   {
    "duration": 18,
    "start_time": "2022-05-04T20:50:21.622Z"
   },
   {
    "duration": 16,
    "start_time": "2022-05-04T20:50:21.641Z"
   },
   {
    "duration": 16,
    "start_time": "2022-05-04T20:50:21.658Z"
   },
   {
    "duration": 48,
    "start_time": "2022-05-04T20:50:21.675Z"
   },
   {
    "duration": 18,
    "start_time": "2022-05-04T20:50:21.724Z"
   },
   {
    "duration": 9,
    "start_time": "2022-05-04T20:50:21.745Z"
   },
   {
    "duration": 23,
    "start_time": "2022-05-04T20:50:21.755Z"
   },
   {
    "duration": 35,
    "start_time": "2022-05-04T20:50:21.780Z"
   },
   {
    "duration": 4,
    "start_time": "2022-05-04T20:50:21.817Z"
   },
   {
    "duration": 42,
    "start_time": "2022-05-04T20:50:21.823Z"
   },
   {
    "duration": 18,
    "start_time": "2022-05-04T20:50:21.866Z"
   },
   {
    "duration": 46,
    "start_time": "2022-05-04T20:50:21.886Z"
   },
   {
    "duration": 20,
    "start_time": "2022-05-04T20:50:21.933Z"
   },
   {
    "duration": 12,
    "start_time": "2022-05-04T20:50:21.954Z"
   },
   {
    "duration": 4,
    "start_time": "2022-05-04T20:50:21.968Z"
   },
   {
    "duration": 40,
    "start_time": "2022-05-04T20:50:21.974Z"
   },
   {
    "duration": 5,
    "start_time": "2022-05-04T20:50:22.016Z"
   },
   {
    "duration": 15,
    "start_time": "2022-05-04T20:52:45.148Z"
   },
   {
    "duration": 2,
    "start_time": "2022-05-04T20:52:51.777Z"
   },
   {
    "duration": 183,
    "start_time": "2022-05-04T20:52:51.784Z"
   },
   {
    "duration": 12,
    "start_time": "2022-05-04T20:52:51.968Z"
   },
   {
    "duration": 68,
    "start_time": "2022-05-04T20:52:51.982Z"
   },
   {
    "duration": 5,
    "start_time": "2022-05-04T20:52:52.052Z"
   },
   {
    "duration": 13,
    "start_time": "2022-05-04T20:52:52.059Z"
   },
   {
    "duration": 4,
    "start_time": "2022-05-04T20:52:52.074Z"
   },
   {
    "duration": 37,
    "start_time": "2022-05-04T20:52:52.110Z"
   },
   {
    "duration": 24,
    "start_time": "2022-05-04T20:52:52.149Z"
   },
   {
    "duration": 57,
    "start_time": "2022-05-04T20:52:52.174Z"
   },
   {
    "duration": 84,
    "start_time": "2022-05-04T20:52:52.233Z"
   },
   {
    "duration": 90,
    "start_time": "2022-05-04T20:52:52.321Z"
   },
   {
    "duration": 69,
    "start_time": "2022-05-04T20:52:52.413Z"
   },
   {
    "duration": 61,
    "start_time": "2022-05-04T20:52:52.484Z"
   },
   {
    "duration": 3,
    "start_time": "2022-05-04T20:52:52.548Z"
   },
   {
    "duration": 12,
    "start_time": "2022-05-04T20:52:52.553Z"
   },
   {
    "duration": 13,
    "start_time": "2022-05-04T20:52:52.567Z"
   },
   {
    "duration": 72,
    "start_time": "2022-05-04T20:52:52.582Z"
   },
   {
    "duration": 91,
    "start_time": "2022-05-04T20:52:52.656Z"
   },
   {
    "duration": 15,
    "start_time": "2022-05-04T20:52:52.749Z"
   },
   {
    "duration": 13,
    "start_time": "2022-05-04T20:52:52.766Z"
   },
   {
    "duration": 4,
    "start_time": "2022-05-04T20:52:52.780Z"
   },
   {
    "duration": 25,
    "start_time": "2022-05-04T20:52:52.812Z"
   },
   {
    "duration": 22,
    "start_time": "2022-05-04T20:52:52.839Z"
   },
   {
    "duration": 45,
    "start_time": "2022-05-04T20:52:52.863Z"
   },
   {
    "duration": 25,
    "start_time": "2022-05-04T20:52:52.915Z"
   },
   {
    "duration": 25,
    "start_time": "2022-05-04T20:52:52.942Z"
   },
   {
    "duration": 17,
    "start_time": "2022-05-04T20:52:52.969Z"
   },
   {
    "duration": 36,
    "start_time": "2022-05-04T20:52:52.987Z"
   },
   {
    "duration": 20,
    "start_time": "2022-05-04T20:52:53.026Z"
   },
   {
    "duration": 13,
    "start_time": "2022-05-04T20:52:53.048Z"
   },
   {
    "duration": 4,
    "start_time": "2022-05-04T20:52:53.063Z"
   },
   {
    "duration": 64,
    "start_time": "2022-05-04T20:52:53.069Z"
   },
   {
    "duration": 17,
    "start_time": "2022-05-04T20:52:53.135Z"
   },
   {
    "duration": 29,
    "start_time": "2022-05-04T20:52:53.154Z"
   },
   {
    "duration": 37,
    "start_time": "2022-05-04T20:52:53.185Z"
   },
   {
    "duration": 14,
    "start_time": "2022-05-04T20:52:53.224Z"
   },
   {
    "duration": 5,
    "start_time": "2022-05-04T20:52:53.240Z"
   },
   {
    "duration": 8,
    "start_time": "2022-05-04T20:52:53.247Z"
   },
   {
    "duration": 7,
    "start_time": "2022-05-04T20:52:53.256Z"
   },
   {
    "duration": 3,
    "start_time": "2022-05-04T21:51:37.438Z"
   },
   {
    "duration": 171,
    "start_time": "2022-05-04T21:51:37.443Z"
   },
   {
    "duration": 11,
    "start_time": "2022-05-04T21:51:37.616Z"
   },
   {
    "duration": 38,
    "start_time": "2022-05-04T21:51:37.628Z"
   },
   {
    "duration": 4,
    "start_time": "2022-05-04T21:51:37.668Z"
   },
   {
    "duration": 11,
    "start_time": "2022-05-04T21:51:37.673Z"
   },
   {
    "duration": 4,
    "start_time": "2022-05-04T21:51:37.708Z"
   },
   {
    "duration": 33,
    "start_time": "2022-05-04T21:51:37.714Z"
   },
   {
    "duration": 23,
    "start_time": "2022-05-04T21:51:37.749Z"
   },
   {
    "duration": 48,
    "start_time": "2022-05-04T21:51:37.773Z"
   },
   {
    "duration": 93,
    "start_time": "2022-05-04T21:51:37.825Z"
   },
   {
    "duration": 94,
    "start_time": "2022-05-04T21:51:37.919Z"
   },
   {
    "duration": 69,
    "start_time": "2022-05-04T21:51:38.015Z"
   },
   {
    "duration": 60,
    "start_time": "2022-05-04T21:51:38.087Z"
   },
   {
    "duration": 4,
    "start_time": "2022-05-04T21:51:38.149Z"
   },
   {
    "duration": 11,
    "start_time": "2022-05-04T21:51:38.155Z"
   },
   {
    "duration": 13,
    "start_time": "2022-05-04T21:51:38.168Z"
   },
   {
    "duration": 63,
    "start_time": "2022-05-04T21:51:38.183Z"
   },
   {
    "duration": 87,
    "start_time": "2022-05-04T21:51:38.247Z"
   },
   {
    "duration": 16,
    "start_time": "2022-05-04T21:51:38.336Z"
   },
   {
    "duration": 15,
    "start_time": "2022-05-04T21:51:38.353Z"
   },
   {
    "duration": 3,
    "start_time": "2022-05-04T21:51:38.370Z"
   },
   {
    "duration": 53,
    "start_time": "2022-05-04T21:51:38.375Z"
   },
   {
    "duration": 15,
    "start_time": "2022-05-04T21:51:38.430Z"
   },
   {
    "duration": 16,
    "start_time": "2022-05-04T21:51:38.446Z"
   },
   {
    "duration": 14,
    "start_time": "2022-05-04T21:51:38.464Z"
   },
   {
    "duration": 43,
    "start_time": "2022-05-04T21:51:38.480Z"
   },
   {
    "duration": 15,
    "start_time": "2022-05-04T21:51:38.525Z"
   },
   {
    "duration": 9,
    "start_time": "2022-05-04T21:51:38.543Z"
   },
   {
    "duration": 21,
    "start_time": "2022-05-04T21:51:38.553Z"
   },
   {
    "duration": 42,
    "start_time": "2022-05-04T21:51:38.575Z"
   },
   {
    "duration": 4,
    "start_time": "2022-05-04T21:51:38.619Z"
   },
   {
    "duration": 44,
    "start_time": "2022-05-04T21:51:38.625Z"
   },
   {
    "duration": 37,
    "start_time": "2022-05-04T21:51:38.671Z"
   },
   {
    "duration": 32,
    "start_time": "2022-05-04T21:51:38.710Z"
   },
   {
    "duration": 20,
    "start_time": "2022-05-04T21:51:38.743Z"
   },
   {
    "duration": 11,
    "start_time": "2022-05-04T21:51:38.765Z"
   },
   {
    "duration": 5,
    "start_time": "2022-05-04T21:51:38.777Z"
   },
   {
    "duration": 8,
    "start_time": "2022-05-04T21:51:38.808Z"
   },
   {
    "duration": 6,
    "start_time": "2022-05-04T21:51:38.818Z"
   },
   {
    "duration": 14,
    "start_time": "2022-05-04T21:52:56.531Z"
   },
   {
    "duration": 60,
    "start_time": "2022-05-04T21:55:05.777Z"
   },
   {
    "duration": 55,
    "start_time": "2022-05-04T21:55:19.768Z"
   },
   {
    "duration": 48,
    "start_time": "2022-05-04T21:55:31.083Z"
   },
   {
    "duration": 9,
    "start_time": "2022-05-04T21:57:53.593Z"
   },
   {
    "duration": 4,
    "start_time": "2022-05-04T22:02:21.246Z"
   },
   {
    "duration": 8,
    "start_time": "2022-05-04T22:02:33.791Z"
   },
   {
    "duration": 8,
    "start_time": "2022-05-04T22:03:44.368Z"
   },
   {
    "duration": 63,
    "start_time": "2022-05-04T22:14:23.154Z"
   },
   {
    "duration": 10,
    "start_time": "2022-05-04T22:15:01.352Z"
   },
   {
    "duration": 13,
    "start_time": "2022-05-04T22:15:42.403Z"
   },
   {
    "duration": 5,
    "start_time": "2022-05-04T22:18:26.021Z"
   },
   {
    "duration": 12,
    "start_time": "2022-05-04T22:18:33.107Z"
   },
   {
    "duration": 6,
    "start_time": "2022-05-04T22:18:49.591Z"
   },
   {
    "duration": 6,
    "start_time": "2022-05-04T22:19:12.798Z"
   },
   {
    "duration": 6,
    "start_time": "2022-05-04T22:19:27.325Z"
   },
   {
    "duration": 6,
    "start_time": "2022-05-04T22:23:40.604Z"
   },
   {
    "duration": 7,
    "start_time": "2022-05-04T22:23:52.406Z"
   },
   {
    "duration": 7,
    "start_time": "2022-05-04T22:24:24.121Z"
   },
   {
    "duration": 15,
    "start_time": "2022-05-04T22:25:14.152Z"
   },
   {
    "duration": 5,
    "start_time": "2022-05-04T22:25:36.249Z"
   },
   {
    "duration": 5,
    "start_time": "2022-05-04T22:25:45.998Z"
   },
   {
    "duration": 11,
    "start_time": "2022-05-04T22:26:05.377Z"
   },
   {
    "duration": 9,
    "start_time": "2022-05-04T22:26:27.912Z"
   },
   {
    "duration": 9,
    "start_time": "2022-05-04T22:26:35.820Z"
   },
   {
    "duration": 7,
    "start_time": "2022-05-04T22:29:26.964Z"
   },
   {
    "duration": 6,
    "start_time": "2022-05-04T22:30:02.412Z"
   },
   {
    "duration": 6,
    "start_time": "2022-05-04T22:30:13.011Z"
   },
   {
    "duration": 4,
    "start_time": "2022-05-04T22:30:28.171Z"
   },
   {
    "duration": 4,
    "start_time": "2022-05-04T22:30:34.127Z"
   },
   {
    "duration": 10,
    "start_time": "2022-05-04T22:30:48.452Z"
   },
   {
    "duration": 6,
    "start_time": "2022-05-04T22:30:58.451Z"
   },
   {
    "duration": 6,
    "start_time": "2022-05-04T22:31:10.533Z"
   },
   {
    "duration": 65,
    "start_time": "2022-05-04T22:46:21.935Z"
   },
   {
    "duration": 7,
    "start_time": "2022-05-04T22:48:17.591Z"
   },
   {
    "duration": 5,
    "start_time": "2022-05-04T22:48:54.284Z"
   },
   {
    "duration": 6,
    "start_time": "2022-05-04T22:49:13.723Z"
   },
   {
    "duration": 8,
    "start_time": "2022-05-04T22:57:07.972Z"
   },
   {
    "duration": 2,
    "start_time": "2022-05-04T22:57:19.907Z"
   },
   {
    "duration": 175,
    "start_time": "2022-05-04T22:57:19.912Z"
   },
   {
    "duration": 11,
    "start_time": "2022-05-04T22:57:20.109Z"
   },
   {
    "duration": 37,
    "start_time": "2022-05-04T22:57:20.121Z"
   },
   {
    "duration": 4,
    "start_time": "2022-05-04T22:57:20.160Z"
   },
   {
    "duration": 13,
    "start_time": "2022-05-04T22:57:20.165Z"
   },
   {
    "duration": 30,
    "start_time": "2022-05-04T22:57:20.179Z"
   },
   {
    "duration": 32,
    "start_time": "2022-05-04T22:57:20.211Z"
   },
   {
    "duration": 22,
    "start_time": "2022-05-04T22:57:20.245Z"
   },
   {
    "duration": 51,
    "start_time": "2022-05-04T22:57:20.269Z"
   },
   {
    "duration": 89,
    "start_time": "2022-05-04T22:57:20.324Z"
   },
   {
    "duration": 104,
    "start_time": "2022-05-04T22:57:20.415Z"
   },
   {
    "duration": 70,
    "start_time": "2022-05-04T22:57:20.521Z"
   },
   {
    "duration": 53,
    "start_time": "2022-05-04T22:57:20.593Z"
   },
   {
    "duration": 3,
    "start_time": "2022-05-04T22:57:20.647Z"
   },
   {
    "duration": 14,
    "start_time": "2022-05-04T22:57:20.652Z"
   },
   {
    "duration": 16,
    "start_time": "2022-05-04T22:57:20.668Z"
   },
   {
    "duration": 59,
    "start_time": "2022-05-04T22:57:20.686Z"
   },
   {
    "duration": 93,
    "start_time": "2022-05-04T22:57:20.747Z"
   },
   {
    "duration": 17,
    "start_time": "2022-05-04T22:57:20.842Z"
   },
   {
    "duration": 17,
    "start_time": "2022-05-04T22:57:20.861Z"
   },
   {
    "duration": 29,
    "start_time": "2022-05-04T22:57:20.880Z"
   },
   {
    "duration": 22,
    "start_time": "2022-05-04T22:57:20.911Z"
   },
   {
    "duration": 17,
    "start_time": "2022-05-04T22:57:20.935Z"
   },
   {
    "duration": 19,
    "start_time": "2022-05-04T22:57:20.954Z"
   },
   {
    "duration": 43,
    "start_time": "2022-05-04T22:57:20.975Z"
   },
   {
    "duration": 20,
    "start_time": "2022-05-04T22:57:21.021Z"
   },
   {
    "duration": 18,
    "start_time": "2022-05-04T22:57:21.043Z"
   },
   {
    "duration": 43,
    "start_time": "2022-05-04T22:57:21.065Z"
   },
   {
    "duration": 16,
    "start_time": "2022-05-04T22:57:21.110Z"
   },
   {
    "duration": 11,
    "start_time": "2022-05-04T22:57:21.128Z"
   },
   {
    "duration": 8,
    "start_time": "2022-05-04T22:57:21.141Z"
   },
   {
    "duration": 2083,
    "start_time": "2022-05-04T22:57:21.150Z"
   },
   {
    "duration": 0,
    "start_time": "2022-05-04T22:57:23.234Z"
   },
   {
    "duration": 0,
    "start_time": "2022-05-04T22:57:23.235Z"
   },
   {
    "duration": 0,
    "start_time": "2022-05-04T22:57:23.237Z"
   },
   {
    "duration": 0,
    "start_time": "2022-05-04T22:57:23.238Z"
   },
   {
    "duration": 0,
    "start_time": "2022-05-04T22:57:23.239Z"
   },
   {
    "duration": 0,
    "start_time": "2022-05-04T22:57:23.240Z"
   },
   {
    "duration": 0,
    "start_time": "2022-05-04T22:57:23.241Z"
   },
   {
    "duration": 12,
    "start_time": "2022-05-04T22:58:09.575Z"
   },
   {
    "duration": 11,
    "start_time": "2022-05-04T22:58:37.924Z"
   },
   {
    "duration": 10,
    "start_time": "2022-05-04T23:00:53.784Z"
   },
   {
    "duration": 14313,
    "start_time": "2022-05-04T23:01:28.732Z"
   },
   {
    "duration": 3,
    "start_time": "2022-05-04T23:01:50.590Z"
   },
   {
    "duration": 182,
    "start_time": "2022-05-04T23:01:50.595Z"
   },
   {
    "duration": 12,
    "start_time": "2022-05-04T23:01:50.779Z"
   },
   {
    "duration": 43,
    "start_time": "2022-05-04T23:01:50.792Z"
   },
   {
    "duration": 4,
    "start_time": "2022-05-04T23:01:50.837Z"
   },
   {
    "duration": 11,
    "start_time": "2022-05-04T23:01:50.843Z"
   },
   {
    "duration": 4,
    "start_time": "2022-05-04T23:01:50.856Z"
   },
   {
    "duration": 53,
    "start_time": "2022-05-04T23:01:50.861Z"
   },
   {
    "duration": 18,
    "start_time": "2022-05-04T23:01:50.916Z"
   },
   {
    "duration": 27,
    "start_time": "2022-05-04T23:01:50.936Z"
   },
   {
    "duration": 85,
    "start_time": "2022-05-04T23:01:50.966Z"
   },
   {
    "duration": 80,
    "start_time": "2022-05-04T23:01:51.053Z"
   },
   {
    "duration": 55,
    "start_time": "2022-05-04T23:01:51.135Z"
   },
   {
    "duration": 53,
    "start_time": "2022-05-04T23:01:51.192Z"
   },
   {
    "duration": 2,
    "start_time": "2022-05-04T23:01:51.247Z"
   },
   {
    "duration": 11,
    "start_time": "2022-05-04T23:01:51.251Z"
   },
   {
    "duration": 14,
    "start_time": "2022-05-04T23:01:51.263Z"
   },
   {
    "duration": 59,
    "start_time": "2022-05-04T23:01:51.279Z"
   },
   {
    "duration": 76,
    "start_time": "2022-05-04T23:01:51.340Z"
   },
   {
    "duration": 12,
    "start_time": "2022-05-04T23:01:51.418Z"
   },
   {
    "duration": 13,
    "start_time": "2022-05-04T23:01:51.431Z"
   },
   {
    "duration": 3,
    "start_time": "2022-05-04T23:01:51.445Z"
   },
   {
    "duration": 20,
    "start_time": "2022-05-04T23:01:51.450Z"
   },
   {
    "duration": 45,
    "start_time": "2022-05-04T23:01:51.471Z"
   },
   {
    "duration": 16,
    "start_time": "2022-05-04T23:01:51.518Z"
   },
   {
    "duration": 15,
    "start_time": "2022-05-04T23:01:51.535Z"
   },
   {
    "duration": 17,
    "start_time": "2022-05-04T23:01:51.552Z"
   },
   {
    "duration": 46,
    "start_time": "2022-05-04T23:01:51.570Z"
   },
   {
    "duration": 8,
    "start_time": "2022-05-04T23:01:51.619Z"
   },
   {
    "duration": 19,
    "start_time": "2022-05-04T23:01:51.629Z"
   },
   {
    "duration": 11,
    "start_time": "2022-05-04T23:01:51.650Z"
   },
   {
    "duration": 5,
    "start_time": "2022-05-04T23:01:51.663Z"
   },
   {
    "duration": 1044,
    "start_time": "2022-05-04T23:01:51.670Z"
   },
   {
    "duration": 0,
    "start_time": "2022-05-04T23:01:52.715Z"
   },
   {
    "duration": 0,
    "start_time": "2022-05-04T23:01:52.716Z"
   },
   {
    "duration": 0,
    "start_time": "2022-05-04T23:01:52.718Z"
   },
   {
    "duration": 0,
    "start_time": "2022-05-04T23:01:52.718Z"
   },
   {
    "duration": 0,
    "start_time": "2022-05-04T23:01:52.720Z"
   },
   {
    "duration": 0,
    "start_time": "2022-05-04T23:01:52.720Z"
   },
   {
    "duration": 0,
    "start_time": "2022-05-04T23:01:52.722Z"
   },
   {
    "duration": 6,
    "start_time": "2022-05-04T23:03:57.777Z"
   },
   {
    "duration": 7,
    "start_time": "2022-05-04T23:04:01.309Z"
   },
   {
    "duration": 8,
    "start_time": "2022-05-04T23:05:53.074Z"
   },
   {
    "duration": 1551,
    "start_time": "2022-05-04T23:07:34.517Z"
   },
   {
    "duration": 1114,
    "start_time": "2022-05-04T23:08:00.450Z"
   },
   {
    "duration": 75,
    "start_time": "2022-05-04T23:10:47.668Z"
   },
   {
    "duration": 117,
    "start_time": "2022-05-04T23:10:58.445Z"
   },
   {
    "duration": 139,
    "start_time": "2022-05-04T23:11:12.646Z"
   },
   {
    "duration": 1210,
    "start_time": "2022-05-04T23:11:23.577Z"
   },
   {
    "duration": 1794,
    "start_time": "2022-05-04T23:11:57.995Z"
   },
   {
    "duration": 2,
    "start_time": "2022-05-04T23:12:08.964Z"
   },
   {
    "duration": 178,
    "start_time": "2022-05-04T23:12:08.968Z"
   },
   {
    "duration": 12,
    "start_time": "2022-05-04T23:12:09.148Z"
   },
   {
    "duration": 50,
    "start_time": "2022-05-04T23:12:09.162Z"
   },
   {
    "duration": 4,
    "start_time": "2022-05-04T23:12:09.214Z"
   },
   {
    "duration": 12,
    "start_time": "2022-05-04T23:12:09.220Z"
   },
   {
    "duration": 4,
    "start_time": "2022-05-04T23:12:09.234Z"
   },
   {
    "duration": 33,
    "start_time": "2022-05-04T23:12:09.239Z"
   },
   {
    "duration": 54,
    "start_time": "2022-05-04T23:12:09.274Z"
   },
   {
    "duration": 31,
    "start_time": "2022-05-04T23:12:09.330Z"
   },
   {
    "duration": 92,
    "start_time": "2022-05-04T23:12:09.363Z"
   },
   {
    "duration": 95,
    "start_time": "2022-05-04T23:12:09.456Z"
   },
   {
    "duration": 74,
    "start_time": "2022-05-04T23:12:09.554Z"
   },
   {
    "duration": 43,
    "start_time": "2022-05-04T23:12:09.630Z"
   },
   {
    "duration": 2,
    "start_time": "2022-05-04T23:12:09.675Z"
   },
   {
    "duration": 29,
    "start_time": "2022-05-04T23:12:09.679Z"
   },
   {
    "duration": 14,
    "start_time": "2022-05-04T23:12:09.709Z"
   },
   {
    "duration": 41,
    "start_time": "2022-05-04T23:12:09.725Z"
   },
   {
    "duration": 90,
    "start_time": "2022-05-04T23:12:09.768Z"
   },
   {
    "duration": 14,
    "start_time": "2022-05-04T23:12:09.860Z"
   },
   {
    "duration": 13,
    "start_time": "2022-05-04T23:12:09.876Z"
   },
   {
    "duration": 17,
    "start_time": "2022-05-04T23:12:09.891Z"
   },
   {
    "duration": 21,
    "start_time": "2022-05-04T23:12:09.909Z"
   },
   {
    "duration": 16,
    "start_time": "2022-05-04T23:12:09.931Z"
   },
   {
    "duration": 16,
    "start_time": "2022-05-04T23:12:09.948Z"
   },
   {
    "duration": 49,
    "start_time": "2022-05-04T23:12:09.966Z"
   },
   {
    "duration": 17,
    "start_time": "2022-05-04T23:12:10.017Z"
   },
   {
    "duration": 15,
    "start_time": "2022-05-04T23:12:10.036Z"
   },
   {
    "duration": 8,
    "start_time": "2022-05-04T23:12:10.053Z"
   },
   {
    "duration": 17,
    "start_time": "2022-05-04T23:12:10.063Z"
   },
   {
    "duration": 33,
    "start_time": "2022-05-04T23:12:10.082Z"
   },
   {
    "duration": 1732,
    "start_time": "2022-05-04T23:12:10.117Z"
   },
   {
    "duration": 0,
    "start_time": "2022-05-04T23:12:11.851Z"
   },
   {
    "duration": 0,
    "start_time": "2022-05-04T23:12:11.852Z"
   },
   {
    "duration": 0,
    "start_time": "2022-05-04T23:12:11.853Z"
   },
   {
    "duration": 0,
    "start_time": "2022-05-04T23:12:11.854Z"
   },
   {
    "duration": 0,
    "start_time": "2022-05-04T23:12:11.855Z"
   },
   {
    "duration": 0,
    "start_time": "2022-05-04T23:12:11.856Z"
   },
   {
    "duration": 0,
    "start_time": "2022-05-04T23:12:11.857Z"
   },
   {
    "duration": 0,
    "start_time": "2022-05-04T23:12:11.858Z"
   },
   {
    "duration": 71,
    "start_time": "2022-05-04T23:18:38.369Z"
   },
   {
    "duration": 80,
    "start_time": "2022-05-04T23:19:33.909Z"
   },
   {
    "duration": 68,
    "start_time": "2022-05-04T23:20:26.495Z"
   },
   {
    "duration": 87,
    "start_time": "2022-05-04T23:20:53.249Z"
   },
   {
    "duration": 72,
    "start_time": "2022-05-04T23:21:15.092Z"
   },
   {
    "duration": 3,
    "start_time": "2022-05-04T23:22:28.722Z"
   },
   {
    "duration": 165,
    "start_time": "2022-05-04T23:22:28.727Z"
   },
   {
    "duration": 17,
    "start_time": "2022-05-04T23:22:28.894Z"
   },
   {
    "duration": 32,
    "start_time": "2022-05-04T23:22:28.913Z"
   },
   {
    "duration": 4,
    "start_time": "2022-05-04T23:22:28.947Z"
   },
   {
    "duration": 9,
    "start_time": "2022-05-04T23:22:28.953Z"
   },
   {
    "duration": 4,
    "start_time": "2022-05-04T23:22:28.964Z"
   },
   {
    "duration": 59,
    "start_time": "2022-05-04T23:22:28.969Z"
   },
   {
    "duration": 20,
    "start_time": "2022-05-04T23:22:29.029Z"
   },
   {
    "duration": 29,
    "start_time": "2022-05-04T23:22:29.051Z"
   },
   {
    "duration": 87,
    "start_time": "2022-05-04T23:22:29.084Z"
   },
   {
    "duration": 95,
    "start_time": "2022-05-04T23:22:29.173Z"
   },
   {
    "duration": 72,
    "start_time": "2022-05-04T23:22:29.270Z"
   },
   {
    "duration": 43,
    "start_time": "2022-05-04T23:22:29.344Z"
   },
   {
    "duration": 20,
    "start_time": "2022-05-04T23:22:29.389Z"
   },
   {
    "duration": 12,
    "start_time": "2022-05-04T23:22:29.411Z"
   },
   {
    "duration": 15,
    "start_time": "2022-05-04T23:22:29.425Z"
   },
   {
    "duration": 66,
    "start_time": "2022-05-04T23:22:29.441Z"
   },
   {
    "duration": 67,
    "start_time": "2022-05-04T23:22:29.509Z"
   },
   {
    "duration": 34,
    "start_time": "2022-05-04T23:22:29.578Z"
   },
   {
    "duration": 15,
    "start_time": "2022-05-04T23:22:29.614Z"
   },
   {
    "duration": 4,
    "start_time": "2022-05-04T23:22:29.631Z"
   },
   {
    "duration": 21,
    "start_time": "2022-05-04T23:22:29.637Z"
   },
   {
    "duration": 16,
    "start_time": "2022-05-04T23:22:29.660Z"
   },
   {
    "duration": 17,
    "start_time": "2022-05-04T23:22:29.707Z"
   },
   {
    "duration": 14,
    "start_time": "2022-05-04T23:22:29.726Z"
   },
   {
    "duration": 17,
    "start_time": "2022-05-04T23:22:29.742Z"
   },
   {
    "duration": 15,
    "start_time": "2022-05-04T23:22:29.761Z"
   },
   {
    "duration": 8,
    "start_time": "2022-05-04T23:22:29.809Z"
   },
   {
    "duration": 17,
    "start_time": "2022-05-04T23:22:29.819Z"
   },
   {
    "duration": 12,
    "start_time": "2022-05-04T23:22:29.837Z"
   },
   {
    "duration": 1038,
    "start_time": "2022-05-04T23:27:50.766Z"
   },
   {
    "duration": 3,
    "start_time": "2022-05-04T23:28:08.890Z"
   },
   {
    "duration": 175,
    "start_time": "2022-05-04T23:28:08.895Z"
   },
   {
    "duration": 11,
    "start_time": "2022-05-04T23:28:09.072Z"
   },
   {
    "duration": 49,
    "start_time": "2022-05-04T23:28:09.085Z"
   },
   {
    "duration": 4,
    "start_time": "2022-05-04T23:28:09.136Z"
   },
   {
    "duration": 11,
    "start_time": "2022-05-04T23:28:09.142Z"
   },
   {
    "duration": 4,
    "start_time": "2022-05-04T23:28:09.155Z"
   },
   {
    "duration": 53,
    "start_time": "2022-05-04T23:28:09.160Z"
   },
   {
    "duration": 21,
    "start_time": "2022-05-04T23:28:09.214Z"
   },
   {
    "duration": 32,
    "start_time": "2022-05-04T23:28:09.236Z"
   },
   {
    "duration": 95,
    "start_time": "2022-05-04T23:28:09.271Z"
   },
   {
    "duration": 95,
    "start_time": "2022-05-04T23:28:09.368Z"
   },
   {
    "duration": 84,
    "start_time": "2022-05-04T23:28:09.464Z"
   },
   {
    "duration": 42,
    "start_time": "2022-05-04T23:28:09.550Z"
   },
   {
    "duration": 14,
    "start_time": "2022-05-04T23:28:09.594Z"
   },
   {
    "duration": 13,
    "start_time": "2022-05-04T23:28:09.610Z"
   },
   {
    "duration": 21,
    "start_time": "2022-05-04T23:28:09.625Z"
   },
   {
    "duration": 71,
    "start_time": "2022-05-04T23:28:09.648Z"
   },
   {
    "duration": 71,
    "start_time": "2022-05-04T23:28:09.721Z"
   },
   {
    "duration": 17,
    "start_time": "2022-05-04T23:28:09.807Z"
   },
   {
    "duration": 16,
    "start_time": "2022-05-04T23:28:09.826Z"
   },
   {
    "duration": 4,
    "start_time": "2022-05-04T23:28:09.843Z"
   },
   {
    "duration": 22,
    "start_time": "2022-05-04T23:28:09.849Z"
   },
   {
    "duration": 51,
    "start_time": "2022-05-04T23:28:09.873Z"
   },
   {
    "duration": 16,
    "start_time": "2022-05-04T23:28:09.925Z"
   },
   {
    "duration": 15,
    "start_time": "2022-05-04T23:28:09.943Z"
   },
   {
    "duration": 48,
    "start_time": "2022-05-04T23:28:09.960Z"
   },
   {
    "duration": 17,
    "start_time": "2022-05-04T23:28:10.010Z"
   },
   {
    "duration": 8,
    "start_time": "2022-05-04T23:28:10.031Z"
   },
   {
    "duration": 13,
    "start_time": "2022-05-04T23:28:10.041Z"
   },
   {
    "duration": 13,
    "start_time": "2022-05-04T23:28:10.056Z"
   },
   {
    "duration": 1264,
    "start_time": "2022-05-04T23:29:00.503Z"
   },
   {
    "duration": 935,
    "start_time": "2022-05-04T23:30:28.873Z"
   },
   {
    "duration": 1063,
    "start_time": "2022-05-04T23:30:48.637Z"
   },
   {
    "duration": 13,
    "start_time": "2022-05-04T23:35:39.791Z"
   },
   {
    "duration": 2,
    "start_time": "2022-05-04T23:37:51.103Z"
   },
   {
    "duration": 182,
    "start_time": "2022-05-04T23:37:51.109Z"
   },
   {
    "duration": 16,
    "start_time": "2022-05-04T23:37:51.293Z"
   },
   {
    "duration": 35,
    "start_time": "2022-05-04T23:37:51.312Z"
   },
   {
    "duration": 5,
    "start_time": "2022-05-04T23:37:51.349Z"
   },
   {
    "duration": 10,
    "start_time": "2022-05-04T23:37:51.356Z"
   },
   {
    "duration": 39,
    "start_time": "2022-05-04T23:37:51.369Z"
   },
   {
    "duration": 31,
    "start_time": "2022-05-04T23:37:51.411Z"
   },
   {
    "duration": 21,
    "start_time": "2022-05-04T23:37:51.444Z"
   },
   {
    "duration": 52,
    "start_time": "2022-05-04T23:37:51.467Z"
   },
   {
    "duration": 88,
    "start_time": "2022-05-04T23:37:51.523Z"
   },
   {
    "duration": 95,
    "start_time": "2022-05-04T23:37:51.612Z"
   },
   {
    "duration": 66,
    "start_time": "2022-05-04T23:37:51.709Z"
   },
   {
    "duration": 58,
    "start_time": "2022-05-04T23:37:51.777Z"
   },
   {
    "duration": 3,
    "start_time": "2022-05-04T23:37:51.837Z"
   },
   {
    "duration": 11,
    "start_time": "2022-05-04T23:37:51.842Z"
   },
   {
    "duration": 16,
    "start_time": "2022-05-04T23:37:51.855Z"
   },
   {
    "duration": 62,
    "start_time": "2022-05-04T23:37:51.872Z"
   },
   {
    "duration": 82,
    "start_time": "2022-05-04T23:37:51.936Z"
   },
   {
    "duration": 17,
    "start_time": "2022-05-04T23:37:52.019Z"
   },
   {
    "duration": 15,
    "start_time": "2022-05-04T23:37:52.038Z"
   },
   {
    "duration": 3,
    "start_time": "2022-05-04T23:37:52.054Z"
   },
   {
    "duration": 49,
    "start_time": "2022-05-04T23:37:52.059Z"
   },
   {
    "duration": 16,
    "start_time": "2022-05-04T23:37:52.110Z"
   },
   {
    "duration": 16,
    "start_time": "2022-05-04T23:37:52.128Z"
   },
   {
    "duration": 16,
    "start_time": "2022-05-04T23:37:52.146Z"
   },
   {
    "duration": 48,
    "start_time": "2022-05-04T23:37:52.164Z"
   },
   {
    "duration": 17,
    "start_time": "2022-05-04T23:37:52.214Z"
   },
   {
    "duration": 8,
    "start_time": "2022-05-04T23:37:52.234Z"
   },
   {
    "duration": 14,
    "start_time": "2022-05-04T23:37:52.245Z"
   },
   {
    "duration": 14,
    "start_time": "2022-05-04T23:37:52.261Z"
   },
   {
    "duration": 6,
    "start_time": "2022-05-04T23:39:46.346Z"
   },
   {
    "duration": 17,
    "start_time": "2022-05-04T23:42:54.981Z"
   },
   {
    "duration": 6,
    "start_time": "2022-05-04T23:43:06.268Z"
   },
   {
    "duration": 12,
    "start_time": "2022-05-04T23:43:45.011Z"
   },
   {
    "duration": 9133,
    "start_time": "2022-05-04T23:44:49.361Z"
   },
   {
    "duration": 6,
    "start_time": "2022-05-04T23:45:41.202Z"
   },
   {
    "duration": 2412,
    "start_time": "2022-05-04T23:45:53.399Z"
   },
   {
    "duration": 2,
    "start_time": "2022-05-04T23:47:56.824Z"
   },
   {
    "duration": 3,
    "start_time": "2022-05-04T23:48:18.622Z"
   },
   {
    "duration": 2,
    "start_time": "2022-05-04T23:48:48.494Z"
   },
   {
    "duration": 190,
    "start_time": "2022-05-04T23:48:48.498Z"
   },
   {
    "duration": 18,
    "start_time": "2022-05-04T23:48:48.691Z"
   },
   {
    "duration": 35,
    "start_time": "2022-05-04T23:48:48.711Z"
   },
   {
    "duration": 4,
    "start_time": "2022-05-04T23:48:48.748Z"
   },
   {
    "duration": 13,
    "start_time": "2022-05-04T23:48:48.754Z"
   },
   {
    "duration": 3,
    "start_time": "2022-05-04T23:48:48.769Z"
   },
   {
    "duration": 55,
    "start_time": "2022-05-04T23:48:48.774Z"
   },
   {
    "duration": 18,
    "start_time": "2022-05-04T23:48:48.831Z"
   },
   {
    "duration": 31,
    "start_time": "2022-05-04T23:48:48.851Z"
   },
   {
    "duration": 88,
    "start_time": "2022-05-04T23:48:48.884Z"
   },
   {
    "duration": 100,
    "start_time": "2022-05-04T23:48:48.974Z"
   },
   {
    "duration": 82,
    "start_time": "2022-05-04T23:48:49.076Z"
   },
   {
    "duration": 52,
    "start_time": "2022-05-04T23:48:49.160Z"
   },
   {
    "duration": 3,
    "start_time": "2022-05-04T23:48:49.214Z"
   },
   {
    "duration": 11,
    "start_time": "2022-05-04T23:48:49.219Z"
   },
   {
    "duration": 16,
    "start_time": "2022-05-04T23:48:49.232Z"
   },
   {
    "duration": 67,
    "start_time": "2022-05-04T23:48:49.249Z"
   },
   {
    "duration": 66,
    "start_time": "2022-05-04T23:48:49.318Z"
   },
   {
    "duration": 30,
    "start_time": "2022-05-04T23:48:49.385Z"
   },
   {
    "duration": 15,
    "start_time": "2022-05-04T23:48:49.417Z"
   },
   {
    "duration": 3,
    "start_time": "2022-05-04T23:48:49.434Z"
   },
   {
    "duration": 23,
    "start_time": "2022-05-04T23:48:49.439Z"
   },
   {
    "duration": 47,
    "start_time": "2022-05-04T23:48:49.463Z"
   },
   {
    "duration": 23,
    "start_time": "2022-05-04T23:48:49.512Z"
   },
   {
    "duration": 16,
    "start_time": "2022-05-04T23:48:49.537Z"
   },
   {
    "duration": 19,
    "start_time": "2022-05-04T23:48:49.555Z"
   },
   {
    "duration": 47,
    "start_time": "2022-05-04T23:48:49.576Z"
   },
   {
    "duration": 9,
    "start_time": "2022-05-04T23:48:49.626Z"
   },
   {
    "duration": 17,
    "start_time": "2022-05-04T23:48:49.637Z"
   },
   {
    "duration": 13,
    "start_time": "2022-05-04T23:48:49.656Z"
   },
   {
    "duration": 5,
    "start_time": "2022-05-04T23:48:49.671Z"
   },
   {
    "duration": 3,
    "start_time": "2022-05-04T23:48:49.708Z"
   },
   {
    "duration": 8229,
    "start_time": "2022-05-04T23:48:49.713Z"
   },
   {
    "duration": 0,
    "start_time": "2022-05-04T23:48:57.943Z"
   },
   {
    "duration": 0,
    "start_time": "2022-05-04T23:48:57.944Z"
   },
   {
    "duration": 0,
    "start_time": "2022-05-04T23:48:57.945Z"
   },
   {
    "duration": 0,
    "start_time": "2022-05-04T23:48:57.946Z"
   },
   {
    "duration": 0,
    "start_time": "2022-05-04T23:48:57.947Z"
   },
   {
    "duration": 0,
    "start_time": "2022-05-04T23:48:57.948Z"
   },
   {
    "duration": 0,
    "start_time": "2022-05-04T23:48:57.950Z"
   },
   {
    "duration": 6,
    "start_time": "2022-05-04T23:51:35.131Z"
   },
   {
    "duration": 2443,
    "start_time": "2022-05-04T23:52:39.840Z"
   },
   {
    "duration": 6,
    "start_time": "2022-05-04T23:53:13.648Z"
   },
   {
    "duration": 25,
    "start_time": "2022-05-04T23:53:19.533Z"
   },
   {
    "duration": 17,
    "start_time": "2022-05-04T23:54:11.994Z"
   },
   {
    "duration": 5,
    "start_time": "2022-05-04T23:54:15.289Z"
   },
   {
    "duration": 3,
    "start_time": "2022-05-04T23:54:22.439Z"
   },
   {
    "duration": 181,
    "start_time": "2022-05-04T23:54:22.443Z"
   },
   {
    "duration": 12,
    "start_time": "2022-05-04T23:54:22.626Z"
   },
   {
    "duration": 32,
    "start_time": "2022-05-04T23:54:22.640Z"
   },
   {
    "duration": 4,
    "start_time": "2022-05-04T23:54:22.675Z"
   },
   {
    "duration": 34,
    "start_time": "2022-05-04T23:54:22.681Z"
   },
   {
    "duration": 4,
    "start_time": "2022-05-04T23:54:22.717Z"
   },
   {
    "duration": 28,
    "start_time": "2022-05-04T23:54:22.723Z"
   },
   {
    "duration": 18,
    "start_time": "2022-05-04T23:54:22.753Z"
   },
   {
    "duration": 59,
    "start_time": "2022-05-04T23:54:22.773Z"
   },
   {
    "duration": 81,
    "start_time": "2022-05-04T23:54:22.836Z"
   },
   {
    "duration": 73,
    "start_time": "2022-05-04T23:54:22.918Z"
   },
   {
    "duration": 69,
    "start_time": "2022-05-04T23:54:22.993Z"
   },
   {
    "duration": 58,
    "start_time": "2022-05-04T23:54:23.064Z"
   },
   {
    "duration": 4,
    "start_time": "2022-05-04T23:54:23.123Z"
   },
   {
    "duration": 12,
    "start_time": "2022-05-04T23:54:23.128Z"
   },
   {
    "duration": 15,
    "start_time": "2022-05-04T23:54:23.141Z"
   },
   {
    "duration": 67,
    "start_time": "2022-05-04T23:54:23.158Z"
   },
   {
    "duration": 80,
    "start_time": "2022-05-04T23:54:23.227Z"
   },
   {
    "duration": 14,
    "start_time": "2022-05-04T23:54:23.309Z"
   },
   {
    "duration": 13,
    "start_time": "2022-05-04T23:54:23.324Z"
   },
   {
    "duration": 4,
    "start_time": "2022-05-04T23:54:23.338Z"
   },
   {
    "duration": 20,
    "start_time": "2022-05-04T23:54:23.343Z"
   },
   {
    "duration": 44,
    "start_time": "2022-05-04T23:54:23.364Z"
   },
   {
    "duration": 17,
    "start_time": "2022-05-04T23:54:23.410Z"
   },
   {
    "duration": 15,
    "start_time": "2022-05-04T23:54:23.429Z"
   },
   {
    "duration": 18,
    "start_time": "2022-05-04T23:54:23.446Z"
   },
   {
    "duration": 47,
    "start_time": "2022-05-04T23:54:23.466Z"
   },
   {
    "duration": 9,
    "start_time": "2022-05-04T23:54:23.516Z"
   },
   {
    "duration": 22,
    "start_time": "2022-05-04T23:54:23.526Z"
   },
   {
    "duration": 11,
    "start_time": "2022-05-04T23:54:23.550Z"
   },
   {
    "duration": 5,
    "start_time": "2022-05-04T23:54:23.563Z"
   },
   {
    "duration": 5,
    "start_time": "2022-05-04T23:55:41.560Z"
   },
   {
    "duration": 12,
    "start_time": "2022-05-04T23:55:46.354Z"
   },
   {
    "duration": 13,
    "start_time": "2022-05-04T23:57:48.427Z"
   },
   {
    "duration": 6,
    "start_time": "2022-05-04T23:57:52.418Z"
   },
   {
    "duration": 2481,
    "start_time": "2022-05-04T23:57:56.071Z"
   },
   {
    "duration": 4,
    "start_time": "2022-05-04T23:59:22.818Z"
   },
   {
    "duration": 5,
    "start_time": "2022-05-04T23:59:51.765Z"
   },
   {
    "duration": 4,
    "start_time": "2022-05-04T23:59:54.767Z"
   },
   {
    "duration": 16,
    "start_time": "2022-05-05T00:00:17.288Z"
   },
   {
    "duration": 3,
    "start_time": "2022-05-05T00:00:47.265Z"
   },
   {
    "duration": 183,
    "start_time": "2022-05-05T00:00:47.270Z"
   },
   {
    "duration": 11,
    "start_time": "2022-05-05T00:00:47.455Z"
   },
   {
    "duration": 49,
    "start_time": "2022-05-05T00:00:47.468Z"
   },
   {
    "duration": 4,
    "start_time": "2022-05-05T00:00:47.520Z"
   },
   {
    "duration": 11,
    "start_time": "2022-05-05T00:00:47.526Z"
   },
   {
    "duration": 4,
    "start_time": "2022-05-05T00:00:47.539Z"
   },
   {
    "duration": 31,
    "start_time": "2022-05-05T00:00:47.545Z"
   },
   {
    "duration": 24,
    "start_time": "2022-05-05T00:00:47.608Z"
   },
   {
    "duration": 32,
    "start_time": "2022-05-05T00:00:47.634Z"
   },
   {
    "duration": 96,
    "start_time": "2022-05-05T00:00:47.669Z"
   },
   {
    "duration": 118,
    "start_time": "2022-05-05T00:00:47.767Z"
   },
   {
    "duration": 77,
    "start_time": "2022-05-05T00:00:47.886Z"
   },
   {
    "duration": 52,
    "start_time": "2022-05-05T00:00:47.964Z"
   },
   {
    "duration": 3,
    "start_time": "2022-05-05T00:00:48.018Z"
   },
   {
    "duration": 11,
    "start_time": "2022-05-05T00:00:48.022Z"
   },
   {
    "duration": 14,
    "start_time": "2022-05-05T00:00:48.035Z"
   },
   {
    "duration": 63,
    "start_time": "2022-05-05T00:00:48.051Z"
   },
   {
    "duration": 71,
    "start_time": "2022-05-05T00:00:48.116Z"
   },
   {
    "duration": 31,
    "start_time": "2022-05-05T00:00:48.188Z"
   },
   {
    "duration": 15,
    "start_time": "2022-05-05T00:00:48.221Z"
   },
   {
    "duration": 3,
    "start_time": "2022-05-05T00:00:48.238Z"
   },
   {
    "duration": 23,
    "start_time": "2022-05-05T00:00:48.243Z"
   },
   {
    "duration": 47,
    "start_time": "2022-05-05T00:00:48.268Z"
   },
   {
    "duration": 18,
    "start_time": "2022-05-05T00:00:48.317Z"
   },
   {
    "duration": 17,
    "start_time": "2022-05-05T00:00:48.337Z"
   },
   {
    "duration": 20,
    "start_time": "2022-05-05T00:00:48.356Z"
   },
   {
    "duration": 18,
    "start_time": "2022-05-05T00:00:48.407Z"
   },
   {
    "duration": 8,
    "start_time": "2022-05-05T00:00:48.430Z"
   },
   {
    "duration": 21,
    "start_time": "2022-05-05T00:00:48.440Z"
   },
   {
    "duration": 12,
    "start_time": "2022-05-05T00:00:48.462Z"
   },
   {
    "duration": 34,
    "start_time": "2022-05-05T00:00:48.475Z"
   },
   {
    "duration": 2445,
    "start_time": "2022-05-05T00:00:48.511Z"
   },
   {
    "duration": 0,
    "start_time": "2022-05-05T00:00:50.958Z"
   },
   {
    "duration": 0,
    "start_time": "2022-05-05T00:00:50.959Z"
   },
   {
    "duration": 0,
    "start_time": "2022-05-05T00:00:50.960Z"
   },
   {
    "duration": 0,
    "start_time": "2022-05-05T00:00:50.961Z"
   },
   {
    "duration": 0,
    "start_time": "2022-05-05T00:00:50.962Z"
   },
   {
    "duration": 0,
    "start_time": "2022-05-05T00:00:50.963Z"
   },
   {
    "duration": 0,
    "start_time": "2022-05-05T00:00:50.964Z"
   },
   {
    "duration": 0,
    "start_time": "2022-05-05T00:00:50.965Z"
   },
   {
    "duration": 4,
    "start_time": "2022-05-05T00:01:37.949Z"
   },
   {
    "duration": 16,
    "start_time": "2022-05-05T00:01:41.099Z"
   },
   {
    "duration": 2,
    "start_time": "2022-05-05T00:01:49.343Z"
   },
   {
    "duration": 169,
    "start_time": "2022-05-05T00:01:49.347Z"
   },
   {
    "duration": 11,
    "start_time": "2022-05-05T00:01:49.518Z"
   },
   {
    "duration": 35,
    "start_time": "2022-05-05T00:01:49.531Z"
   },
   {
    "duration": 4,
    "start_time": "2022-05-05T00:01:49.569Z"
   },
   {
    "duration": 39,
    "start_time": "2022-05-05T00:01:49.575Z"
   },
   {
    "duration": 5,
    "start_time": "2022-05-05T00:01:49.616Z"
   },
   {
    "duration": 29,
    "start_time": "2022-05-05T00:01:49.623Z"
   },
   {
    "duration": 21,
    "start_time": "2022-05-05T00:01:49.654Z"
   },
   {
    "duration": 50,
    "start_time": "2022-05-05T00:01:49.677Z"
   },
   {
    "duration": 89,
    "start_time": "2022-05-05T00:01:49.730Z"
   },
   {
    "duration": 75,
    "start_time": "2022-05-05T00:01:49.821Z"
   },
   {
    "duration": 67,
    "start_time": "2022-05-05T00:01:49.898Z"
   },
   {
    "duration": 53,
    "start_time": "2022-05-05T00:01:49.967Z"
   },
   {
    "duration": 3,
    "start_time": "2022-05-05T00:01:50.022Z"
   },
   {
    "duration": 15,
    "start_time": "2022-05-05T00:01:50.026Z"
   },
   {
    "duration": 14,
    "start_time": "2022-05-05T00:01:50.043Z"
   },
   {
    "duration": 62,
    "start_time": "2022-05-05T00:01:50.059Z"
   },
   {
    "duration": 67,
    "start_time": "2022-05-05T00:01:50.122Z"
   },
   {
    "duration": 22,
    "start_time": "2022-05-05T00:01:50.190Z"
   },
   {
    "duration": 13,
    "start_time": "2022-05-05T00:01:50.214Z"
   },
   {
    "duration": 4,
    "start_time": "2022-05-05T00:01:50.228Z"
   },
   {
    "duration": 19,
    "start_time": "2022-05-05T00:01:50.233Z"
   },
   {
    "duration": 14,
    "start_time": "2022-05-05T00:01:50.254Z"
   },
   {
    "duration": 48,
    "start_time": "2022-05-05T00:01:50.270Z"
   },
   {
    "duration": 16,
    "start_time": "2022-05-05T00:01:50.320Z"
   },
   {
    "duration": 17,
    "start_time": "2022-05-05T00:01:50.338Z"
   },
   {
    "duration": 15,
    "start_time": "2022-05-05T00:01:50.356Z"
   },
   {
    "duration": 37,
    "start_time": "2022-05-05T00:01:50.374Z"
   },
   {
    "duration": 25,
    "start_time": "2022-05-05T00:01:50.413Z"
   },
   {
    "duration": 11,
    "start_time": "2022-05-05T00:01:50.439Z"
   },
   {
    "duration": 5,
    "start_time": "2022-05-05T00:01:50.451Z"
   },
   {
    "duration": 2602,
    "start_time": "2022-05-05T00:02:04.422Z"
   },
   {
    "duration": 6,
    "start_time": "2022-05-05T00:03:47.380Z"
   },
   {
    "duration": 3,
    "start_time": "2022-05-05T00:04:11.590Z"
   },
   {
    "duration": 183,
    "start_time": "2022-05-05T00:04:11.595Z"
   },
   {
    "duration": 11,
    "start_time": "2022-05-05T00:04:11.780Z"
   },
   {
    "duration": 50,
    "start_time": "2022-05-05T00:04:11.793Z"
   },
   {
    "duration": 4,
    "start_time": "2022-05-05T00:04:11.845Z"
   },
   {
    "duration": 11,
    "start_time": "2022-05-05T00:04:11.851Z"
   },
   {
    "duration": 4,
    "start_time": "2022-05-05T00:04:11.864Z"
   },
   {
    "duration": 63,
    "start_time": "2022-05-05T00:04:11.869Z"
   },
   {
    "duration": 24,
    "start_time": "2022-05-05T00:04:11.934Z"
   },
   {
    "duration": 32,
    "start_time": "2022-05-05T00:04:11.960Z"
   },
   {
    "duration": 81,
    "start_time": "2022-05-05T00:04:12.009Z"
   },
   {
    "duration": 100,
    "start_time": "2022-05-05T00:04:12.092Z"
   },
   {
    "duration": 85,
    "start_time": "2022-05-05T00:04:12.193Z"
   },
   {
    "duration": 56,
    "start_time": "2022-05-05T00:04:12.279Z"
   },
   {
    "duration": 3,
    "start_time": "2022-05-05T00:04:12.337Z"
   },
   {
    "duration": 12,
    "start_time": "2022-05-05T00:04:12.341Z"
   },
   {
    "duration": 15,
    "start_time": "2022-05-05T00:04:12.355Z"
   },
   {
    "duration": 63,
    "start_time": "2022-05-05T00:04:12.371Z"
   },
   {
    "duration": 83,
    "start_time": "2022-05-05T00:04:12.436Z"
   },
   {
    "duration": 16,
    "start_time": "2022-05-05T00:04:12.521Z"
   },
   {
    "duration": 27,
    "start_time": "2022-05-05T00:04:12.539Z"
   },
   {
    "duration": 3,
    "start_time": "2022-05-05T00:04:12.568Z"
   },
   {
    "duration": 40,
    "start_time": "2022-05-05T00:04:12.573Z"
   },
   {
    "duration": 19,
    "start_time": "2022-05-05T00:04:12.614Z"
   },
   {
    "duration": 18,
    "start_time": "2022-05-05T00:04:12.635Z"
   },
   {
    "duration": 16,
    "start_time": "2022-05-05T00:04:12.655Z"
   },
   {
    "duration": 49,
    "start_time": "2022-05-05T00:04:12.673Z"
   },
   {
    "duration": 18,
    "start_time": "2022-05-05T00:04:12.724Z"
   },
   {
    "duration": 9,
    "start_time": "2022-05-05T00:04:12.745Z"
   },
   {
    "duration": 28,
    "start_time": "2022-05-05T00:04:12.756Z"
   },
   {
    "duration": 15,
    "start_time": "2022-05-05T00:04:12.808Z"
   },
   {
    "duration": 7,
    "start_time": "2022-05-05T00:04:12.825Z"
   },
   {
    "duration": 8779,
    "start_time": "2022-05-05T00:04:12.835Z"
   },
   {
    "duration": 0,
    "start_time": "2022-05-05T00:04:21.617Z"
   },
   {
    "duration": 0,
    "start_time": "2022-05-05T00:04:21.618Z"
   },
   {
    "duration": 0,
    "start_time": "2022-05-05T00:04:21.619Z"
   },
   {
    "duration": 0,
    "start_time": "2022-05-05T00:04:21.621Z"
   },
   {
    "duration": 0,
    "start_time": "2022-05-05T00:04:21.622Z"
   },
   {
    "duration": 0,
    "start_time": "2022-05-05T00:04:21.624Z"
   },
   {
    "duration": 0,
    "start_time": "2022-05-05T00:04:21.625Z"
   },
   {
    "duration": 5,
    "start_time": "2022-05-05T00:04:58.630Z"
   },
   {
    "duration": 20,
    "start_time": "2022-05-05T00:05:10.023Z"
   },
   {
    "duration": 2,
    "start_time": "2022-05-05T00:05:25.572Z"
   },
   {
    "duration": 170,
    "start_time": "2022-05-05T00:05:25.576Z"
   },
   {
    "duration": 10,
    "start_time": "2022-05-05T00:05:25.748Z"
   },
   {
    "duration": 52,
    "start_time": "2022-05-05T00:05:25.760Z"
   },
   {
    "duration": 3,
    "start_time": "2022-05-05T00:05:25.814Z"
   },
   {
    "duration": 11,
    "start_time": "2022-05-05T00:05:25.819Z"
   },
   {
    "duration": 3,
    "start_time": "2022-05-05T00:05:25.832Z"
   },
   {
    "duration": 29,
    "start_time": "2022-05-05T00:05:25.837Z"
   },
   {
    "duration": 51,
    "start_time": "2022-05-05T00:05:25.868Z"
   },
   {
    "duration": 26,
    "start_time": "2022-05-05T00:05:25.921Z"
   },
   {
    "duration": 83,
    "start_time": "2022-05-05T00:05:25.950Z"
   },
   {
    "duration": 93,
    "start_time": "2022-05-05T00:05:26.035Z"
   },
   {
    "duration": 69,
    "start_time": "2022-05-05T00:05:26.130Z"
   },
   {
    "duration": 46,
    "start_time": "2022-05-05T00:05:26.201Z"
   },
   {
    "duration": 2,
    "start_time": "2022-05-05T00:05:26.249Z"
   },
   {
    "duration": 11,
    "start_time": "2022-05-05T00:05:26.253Z"
   },
   {
    "duration": 15,
    "start_time": "2022-05-05T00:05:26.265Z"
   },
   {
    "duration": 47,
    "start_time": "2022-05-05T00:05:26.282Z"
   },
   {
    "duration": 67,
    "start_time": "2022-05-05T00:05:26.330Z"
   },
   {
    "duration": 19,
    "start_time": "2022-05-05T00:05:26.399Z"
   },
   {
    "duration": 13,
    "start_time": "2022-05-05T00:05:26.420Z"
   },
   {
    "duration": 3,
    "start_time": "2022-05-05T00:05:26.435Z"
   },
   {
    "duration": 22,
    "start_time": "2022-05-05T00:05:26.439Z"
   },
   {
    "duration": 12,
    "start_time": "2022-05-05T00:05:26.463Z"
   },
   {
    "duration": 14,
    "start_time": "2022-05-05T00:05:26.477Z"
   },
   {
    "duration": 15,
    "start_time": "2022-05-05T00:05:26.506Z"
   },
   {
    "duration": 16,
    "start_time": "2022-05-05T00:05:26.522Z"
   },
   {
    "duration": 14,
    "start_time": "2022-05-05T00:05:26.540Z"
   },
   {
    "duration": 8,
    "start_time": "2022-05-05T00:05:26.558Z"
   },
   {
    "duration": 16,
    "start_time": "2022-05-05T00:05:26.608Z"
   },
   {
    "duration": 14,
    "start_time": "2022-05-05T00:05:26.625Z"
   },
   {
    "duration": 5,
    "start_time": "2022-05-05T00:05:26.641Z"
   },
   {
    "duration": 8579,
    "start_time": "2022-05-05T00:05:26.648Z"
   },
   {
    "duration": 2310,
    "start_time": "2022-05-05T00:05:35.229Z"
   },
   {
    "duration": 20,
    "start_time": "2022-05-05T00:05:37.540Z"
   },
   {
    "duration": 0,
    "start_time": "2022-05-05T00:05:37.562Z"
   },
   {
    "duration": 0,
    "start_time": "2022-05-05T00:05:37.563Z"
   },
   {
    "duration": 0,
    "start_time": "2022-05-05T00:05:37.564Z"
   },
   {
    "duration": 0,
    "start_time": "2022-05-05T00:05:37.565Z"
   },
   {
    "duration": 0,
    "start_time": "2022-05-05T00:05:37.567Z"
   },
   {
    "duration": 437,
    "start_time": "2022-05-05T10:04:32.186Z"
   },
   {
    "duration": 175,
    "start_time": "2022-05-05T10:04:32.626Z"
   },
   {
    "duration": 19,
    "start_time": "2022-05-05T10:04:32.803Z"
   },
   {
    "duration": 35,
    "start_time": "2022-05-05T10:04:32.825Z"
   },
   {
    "duration": 4,
    "start_time": "2022-05-05T10:04:32.861Z"
   },
   {
    "duration": 41,
    "start_time": "2022-05-05T10:04:32.867Z"
   },
   {
    "duration": 20,
    "start_time": "2022-05-05T10:04:32.909Z"
   },
   {
    "duration": 44,
    "start_time": "2022-05-05T10:04:32.931Z"
   },
   {
    "duration": 24,
    "start_time": "2022-05-05T10:04:32.976Z"
   },
   {
    "duration": 25,
    "start_time": "2022-05-05T10:04:33.003Z"
   },
   {
    "duration": 70,
    "start_time": "2022-05-05T10:04:33.030Z"
   },
   {
    "duration": 78,
    "start_time": "2022-05-05T10:04:33.102Z"
   },
   {
    "duration": 77,
    "start_time": "2022-05-05T10:04:33.181Z"
   },
   {
    "duration": 50,
    "start_time": "2022-05-05T10:04:33.260Z"
   },
   {
    "duration": 3,
    "start_time": "2022-05-05T10:04:33.312Z"
   },
   {
    "duration": 32,
    "start_time": "2022-05-05T10:04:33.316Z"
   },
   {
    "duration": 35,
    "start_time": "2022-05-05T10:04:33.350Z"
   },
   {
    "duration": 58,
    "start_time": "2022-05-05T10:04:33.387Z"
   },
   {
    "duration": 73,
    "start_time": "2022-05-05T10:04:33.446Z"
   },
   {
    "duration": 12,
    "start_time": "2022-05-05T10:04:33.521Z"
   },
   {
    "duration": 21,
    "start_time": "2022-05-05T10:04:33.535Z"
   },
   {
    "duration": 20,
    "start_time": "2022-05-05T10:04:33.558Z"
   },
   {
    "duration": 40,
    "start_time": "2022-05-05T10:04:33.579Z"
   },
   {
    "duration": 36,
    "start_time": "2022-05-05T10:04:33.621Z"
   },
   {
    "duration": 32,
    "start_time": "2022-05-05T10:04:33.659Z"
   },
   {
    "duration": 32,
    "start_time": "2022-05-05T10:04:33.693Z"
   },
   {
    "duration": 37,
    "start_time": "2022-05-05T10:04:33.728Z"
   },
   {
    "duration": 34,
    "start_time": "2022-05-05T10:04:33.770Z"
   },
   {
    "duration": 15,
    "start_time": "2022-05-05T10:04:33.806Z"
   },
   {
    "duration": 40,
    "start_time": "2022-05-05T10:04:33.823Z"
   },
   {
    "duration": 30,
    "start_time": "2022-05-05T10:04:33.865Z"
   },
   {
    "duration": 19,
    "start_time": "2022-05-05T10:04:33.897Z"
   },
   {
    "duration": 8632,
    "start_time": "2022-05-05T10:04:33.917Z"
   },
   {
    "duration": 2994,
    "start_time": "2022-05-05T10:04:42.551Z"
   },
   {
    "duration": 85,
    "start_time": "2022-05-05T10:04:45.547Z"
   },
   {
    "duration": 0,
    "start_time": "2022-05-05T10:04:45.634Z"
   },
   {
    "duration": 0,
    "start_time": "2022-05-05T10:04:45.635Z"
   },
   {
    "duration": 0,
    "start_time": "2022-05-05T10:04:45.637Z"
   },
   {
    "duration": 0,
    "start_time": "2022-05-05T10:04:45.638Z"
   },
   {
    "duration": 0,
    "start_time": "2022-05-05T10:04:45.639Z"
   },
   {
    "duration": 156,
    "start_time": "2022-05-05T10:07:35.618Z"
   },
   {
    "duration": 128,
    "start_time": "2022-05-05T10:10:11.351Z"
   },
   {
    "duration": 617,
    "start_time": "2022-05-05T10:10:53.200Z"
   },
   {
    "duration": 95,
    "start_time": "2022-05-05T10:19:29.015Z"
   },
   {
    "duration": 105,
    "start_time": "2022-05-05T10:19:39.068Z"
   },
   {
    "duration": 97,
    "start_time": "2022-05-05T10:20:01.572Z"
   },
   {
    "duration": 88,
    "start_time": "2022-05-05T10:21:52.459Z"
   },
   {
    "duration": 98,
    "start_time": "2022-05-05T10:27:12.011Z"
   },
   {
    "duration": 14775,
    "start_time": "2022-05-05T10:27:27.917Z"
   },
   {
    "duration": 75,
    "start_time": "2022-05-05T10:27:56.668Z"
   },
   {
    "duration": 2,
    "start_time": "2022-05-05T10:28:14.299Z"
   },
   {
    "duration": 175,
    "start_time": "2022-05-05T10:28:14.303Z"
   },
   {
    "duration": 11,
    "start_time": "2022-05-05T10:28:14.480Z"
   },
   {
    "duration": 40,
    "start_time": "2022-05-05T10:28:14.492Z"
   },
   {
    "duration": 6,
    "start_time": "2022-05-05T10:28:14.534Z"
   },
   {
    "duration": 11,
    "start_time": "2022-05-05T10:28:14.542Z"
   },
   {
    "duration": 4,
    "start_time": "2022-05-05T10:28:14.555Z"
   },
   {
    "duration": 57,
    "start_time": "2022-05-05T10:28:14.560Z"
   },
   {
    "duration": 20,
    "start_time": "2022-05-05T10:28:14.619Z"
   },
   {
    "duration": 26,
    "start_time": "2022-05-05T10:28:14.641Z"
   },
   {
    "duration": 94,
    "start_time": "2022-05-05T10:28:14.669Z"
   },
   {
    "duration": 86,
    "start_time": "2022-05-05T10:28:14.765Z"
   },
   {
    "duration": 72,
    "start_time": "2022-05-05T10:28:14.853Z"
   },
   {
    "duration": 43,
    "start_time": "2022-05-05T10:28:14.928Z"
   },
   {
    "duration": 3,
    "start_time": "2022-05-05T10:28:14.973Z"
   },
   {
    "duration": 36,
    "start_time": "2022-05-05T10:28:14.978Z"
   },
   {
    "duration": 16,
    "start_time": "2022-05-05T10:28:15.016Z"
   },
   {
    "duration": 45,
    "start_time": "2022-05-05T10:28:15.033Z"
   },
   {
    "duration": 14758,
    "start_time": "2022-05-05T10:28:15.080Z"
   },
   {
    "duration": 2,
    "start_time": "2022-05-05T10:28:59.818Z"
   },
   {
    "duration": 164,
    "start_time": "2022-05-05T10:28:59.822Z"
   },
   {
    "duration": 12,
    "start_time": "2022-05-05T10:28:59.988Z"
   },
   {
    "duration": 45,
    "start_time": "2022-05-05T10:29:00.009Z"
   },
   {
    "duration": 4,
    "start_time": "2022-05-05T10:29:00.056Z"
   },
   {
    "duration": 11,
    "start_time": "2022-05-05T10:29:00.062Z"
   },
   {
    "duration": 4,
    "start_time": "2022-05-05T10:29:00.075Z"
   },
   {
    "duration": 46,
    "start_time": "2022-05-05T10:29:00.081Z"
   },
   {
    "duration": 41,
    "start_time": "2022-05-05T10:29:00.130Z"
   },
   {
    "duration": 34,
    "start_time": "2022-05-05T10:29:00.173Z"
   },
   {
    "duration": 72,
    "start_time": "2022-05-05T10:29:00.209Z"
   },
   {
    "duration": 80,
    "start_time": "2022-05-05T10:29:00.283Z"
   },
   {
    "duration": 66,
    "start_time": "2022-05-05T10:29:00.365Z"
   },
   {
    "duration": 42,
    "start_time": "2022-05-05T10:29:00.433Z"
   },
   {
    "duration": 3,
    "start_time": "2022-05-05T10:29:00.476Z"
   },
   {
    "duration": 32,
    "start_time": "2022-05-05T10:29:00.481Z"
   },
   {
    "duration": 13,
    "start_time": "2022-05-05T10:29:00.515Z"
   },
   {
    "duration": 42,
    "start_time": "2022-05-05T10:29:00.530Z"
   },
   {
    "duration": 3,
    "start_time": "2022-05-05T10:29:31.224Z"
   },
   {
    "duration": 174,
    "start_time": "2022-05-05T10:29:31.229Z"
   },
   {
    "duration": 12,
    "start_time": "2022-05-05T10:29:31.404Z"
   },
   {
    "duration": 46,
    "start_time": "2022-05-05T10:29:31.419Z"
   },
   {
    "duration": 11,
    "start_time": "2022-05-05T10:29:31.467Z"
   },
   {
    "duration": 19,
    "start_time": "2022-05-05T10:29:31.479Z"
   },
   {
    "duration": 6,
    "start_time": "2022-05-05T10:29:31.500Z"
   },
   {
    "duration": 34,
    "start_time": "2022-05-05T10:29:31.507Z"
   },
   {
    "duration": 18,
    "start_time": "2022-05-05T10:29:31.544Z"
   },
   {
    "duration": 25,
    "start_time": "2022-05-05T10:29:31.564Z"
   },
   {
    "duration": 88,
    "start_time": "2022-05-05T10:29:31.591Z"
   },
   {
    "duration": 78,
    "start_time": "2022-05-05T10:29:31.680Z"
   },
   {
    "duration": 63,
    "start_time": "2022-05-05T10:29:31.759Z"
   },
   {
    "duration": 40,
    "start_time": "2022-05-05T10:29:31.823Z"
   },
   {
    "duration": 3,
    "start_time": "2022-05-05T10:29:31.865Z"
   },
   {
    "duration": 21,
    "start_time": "2022-05-05T10:29:31.870Z"
   },
   {
    "duration": 20,
    "start_time": "2022-05-05T10:29:31.893Z"
   },
   {
    "duration": 41,
    "start_time": "2022-05-05T10:29:31.915Z"
   },
   {
    "duration": 3,
    "start_time": "2022-05-05T10:33:47.042Z"
   },
   {
    "duration": 162,
    "start_time": "2022-05-05T10:33:47.046Z"
   },
   {
    "duration": 11,
    "start_time": "2022-05-05T10:33:47.210Z"
   },
   {
    "duration": 30,
    "start_time": "2022-05-05T10:33:47.222Z"
   },
   {
    "duration": 4,
    "start_time": "2022-05-05T10:33:47.254Z"
   },
   {
    "duration": 11,
    "start_time": "2022-05-05T10:33:47.259Z"
   },
   {
    "duration": 4,
    "start_time": "2022-05-05T10:33:47.271Z"
   },
   {
    "duration": 48,
    "start_time": "2022-05-05T10:33:47.277Z"
   },
   {
    "duration": 18,
    "start_time": "2022-05-05T10:33:47.327Z"
   },
   {
    "duration": 25,
    "start_time": "2022-05-05T10:33:47.346Z"
   },
   {
    "duration": 94,
    "start_time": "2022-05-05T10:33:47.373Z"
   },
   {
    "duration": 77,
    "start_time": "2022-05-05T10:33:47.468Z"
   },
   {
    "duration": 66,
    "start_time": "2022-05-05T10:33:47.547Z"
   },
   {
    "duration": 41,
    "start_time": "2022-05-05T10:33:47.614Z"
   },
   {
    "duration": 2,
    "start_time": "2022-05-05T10:33:47.657Z"
   },
   {
    "duration": 11,
    "start_time": "2022-05-05T10:33:47.661Z"
   },
   {
    "duration": 36,
    "start_time": "2022-05-05T10:33:47.674Z"
   },
   {
    "duration": 42,
    "start_time": "2022-05-05T10:33:47.712Z"
   },
   {
    "duration": 100,
    "start_time": "2022-05-05T10:33:47.757Z"
   },
   {
    "duration": 11,
    "start_time": "2022-05-05T10:34:25.944Z"
   },
   {
    "duration": 5,
    "start_time": "2022-05-05T10:35:01.106Z"
   },
   {
    "duration": 5,
    "start_time": "2022-05-05T10:40:13.967Z"
   },
   {
    "duration": 3,
    "start_time": "2022-05-05T10:40:27.306Z"
   },
   {
    "duration": 4,
    "start_time": "2022-05-05T10:41:12.087Z"
   },
   {
    "duration": 64,
    "start_time": "2022-05-05T10:41:24.949Z"
   },
   {
    "duration": 4,
    "start_time": "2022-05-05T10:41:29.698Z"
   },
   {
    "duration": 7,
    "start_time": "2022-05-05T10:41:55.465Z"
   },
   {
    "duration": 3,
    "start_time": "2022-05-05T10:44:01.529Z"
   },
   {
    "duration": 169,
    "start_time": "2022-05-05T10:44:01.536Z"
   },
   {
    "duration": 12,
    "start_time": "2022-05-05T10:44:01.707Z"
   },
   {
    "duration": 35,
    "start_time": "2022-05-05T10:44:01.721Z"
   },
   {
    "duration": 5,
    "start_time": "2022-05-05T10:44:01.759Z"
   },
   {
    "duration": 12,
    "start_time": "2022-05-05T10:44:01.766Z"
   },
   {
    "duration": 28,
    "start_time": "2022-05-05T10:44:01.780Z"
   },
   {
    "duration": 27,
    "start_time": "2022-05-05T10:44:01.811Z"
   },
   {
    "duration": 19,
    "start_time": "2022-05-05T10:44:01.840Z"
   },
   {
    "duration": 57,
    "start_time": "2022-05-05T10:44:01.860Z"
   },
   {
    "duration": 80,
    "start_time": "2022-05-05T10:44:01.919Z"
   },
   {
    "duration": 71,
    "start_time": "2022-05-05T10:44:02.000Z"
   },
   {
    "duration": 70,
    "start_time": "2022-05-05T10:44:02.072Z"
   },
   {
    "duration": 41,
    "start_time": "2022-05-05T10:44:02.143Z"
   },
   {
    "duration": 3,
    "start_time": "2022-05-05T10:44:02.186Z"
   },
   {
    "duration": 10,
    "start_time": "2022-05-05T10:44:02.207Z"
   },
   {
    "duration": 15,
    "start_time": "2022-05-05T10:44:02.218Z"
   },
   {
    "duration": 47,
    "start_time": "2022-05-05T10:44:02.235Z"
   },
   {
    "duration": 100,
    "start_time": "2022-05-05T10:44:02.283Z"
   },
   {
    "duration": 5,
    "start_time": "2022-05-05T10:44:08.035Z"
   },
   {
    "duration": 8136,
    "start_time": "2022-05-05T10:44:44.355Z"
   },
   {
    "duration": 2,
    "start_time": "2022-05-05T10:45:12.561Z"
   },
   {
    "duration": 179,
    "start_time": "2022-05-05T10:45:12.565Z"
   },
   {
    "duration": 11,
    "start_time": "2022-05-05T10:45:12.746Z"
   },
   {
    "duration": 32,
    "start_time": "2022-05-05T10:45:12.759Z"
   },
   {
    "duration": 4,
    "start_time": "2022-05-05T10:45:12.807Z"
   },
   {
    "duration": 14,
    "start_time": "2022-05-05T10:45:12.813Z"
   },
   {
    "duration": 4,
    "start_time": "2022-05-05T10:45:12.829Z"
   },
   {
    "duration": 35,
    "start_time": "2022-05-05T10:45:12.834Z"
   },
   {
    "duration": 38,
    "start_time": "2022-05-05T10:45:12.871Z"
   },
   {
    "duration": 26,
    "start_time": "2022-05-05T10:45:12.911Z"
   },
   {
    "duration": 81,
    "start_time": "2022-05-05T10:45:12.940Z"
   },
   {
    "duration": 85,
    "start_time": "2022-05-05T10:45:13.022Z"
   },
   {
    "duration": 60,
    "start_time": "2022-05-05T10:45:13.109Z"
   },
   {
    "duration": 55,
    "start_time": "2022-05-05T10:45:13.171Z"
   },
   {
    "duration": 3,
    "start_time": "2022-05-05T10:45:13.227Z"
   },
   {
    "duration": 13,
    "start_time": "2022-05-05T10:45:13.232Z"
   },
   {
    "duration": 14,
    "start_time": "2022-05-05T10:45:13.247Z"
   },
   {
    "duration": 61,
    "start_time": "2022-05-05T10:45:13.265Z"
   },
   {
    "duration": 92,
    "start_time": "2022-05-05T10:45:13.328Z"
   },
   {
    "duration": 8369,
    "start_time": "2022-05-05T10:45:13.422Z"
   },
   {
    "duration": 5,
    "start_time": "2022-05-05T10:45:21.792Z"
   },
   {
    "duration": 19,
    "start_time": "2022-05-05T10:45:21.799Z"
   },
   {
    "duration": 13,
    "start_time": "2022-05-05T10:45:21.820Z"
   },
   {
    "duration": 4,
    "start_time": "2022-05-05T10:45:21.834Z"
   },
   {
    "duration": 22,
    "start_time": "2022-05-05T10:45:21.839Z"
   },
   {
    "duration": 45,
    "start_time": "2022-05-05T10:45:21.863Z"
   },
   {
    "duration": 16,
    "start_time": "2022-05-05T10:45:21.910Z"
   },
   {
    "duration": 15,
    "start_time": "2022-05-05T10:45:21.928Z"
   },
   {
    "duration": 17,
    "start_time": "2022-05-05T10:45:21.947Z"
   },
   {
    "duration": 43,
    "start_time": "2022-05-05T10:45:21.966Z"
   },
   {
    "duration": 9,
    "start_time": "2022-05-05T10:45:22.010Z"
   },
   {
    "duration": 20,
    "start_time": "2022-05-05T10:45:22.021Z"
   },
   {
    "duration": 14,
    "start_time": "2022-05-05T10:45:22.043Z"
   },
   {
    "duration": 5,
    "start_time": "2022-05-05T10:45:22.059Z"
   },
   {
    "duration": 53,
    "start_time": "2022-05-05T10:45:22.066Z"
   },
   {
    "duration": 0,
    "start_time": "2022-05-05T10:45:22.121Z"
   },
   {
    "duration": 0,
    "start_time": "2022-05-05T10:45:22.122Z"
   },
   {
    "duration": 0,
    "start_time": "2022-05-05T10:45:22.123Z"
   },
   {
    "duration": 0,
    "start_time": "2022-05-05T10:45:22.124Z"
   },
   {
    "duration": 0,
    "start_time": "2022-05-05T10:45:22.126Z"
   },
   {
    "duration": 0,
    "start_time": "2022-05-05T10:45:22.127Z"
   },
   {
    "duration": 0,
    "start_time": "2022-05-05T10:45:22.128Z"
   },
   {
    "duration": 3,
    "start_time": "2022-05-05T10:46:07.898Z"
   },
   {
    "duration": 163,
    "start_time": "2022-05-05T10:46:07.902Z"
   },
   {
    "duration": 11,
    "start_time": "2022-05-05T10:46:08.066Z"
   },
   {
    "duration": 41,
    "start_time": "2022-05-05T10:46:08.079Z"
   },
   {
    "duration": 4,
    "start_time": "2022-05-05T10:46:08.122Z"
   },
   {
    "duration": 9,
    "start_time": "2022-05-05T10:46:08.128Z"
   },
   {
    "duration": 5,
    "start_time": "2022-05-05T10:46:08.139Z"
   },
   {
    "duration": 29,
    "start_time": "2022-05-05T10:46:08.146Z"
   },
   {
    "duration": 20,
    "start_time": "2022-05-05T10:46:08.207Z"
   },
   {
    "duration": 26,
    "start_time": "2022-05-05T10:46:08.228Z"
   },
   {
    "duration": 83,
    "start_time": "2022-05-05T10:46:08.255Z"
   },
   {
    "duration": 81,
    "start_time": "2022-05-05T10:46:08.339Z"
   },
   {
    "duration": 59,
    "start_time": "2022-05-05T10:46:08.422Z"
   },
   {
    "duration": 55,
    "start_time": "2022-05-05T10:46:08.483Z"
   },
   {
    "duration": 3,
    "start_time": "2022-05-05T10:46:08.540Z"
   },
   {
    "duration": 10,
    "start_time": "2022-05-05T10:46:08.545Z"
   },
   {
    "duration": 15,
    "start_time": "2022-05-05T10:46:08.557Z"
   },
   {
    "duration": 68,
    "start_time": "2022-05-05T10:46:08.574Z"
   },
   {
    "duration": 95,
    "start_time": "2022-05-05T10:46:08.644Z"
   },
   {
    "duration": 6,
    "start_time": "2022-05-05T10:46:15.579Z"
   },
   {
    "duration": 11,
    "start_time": "2022-05-05T10:46:27.730Z"
   },
   {
    "duration": 4,
    "start_time": "2022-05-05T10:47:47.651Z"
   },
   {
    "duration": 7,
    "start_time": "2022-05-05T10:48:47.295Z"
   },
   {
    "duration": 635,
    "start_time": "2022-05-05T10:50:09.514Z"
   },
   {
    "duration": 9,
    "start_time": "2022-05-05T10:50:15.729Z"
   },
   {
    "duration": 63,
    "start_time": "2022-05-05T10:54:11.103Z"
   },
   {
    "duration": 64,
    "start_time": "2022-05-05T10:54:33.810Z"
   },
   {
    "duration": 57,
    "start_time": "2022-05-05T10:54:51.655Z"
   },
   {
    "duration": 12,
    "start_time": "2022-05-05T10:56:02.093Z"
   },
   {
    "duration": 56,
    "start_time": "2022-05-05T10:58:10.377Z"
   },
   {
    "duration": 58,
    "start_time": "2022-05-05T10:58:29.400Z"
   },
   {
    "duration": 57,
    "start_time": "2022-05-05T10:58:47.673Z"
   },
   {
    "duration": 38263,
    "start_time": "2022-05-05T11:00:31.028Z"
   },
   {
    "duration": 5,
    "start_time": "2022-05-05T11:01:09.308Z"
   },
   {
    "duration": 11,
    "start_time": "2022-05-05T11:01:49.471Z"
   },
   {
    "duration": 38232,
    "start_time": "2022-05-05T11:02:18.991Z"
   },
   {
    "duration": 14,
    "start_time": "2022-05-05T11:04:33.622Z"
   },
   {
    "duration": 20,
    "start_time": "2022-05-05T11:04:52.461Z"
   },
   {
    "duration": 15,
    "start_time": "2022-05-05T11:05:18.691Z"
   },
   {
    "duration": 21,
    "start_time": "2022-05-05T11:05:47.403Z"
   },
   {
    "duration": 21,
    "start_time": "2022-05-05T11:07:25.420Z"
   },
   {
    "duration": 13,
    "start_time": "2022-05-05T11:08:04.435Z"
   },
   {
    "duration": 3,
    "start_time": "2022-05-05T11:08:26.168Z"
   },
   {
    "duration": 166,
    "start_time": "2022-05-05T11:08:26.173Z"
   },
   {
    "duration": 11,
    "start_time": "2022-05-05T11:08:26.341Z"
   },
   {
    "duration": 36,
    "start_time": "2022-05-05T11:08:26.354Z"
   },
   {
    "duration": 20,
    "start_time": "2022-05-05T11:08:26.393Z"
   },
   {
    "duration": 23,
    "start_time": "2022-05-05T11:08:26.415Z"
   },
   {
    "duration": 14,
    "start_time": "2022-05-05T11:08:26.440Z"
   },
   {
    "duration": 44,
    "start_time": "2022-05-05T11:08:26.456Z"
   },
   {
    "duration": 28,
    "start_time": "2022-05-05T11:08:26.502Z"
   },
   {
    "duration": 26,
    "start_time": "2022-05-05T11:08:26.532Z"
   },
   {
    "duration": 72,
    "start_time": "2022-05-05T11:08:26.561Z"
   },
   {
    "duration": 81,
    "start_time": "2022-05-05T11:08:26.635Z"
   },
   {
    "duration": 61,
    "start_time": "2022-05-05T11:08:26.718Z"
   },
   {
    "duration": 56,
    "start_time": "2022-05-05T11:08:26.780Z"
   },
   {
    "duration": 3,
    "start_time": "2022-05-05T11:08:26.838Z"
   },
   {
    "duration": 13,
    "start_time": "2022-05-05T11:08:26.842Z"
   },
   {
    "duration": 15,
    "start_time": "2022-05-05T11:08:26.856Z"
   },
   {
    "duration": 61,
    "start_time": "2022-05-05T11:08:26.873Z"
   },
   {
    "duration": 88,
    "start_time": "2022-05-05T11:08:26.936Z"
   },
   {
    "duration": 2,
    "start_time": "2022-05-05T11:09:19.910Z"
   },
   {
    "duration": 201,
    "start_time": "2022-05-05T11:09:19.914Z"
   },
   {
    "duration": 11,
    "start_time": "2022-05-05T11:09:20.117Z"
   },
   {
    "duration": 32,
    "start_time": "2022-05-05T11:09:20.130Z"
   },
   {
    "duration": 4,
    "start_time": "2022-05-05T11:09:20.164Z"
   },
   {
    "duration": 10,
    "start_time": "2022-05-05T11:09:20.170Z"
   },
   {
    "duration": 28,
    "start_time": "2022-05-05T11:09:20.181Z"
   },
   {
    "duration": 33,
    "start_time": "2022-05-05T11:09:20.211Z"
   },
   {
    "duration": 20,
    "start_time": "2022-05-05T11:09:20.246Z"
   },
   {
    "duration": 44,
    "start_time": "2022-05-05T11:09:20.268Z"
   },
   {
    "duration": 68,
    "start_time": "2022-05-05T11:09:20.315Z"
   },
   {
    "duration": 85,
    "start_time": "2022-05-05T11:09:20.384Z"
   },
   {
    "duration": 68,
    "start_time": "2022-05-05T11:09:20.471Z"
   },
   {
    "duration": 43,
    "start_time": "2022-05-05T11:09:20.541Z"
   },
   {
    "duration": 3,
    "start_time": "2022-05-05T11:09:20.585Z"
   },
   {
    "duration": 26,
    "start_time": "2022-05-05T11:09:20.590Z"
   },
   {
    "duration": 14,
    "start_time": "2022-05-05T11:09:20.618Z"
   },
   {
    "duration": 42,
    "start_time": "2022-05-05T11:09:20.634Z"
   },
   {
    "duration": 106,
    "start_time": "2022-05-05T11:09:20.677Z"
   },
   {
    "duration": 112850,
    "start_time": "2022-05-05T11:09:20.785Z"
   },
   {
    "duration": 0,
    "start_time": "2022-05-05T11:11:13.637Z"
   },
   {
    "duration": 0,
    "start_time": "2022-05-05T11:11:13.638Z"
   },
   {
    "duration": 0,
    "start_time": "2022-05-05T11:11:13.640Z"
   },
   {
    "duration": 0,
    "start_time": "2022-05-05T11:11:13.640Z"
   },
   {
    "duration": 0,
    "start_time": "2022-05-05T11:11:13.641Z"
   },
   {
    "duration": 0,
    "start_time": "2022-05-05T11:11:13.642Z"
   },
   {
    "duration": 0,
    "start_time": "2022-05-05T11:11:13.643Z"
   },
   {
    "duration": 0,
    "start_time": "2022-05-05T11:11:13.644Z"
   },
   {
    "duration": 0,
    "start_time": "2022-05-05T11:11:13.645Z"
   },
   {
    "duration": 0,
    "start_time": "2022-05-05T11:11:13.645Z"
   },
   {
    "duration": 0,
    "start_time": "2022-05-05T11:11:13.655Z"
   },
   {
    "duration": 0,
    "start_time": "2022-05-05T11:11:13.656Z"
   },
   {
    "duration": 0,
    "start_time": "2022-05-05T11:11:13.657Z"
   },
   {
    "duration": 0,
    "start_time": "2022-05-05T11:11:13.658Z"
   },
   {
    "duration": 0,
    "start_time": "2022-05-05T11:11:13.659Z"
   },
   {
    "duration": 0,
    "start_time": "2022-05-05T11:11:13.660Z"
   },
   {
    "duration": 0,
    "start_time": "2022-05-05T11:11:13.661Z"
   },
   {
    "duration": 0,
    "start_time": "2022-05-05T11:11:13.662Z"
   },
   {
    "duration": 0,
    "start_time": "2022-05-05T11:11:13.663Z"
   },
   {
    "duration": 0,
    "start_time": "2022-05-05T11:11:13.664Z"
   },
   {
    "duration": 0,
    "start_time": "2022-05-05T11:11:13.665Z"
   },
   {
    "duration": 0,
    "start_time": "2022-05-05T11:11:13.666Z"
   },
   {
    "duration": 2,
    "start_time": "2022-05-05T11:11:53.132Z"
   },
   {
    "duration": 150,
    "start_time": "2022-05-05T11:11:53.136Z"
   },
   {
    "duration": 12,
    "start_time": "2022-05-05T11:11:53.288Z"
   },
   {
    "duration": 33,
    "start_time": "2022-05-05T11:11:53.301Z"
   },
   {
    "duration": 4,
    "start_time": "2022-05-05T11:11:53.337Z"
   },
   {
    "duration": 10,
    "start_time": "2022-05-05T11:11:53.342Z"
   },
   {
    "duration": 4,
    "start_time": "2022-05-05T11:11:53.353Z"
   },
   {
    "duration": 52,
    "start_time": "2022-05-05T11:11:53.359Z"
   },
   {
    "duration": 19,
    "start_time": "2022-05-05T11:11:53.413Z"
   },
   {
    "duration": 30,
    "start_time": "2022-05-05T11:11:53.434Z"
   },
   {
    "duration": 82,
    "start_time": "2022-05-05T11:11:53.467Z"
   },
   {
    "duration": 79,
    "start_time": "2022-05-05T11:11:53.551Z"
   },
   {
    "duration": 55,
    "start_time": "2022-05-05T11:11:53.632Z"
   },
   {
    "duration": 49,
    "start_time": "2022-05-05T11:11:53.689Z"
   },
   {
    "duration": 3,
    "start_time": "2022-05-05T11:11:53.740Z"
   },
   {
    "duration": 12,
    "start_time": "2022-05-05T11:11:53.744Z"
   },
   {
    "duration": 14,
    "start_time": "2022-05-05T11:11:53.757Z"
   },
   {
    "duration": 66,
    "start_time": "2022-05-05T11:11:53.772Z"
   },
   {
    "duration": 93,
    "start_time": "2022-05-05T11:11:53.840Z"
   },
   {
    "duration": 14119,
    "start_time": "2022-05-05T11:13:01.474Z"
   },
   {
    "duration": 2,
    "start_time": "2022-05-05T11:13:24.272Z"
   },
   {
    "duration": 153,
    "start_time": "2022-05-05T11:13:24.276Z"
   },
   {
    "duration": 11,
    "start_time": "2022-05-05T11:13:24.430Z"
   },
   {
    "duration": 31,
    "start_time": "2022-05-05T11:13:24.443Z"
   },
   {
    "duration": 3,
    "start_time": "2022-05-05T11:13:24.476Z"
   },
   {
    "duration": 27,
    "start_time": "2022-05-05T11:13:24.481Z"
   },
   {
    "duration": 4,
    "start_time": "2022-05-05T11:13:24.509Z"
   },
   {
    "duration": 26,
    "start_time": "2022-05-05T11:13:24.515Z"
   },
   {
    "duration": 18,
    "start_time": "2022-05-05T11:13:24.543Z"
   },
   {
    "duration": 50,
    "start_time": "2022-05-05T11:13:24.563Z"
   },
   {
    "duration": 62,
    "start_time": "2022-05-05T11:13:24.615Z"
   },
   {
    "duration": 129,
    "start_time": "2022-05-05T11:13:24.678Z"
   },
   {
    "duration": 59,
    "start_time": "2022-05-05T11:13:24.809Z"
   },
   {
    "duration": 54,
    "start_time": "2022-05-05T11:13:24.869Z"
   },
   {
    "duration": 3,
    "start_time": "2022-05-05T11:13:24.925Z"
   },
   {
    "duration": 15,
    "start_time": "2022-05-05T11:13:24.929Z"
   },
   {
    "duration": 14,
    "start_time": "2022-05-05T11:13:24.945Z"
   },
   {
    "duration": 62,
    "start_time": "2022-05-05T11:13:24.961Z"
   },
   {
    "duration": 90,
    "start_time": "2022-05-05T11:13:25.025Z"
   },
   {
    "duration": 3,
    "start_time": "2022-05-05T11:17:28.732Z"
   },
   {
    "duration": 155,
    "start_time": "2022-05-05T11:17:28.737Z"
   },
   {
    "duration": 10,
    "start_time": "2022-05-05T11:17:28.895Z"
   },
   {
    "duration": 32,
    "start_time": "2022-05-05T11:17:28.906Z"
   },
   {
    "duration": 3,
    "start_time": "2022-05-05T11:17:28.941Z"
   },
   {
    "duration": 10,
    "start_time": "2022-05-05T11:17:28.945Z"
   },
   {
    "duration": 4,
    "start_time": "2022-05-05T11:17:28.956Z"
   },
   {
    "duration": 53,
    "start_time": "2022-05-05T11:17:28.962Z"
   },
   {
    "duration": 18,
    "start_time": "2022-05-05T11:17:29.017Z"
   },
   {
    "duration": 26,
    "start_time": "2022-05-05T11:17:29.037Z"
   },
   {
    "duration": 89,
    "start_time": "2022-05-05T11:17:29.065Z"
   },
   {
    "duration": 76,
    "start_time": "2022-05-05T11:17:29.155Z"
   },
   {
    "duration": 59,
    "start_time": "2022-05-05T11:17:29.232Z"
   },
   {
    "duration": 52,
    "start_time": "2022-05-05T11:17:29.293Z"
   },
   {
    "duration": 3,
    "start_time": "2022-05-05T11:17:29.347Z"
   },
   {
    "duration": 10,
    "start_time": "2022-05-05T11:17:29.352Z"
   },
   {
    "duration": 14,
    "start_time": "2022-05-05T11:17:29.364Z"
   },
   {
    "duration": 66,
    "start_time": "2022-05-05T11:17:29.380Z"
   },
   {
    "duration": 94,
    "start_time": "2022-05-05T11:17:29.447Z"
   },
   {
    "duration": 2,
    "start_time": "2022-05-05T11:21:32.021Z"
   },
   {
    "duration": 196,
    "start_time": "2022-05-05T11:21:32.026Z"
   },
   {
    "duration": 10,
    "start_time": "2022-05-05T11:21:32.224Z"
   },
   {
    "duration": 43,
    "start_time": "2022-05-05T11:21:32.236Z"
   },
   {
    "duration": 6,
    "start_time": "2022-05-05T11:21:32.281Z"
   },
   {
    "duration": 24,
    "start_time": "2022-05-05T11:21:32.289Z"
   },
   {
    "duration": 12,
    "start_time": "2022-05-05T11:21:32.315Z"
   },
   {
    "duration": 38,
    "start_time": "2022-05-05T11:21:32.329Z"
   },
   {
    "duration": 35,
    "start_time": "2022-05-05T11:21:32.369Z"
   },
   {
    "duration": 38,
    "start_time": "2022-05-05T11:21:32.406Z"
   },
   {
    "duration": 71,
    "start_time": "2022-05-05T11:21:32.448Z"
   },
   {
    "duration": 72,
    "start_time": "2022-05-05T11:21:32.521Z"
   },
   {
    "duration": 71,
    "start_time": "2022-05-05T11:21:32.594Z"
   },
   {
    "duration": 60,
    "start_time": "2022-05-05T11:21:32.667Z"
   },
   {
    "duration": 4,
    "start_time": "2022-05-05T11:21:32.729Z"
   },
   {
    "duration": 21,
    "start_time": "2022-05-05T11:21:32.735Z"
   },
   {
    "duration": 33,
    "start_time": "2022-05-05T11:21:32.758Z"
   },
   {
    "duration": 55,
    "start_time": "2022-05-05T11:21:32.793Z"
   },
   {
    "duration": 89,
    "start_time": "2022-05-05T11:21:32.851Z"
   },
   {
    "duration": 14,
    "start_time": "2022-05-05T11:21:32.943Z"
   },
   {
    "duration": 20,
    "start_time": "2022-05-05T11:21:32.959Z"
   },
   {
    "duration": 12,
    "start_time": "2022-05-05T11:21:32.981Z"
   },
   {
    "duration": 30,
    "start_time": "2022-05-05T11:21:33.007Z"
   },
   {
    "duration": 15,
    "start_time": "2022-05-05T11:21:33.038Z"
   },
   {
    "duration": 34,
    "start_time": "2022-05-05T11:21:33.055Z"
   },
   {
    "duration": 30,
    "start_time": "2022-05-05T11:21:33.090Z"
   },
   {
    "duration": 44,
    "start_time": "2022-05-05T11:21:33.121Z"
   },
   {
    "duration": 36,
    "start_time": "2022-05-05T11:21:33.168Z"
   },
   {
    "duration": 8,
    "start_time": "2022-05-05T11:21:33.208Z"
   },
   {
    "duration": 35,
    "start_time": "2022-05-05T11:21:33.218Z"
   },
   {
    "duration": 31,
    "start_time": "2022-05-05T11:21:33.254Z"
   },
   {
    "duration": 5,
    "start_time": "2022-05-05T11:21:33.288Z"
   },
   {
    "duration": 66,
    "start_time": "2022-05-05T11:21:33.294Z"
   },
   {
    "duration": 22,
    "start_time": "2022-05-05T11:21:33.362Z"
   },
   {
    "duration": 31,
    "start_time": "2022-05-05T11:21:33.386Z"
   },
   {
    "duration": 18,
    "start_time": "2022-05-05T11:21:33.418Z"
   },
   {
    "duration": 21,
    "start_time": "2022-05-05T11:21:33.438Z"
   },
   {
    "duration": 9,
    "start_time": "2022-05-05T11:21:33.461Z"
   },
   {
    "duration": 21,
    "start_time": "2022-05-05T11:21:33.472Z"
   },
   {
    "duration": 6,
    "start_time": "2022-05-05T11:21:33.494Z"
   },
   {
    "duration": 3,
    "start_time": "2022-05-05T11:23:14.744Z"
   },
   {
    "duration": 3,
    "start_time": "2022-05-05T11:23:41.455Z"
   },
   {
    "duration": 4,
    "start_time": "2022-05-05T11:23:52.705Z"
   },
   {
    "duration": 3,
    "start_time": "2022-05-05T11:24:53.821Z"
   },
   {
    "duration": 4,
    "start_time": "2022-05-05T11:25:01.184Z"
   },
   {
    "duration": 3,
    "start_time": "2022-05-05T11:27:05.659Z"
   },
   {
    "duration": 168,
    "start_time": "2022-05-05T11:27:05.664Z"
   },
   {
    "duration": 11,
    "start_time": "2022-05-05T11:27:05.834Z"
   },
   {
    "duration": 33,
    "start_time": "2022-05-05T11:27:05.847Z"
   },
   {
    "duration": 27,
    "start_time": "2022-05-05T11:27:05.882Z"
   },
   {
    "duration": 8,
    "start_time": "2022-05-05T11:27:05.910Z"
   },
   {
    "duration": 7,
    "start_time": "2022-05-05T11:27:05.920Z"
   },
   {
    "duration": 28,
    "start_time": "2022-05-05T11:27:05.929Z"
   },
   {
    "duration": 19,
    "start_time": "2022-05-05T11:27:05.960Z"
   },
   {
    "duration": 49,
    "start_time": "2022-05-05T11:27:05.980Z"
   },
   {
    "duration": 88,
    "start_time": "2022-05-05T11:27:06.030Z"
   },
   {
    "duration": 78,
    "start_time": "2022-05-05T11:27:06.119Z"
   },
   {
    "duration": 62,
    "start_time": "2022-05-05T11:27:06.207Z"
   },
   {
    "duration": 54,
    "start_time": "2022-05-05T11:27:06.270Z"
   },
   {
    "duration": 3,
    "start_time": "2022-05-05T11:27:06.326Z"
   },
   {
    "duration": 12,
    "start_time": "2022-05-05T11:27:06.330Z"
   },
   {
    "duration": 13,
    "start_time": "2022-05-05T11:27:06.344Z"
   },
   {
    "duration": 61,
    "start_time": "2022-05-05T11:27:06.359Z"
   },
   {
    "duration": 13,
    "start_time": "2022-05-05T11:27:06.422Z"
   },
   {
    "duration": 13,
    "start_time": "2022-05-05T11:27:06.436Z"
   },
   {
    "duration": 4,
    "start_time": "2022-05-05T11:27:06.450Z"
   },
   {
    "duration": 19,
    "start_time": "2022-05-05T11:27:06.455Z"
   },
   {
    "duration": 45,
    "start_time": "2022-05-05T11:27:06.475Z"
   },
   {
    "duration": 15,
    "start_time": "2022-05-05T11:27:06.523Z"
   },
   {
    "duration": 15,
    "start_time": "2022-05-05T11:27:06.539Z"
   },
   {
    "duration": 17,
    "start_time": "2022-05-05T11:27:06.555Z"
   },
   {
    "duration": 50,
    "start_time": "2022-05-05T11:27:06.573Z"
   },
   {
    "duration": 9,
    "start_time": "2022-05-05T11:27:06.624Z"
   },
   {
    "duration": 19,
    "start_time": "2022-05-05T11:27:06.635Z"
   },
   {
    "duration": 15,
    "start_time": "2022-05-05T11:27:06.655Z"
   },
   {
    "duration": 3,
    "start_time": "2022-05-05T11:27:06.672Z"
   },
   {
    "duration": 28,
    "start_time": "2022-05-05T11:27:06.707Z"
   },
   {
    "duration": 19,
    "start_time": "2022-05-05T11:27:06.737Z"
   },
   {
    "duration": 57,
    "start_time": "2022-05-05T11:27:06.757Z"
   },
   {
    "duration": 20,
    "start_time": "2022-05-05T11:27:06.815Z"
   },
   {
    "duration": 10,
    "start_time": "2022-05-05T11:27:06.836Z"
   },
   {
    "duration": 5,
    "start_time": "2022-05-05T11:27:06.847Z"
   },
   {
    "duration": 8,
    "start_time": "2022-05-05T11:27:06.853Z"
   },
   {
    "duration": 4,
    "start_time": "2022-05-05T11:27:06.863Z"
   },
   {
    "duration": 5,
    "start_time": "2022-05-05T11:27:35.779Z"
   },
   {
    "duration": 5,
    "start_time": "2022-05-05T11:28:07.762Z"
   },
   {
    "duration": 3,
    "start_time": "2022-05-05T11:29:48.912Z"
   },
   {
    "duration": 176,
    "start_time": "2022-05-05T11:29:48.917Z"
   },
   {
    "duration": 20,
    "start_time": "2022-05-05T11:29:49.094Z"
   },
   {
    "duration": 30,
    "start_time": "2022-05-05T11:29:49.117Z"
   },
   {
    "duration": 4,
    "start_time": "2022-05-05T11:29:49.149Z"
   },
   {
    "duration": 10,
    "start_time": "2022-05-05T11:29:49.154Z"
   },
   {
    "duration": 4,
    "start_time": "2022-05-05T11:29:49.165Z"
   },
   {
    "duration": 62,
    "start_time": "2022-05-05T11:29:49.170Z"
   },
   {
    "duration": 19,
    "start_time": "2022-05-05T11:29:49.235Z"
   },
   {
    "duration": 26,
    "start_time": "2022-05-05T11:29:49.256Z"
   },
   {
    "duration": 83,
    "start_time": "2022-05-05T11:29:49.284Z"
   },
   {
    "duration": 82,
    "start_time": "2022-05-05T11:29:49.368Z"
   },
   {
    "duration": 63,
    "start_time": "2022-05-05T11:29:49.452Z"
   },
   {
    "duration": 41,
    "start_time": "2022-05-05T11:29:49.517Z"
   },
   {
    "duration": 3,
    "start_time": "2022-05-05T11:29:49.559Z"
   },
   {
    "duration": 11,
    "start_time": "2022-05-05T11:29:49.564Z"
   },
   {
    "duration": 38,
    "start_time": "2022-05-05T11:29:49.577Z"
   },
   {
    "duration": 42,
    "start_time": "2022-05-05T11:29:49.616Z"
   },
   {
    "duration": 15,
    "start_time": "2022-05-05T11:29:49.660Z"
   },
   {
    "duration": 38,
    "start_time": "2022-05-05T11:29:49.677Z"
   },
   {
    "duration": 3,
    "start_time": "2022-05-05T11:29:49.717Z"
   },
   {
    "duration": 20,
    "start_time": "2022-05-05T11:29:49.722Z"
   },
   {
    "duration": 27,
    "start_time": "2022-05-05T11:29:49.744Z"
   },
   {
    "duration": 40,
    "start_time": "2022-05-05T11:29:49.776Z"
   },
   {
    "duration": 15,
    "start_time": "2022-05-05T11:29:49.818Z"
   },
   {
    "duration": 17,
    "start_time": "2022-05-05T11:29:49.834Z"
   },
   {
    "duration": 15,
    "start_time": "2022-05-05T11:29:49.853Z"
   },
   {
    "duration": 39,
    "start_time": "2022-05-05T11:29:49.870Z"
   },
   {
    "duration": 24,
    "start_time": "2022-05-05T11:29:49.910Z"
   },
   {
    "duration": 13,
    "start_time": "2022-05-05T11:29:49.936Z"
   },
   {
    "duration": 4,
    "start_time": "2022-05-05T11:29:49.951Z"
   },
   {
    "duration": 52,
    "start_time": "2022-05-05T11:29:49.957Z"
   },
   {
    "duration": 19,
    "start_time": "2022-05-05T11:29:50.010Z"
   },
   {
    "duration": 31,
    "start_time": "2022-05-05T11:29:50.030Z"
   },
   {
    "duration": 44,
    "start_time": "2022-05-05T11:29:50.063Z"
   },
   {
    "duration": 11,
    "start_time": "2022-05-05T11:29:50.109Z"
   },
   {
    "duration": 7,
    "start_time": "2022-05-05T11:29:50.121Z"
   },
   {
    "duration": 12,
    "start_time": "2022-05-05T11:29:50.130Z"
   },
   {
    "duration": 4,
    "start_time": "2022-05-05T11:29:50.144Z"
   },
   {
    "duration": 388,
    "start_time": "2022-05-07T16:09:26.220Z"
   },
   {
    "duration": 153,
    "start_time": "2022-05-07T16:09:26.610Z"
   },
   {
    "duration": 17,
    "start_time": "2022-05-07T16:09:26.765Z"
   },
   {
    "duration": 33,
    "start_time": "2022-05-07T16:09:26.784Z"
   },
   {
    "duration": 4,
    "start_time": "2022-05-07T16:09:26.818Z"
   },
   {
    "duration": 12,
    "start_time": "2022-05-07T16:09:26.824Z"
   },
   {
    "duration": 4,
    "start_time": "2022-05-07T16:09:26.837Z"
   },
   {
    "duration": 51,
    "start_time": "2022-05-07T16:09:26.842Z"
   },
   {
    "duration": 17,
    "start_time": "2022-05-07T16:09:26.895Z"
   },
   {
    "duration": 25,
    "start_time": "2022-05-07T16:09:26.915Z"
   },
   {
    "duration": 84,
    "start_time": "2022-05-07T16:09:26.941Z"
   },
   {
    "duration": 80,
    "start_time": "2022-05-07T16:09:27.026Z"
   },
   {
    "duration": 59,
    "start_time": "2022-05-07T16:09:27.107Z"
   },
   {
    "duration": 47,
    "start_time": "2022-05-07T16:09:27.167Z"
   },
   {
    "duration": 3,
    "start_time": "2022-05-07T16:09:27.216Z"
   },
   {
    "duration": 13,
    "start_time": "2022-05-07T16:09:27.220Z"
   },
   {
    "duration": 14,
    "start_time": "2022-05-07T16:09:27.234Z"
   },
   {
    "duration": 65,
    "start_time": "2022-05-07T16:09:27.250Z"
   },
   {
    "duration": 13,
    "start_time": "2022-05-07T16:09:27.316Z"
   },
   {
    "duration": 12,
    "start_time": "2022-05-07T16:09:27.331Z"
   },
   {
    "duration": 3,
    "start_time": "2022-05-07T16:09:27.345Z"
   },
   {
    "duration": 42,
    "start_time": "2022-05-07T16:09:27.350Z"
   },
   {
    "duration": 14,
    "start_time": "2022-05-07T16:09:27.394Z"
   },
   {
    "duration": 13,
    "start_time": "2022-05-07T16:09:27.410Z"
   },
   {
    "duration": 13,
    "start_time": "2022-05-07T16:09:27.425Z"
   },
   {
    "duration": 16,
    "start_time": "2022-05-07T16:09:27.439Z"
   },
   {
    "duration": 43,
    "start_time": "2022-05-07T16:09:27.457Z"
   },
   {
    "duration": 7,
    "start_time": "2022-05-07T16:09:27.503Z"
   },
   {
    "duration": 15,
    "start_time": "2022-05-07T16:09:27.512Z"
   },
   {
    "duration": 9,
    "start_time": "2022-05-07T16:09:27.529Z"
   },
   {
    "duration": 4,
    "start_time": "2022-05-07T16:09:27.540Z"
   },
   {
    "duration": 50,
    "start_time": "2022-05-07T16:09:27.545Z"
   },
   {
    "duration": 16,
    "start_time": "2022-05-07T16:09:27.597Z"
   },
   {
    "duration": 30,
    "start_time": "2022-05-07T16:09:27.615Z"
   },
   {
    "duration": 16,
    "start_time": "2022-05-07T16:09:27.646Z"
   },
   {
    "duration": 29,
    "start_time": "2022-05-07T16:09:27.663Z"
   },
   {
    "duration": 5,
    "start_time": "2022-05-07T16:09:27.694Z"
   },
   {
    "duration": 9,
    "start_time": "2022-05-07T16:09:27.701Z"
   },
   {
    "duration": 4,
    "start_time": "2022-05-07T16:09:27.712Z"
   },
   {
    "duration": 550,
    "start_time": "2022-05-07T20:30:12.179Z"
   },
   {
    "duration": 166,
    "start_time": "2022-05-07T20:30:12.731Z"
   },
   {
    "duration": 18,
    "start_time": "2022-05-07T20:30:12.899Z"
   },
   {
    "duration": 46,
    "start_time": "2022-05-07T20:30:12.919Z"
   },
   {
    "duration": 14,
    "start_time": "2022-05-07T20:30:12.967Z"
   },
   {
    "duration": 26,
    "start_time": "2022-05-07T20:30:12.983Z"
   },
   {
    "duration": 16,
    "start_time": "2022-05-07T20:30:13.010Z"
   },
   {
    "duration": 43,
    "start_time": "2022-05-07T20:30:13.028Z"
   },
   {
    "duration": 34,
    "start_time": "2022-05-07T20:30:13.073Z"
   },
   {
    "duration": 30,
    "start_time": "2022-05-07T20:30:13.110Z"
   },
   {
    "duration": 92,
    "start_time": "2022-05-07T20:30:13.142Z"
   },
   {
    "duration": 82,
    "start_time": "2022-05-07T20:30:13.236Z"
   },
   {
    "duration": 70,
    "start_time": "2022-05-07T20:30:13.320Z"
   },
   {
    "duration": 42,
    "start_time": "2022-05-07T20:30:13.391Z"
   },
   {
    "duration": 3,
    "start_time": "2022-05-07T20:30:13.435Z"
   },
   {
    "duration": 37,
    "start_time": "2022-05-07T20:30:13.440Z"
   },
   {
    "duration": 22,
    "start_time": "2022-05-07T20:30:13.478Z"
   },
   {
    "duration": 61,
    "start_time": "2022-05-07T20:30:13.502Z"
   },
   {
    "duration": 12,
    "start_time": "2022-05-07T20:30:13.564Z"
   },
   {
    "duration": 28,
    "start_time": "2022-05-07T20:30:13.578Z"
   },
   {
    "duration": 22,
    "start_time": "2022-05-07T20:30:13.608Z"
   },
   {
    "duration": 37,
    "start_time": "2022-05-07T20:30:13.632Z"
   },
   {
    "duration": 16,
    "start_time": "2022-05-07T20:30:13.671Z"
   },
   {
    "duration": 33,
    "start_time": "2022-05-07T20:30:13.689Z"
   },
   {
    "duration": 31,
    "start_time": "2022-05-07T20:30:13.724Z"
   },
   {
    "duration": 29,
    "start_time": "2022-05-07T20:30:13.757Z"
   },
   {
    "duration": 38,
    "start_time": "2022-05-07T20:30:13.788Z"
   },
   {
    "duration": 15,
    "start_time": "2022-05-07T20:30:13.829Z"
   },
   {
    "duration": 28,
    "start_time": "2022-05-07T20:30:13.846Z"
   },
   {
    "duration": 19,
    "start_time": "2022-05-07T20:30:13.876Z"
   },
   {
    "duration": 15,
    "start_time": "2022-05-07T20:30:13.896Z"
   },
   {
    "duration": 46,
    "start_time": "2022-05-07T20:30:13.913Z"
   },
   {
    "duration": 17,
    "start_time": "2022-05-07T20:30:13.960Z"
   },
   {
    "duration": 31,
    "start_time": "2022-05-07T20:30:13.979Z"
   },
   {
    "duration": 28,
    "start_time": "2022-05-07T20:30:14.011Z"
   },
   {
    "duration": 10,
    "start_time": "2022-05-07T20:30:14.041Z"
   },
   {
    "duration": 7,
    "start_time": "2022-05-07T20:30:14.052Z"
   },
   {
    "duration": 10,
    "start_time": "2022-05-07T20:30:14.060Z"
   },
   {
    "duration": 8,
    "start_time": "2022-05-07T20:30:14.072Z"
   },
   {
    "duration": 3,
    "start_time": "2022-05-07T20:34:43.970Z"
   },
   {
    "duration": 178,
    "start_time": "2022-05-07T20:34:43.977Z"
   },
   {
    "duration": 11,
    "start_time": "2022-05-07T20:34:44.157Z"
   },
   {
    "duration": 33,
    "start_time": "2022-05-07T20:34:44.170Z"
   },
   {
    "duration": 4,
    "start_time": "2022-05-07T20:34:44.206Z"
   },
   {
    "duration": 43,
    "start_time": "2022-05-07T20:34:44.212Z"
   },
   {
    "duration": 4,
    "start_time": "2022-05-07T20:34:44.257Z"
   },
   {
    "duration": 33,
    "start_time": "2022-05-07T20:34:44.263Z"
   },
   {
    "duration": 27,
    "start_time": "2022-05-07T20:34:44.297Z"
   },
   {
    "duration": 36,
    "start_time": "2022-05-07T20:34:44.326Z"
   },
   {
    "duration": 71,
    "start_time": "2022-05-07T20:34:44.365Z"
   },
   {
    "duration": 87,
    "start_time": "2022-05-07T20:34:44.437Z"
   },
   {
    "duration": 77,
    "start_time": "2022-05-07T20:34:44.526Z"
   },
   {
    "duration": 49,
    "start_time": "2022-05-07T20:34:44.605Z"
   },
   {
    "duration": 3,
    "start_time": "2022-05-07T20:34:44.656Z"
   },
   {
    "duration": 14,
    "start_time": "2022-05-07T20:34:44.660Z"
   },
   {
    "duration": 14,
    "start_time": "2022-05-07T20:34:44.675Z"
   },
   {
    "duration": 64,
    "start_time": "2022-05-07T20:34:44.691Z"
   },
   {
    "duration": 13,
    "start_time": "2022-05-07T20:34:44.756Z"
   },
   {
    "duration": 12,
    "start_time": "2022-05-07T20:34:44.770Z"
   },
   {
    "duration": 4,
    "start_time": "2022-05-07T20:34:44.783Z"
   },
   {
    "duration": 21,
    "start_time": "2022-05-07T20:34:44.788Z"
   },
   {
    "duration": 54,
    "start_time": "2022-05-07T20:34:44.810Z"
   },
   {
    "duration": 15,
    "start_time": "2022-05-07T20:34:44.866Z"
   },
   {
    "duration": 15,
    "start_time": "2022-05-07T20:34:44.882Z"
   },
   {
    "duration": 18,
    "start_time": "2022-05-07T20:34:44.898Z"
   },
   {
    "duration": 17,
    "start_time": "2022-05-07T20:34:44.954Z"
   },
   {
    "duration": 9,
    "start_time": "2022-05-07T20:34:44.973Z"
   },
   {
    "duration": 20,
    "start_time": "2022-05-07T20:34:44.986Z"
   },
   {
    "duration": 15,
    "start_time": "2022-05-07T20:34:45.008Z"
   },
   {
    "duration": 31,
    "start_time": "2022-05-07T20:34:45.025Z"
   },
   {
    "duration": 26,
    "start_time": "2022-05-07T20:34:45.058Z"
   },
   {
    "duration": 12,
    "start_time": "2022-05-07T20:34:45.086Z"
   },
   {
    "duration": 15,
    "start_time": "2022-05-07T20:34:45.100Z"
   },
   {
    "duration": 41,
    "start_time": "2022-05-07T20:34:45.117Z"
   },
   {
    "duration": 9,
    "start_time": "2022-05-07T20:34:45.160Z"
   },
   {
    "duration": 5,
    "start_time": "2022-05-07T20:34:45.171Z"
   },
   {
    "duration": 8,
    "start_time": "2022-05-07T20:34:45.178Z"
   },
   {
    "duration": 5,
    "start_time": "2022-05-07T20:34:45.187Z"
   }
  ],
  "colab": {
   "collapsed_sections": [
    "E0vqbgi9ay0H",
    "VUC88oWjTJw2"
   ],
   "name": "yandex_music_project.ipynb",
   "provenance": []
  },
  "kernelspec": {
   "display_name": "Python 3 (ipykernel)",
   "language": "python",
   "name": "python3"
  },
  "language_info": {
   "codemirror_mode": {
    "name": "ipython",
    "version": 3
   },
   "file_extension": ".py",
   "mimetype": "text/x-python",
   "name": "python",
   "nbconvert_exporter": "python",
   "pygments_lexer": "ipython3",
   "version": "3.9.7"
  },
  "toc": {
   "base_numbering": 1,
   "nav_menu": {},
   "number_sections": true,
   "sideBar": true,
   "skip_h1_title": true,
   "title_cell": "Table of Contents",
   "title_sidebar": "Contents",
   "toc_cell": false,
   "toc_position": {
    "height": "calc(100% - 180px)",
    "left": "10px",
    "top": "150px",
    "width": "286.234px"
   },
   "toc_section_display": true,
   "toc_window_display": true
  }
 },
 "nbformat": 4,
 "nbformat_minor": 1
}
